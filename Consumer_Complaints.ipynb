{
 "cells": [
  {
   "cell_type": "markdown",
   "id": "9795d2b1",
   "metadata": {},
   "source": [
    "## Multiclass Text Classification on Consumer Complaints for Financial Products with Multinomial Naive Bayes and XGBoost\n",
    "#### Author: Georgios Spyrou (georgios.spyrou1@gmail.com)\n",
    "#### Completion Date: 26/09/2021\n",
    "\n",
    "#### Machine Learning Engineer Nanodegree Program - Capstone Project\n",
    "\n",
    "## Sections"
   ]
  },
  {
   "cell_type": "markdown",
   "id": "557fde0f",
   "metadata": {},
   "source": [
    "<a id='Introduction'></a>\n",
    "## Introduction\n",
    "\n",
    "The data used in this project contain complaints that have been made by consumers regarding financial services and products (e.g. student loans, credit reports, mortgage, etc) in the United States between November 2011 and May 2019. Each of the complaints is marked to belong under one Product Category. This makes the data ideal for supervised learning purposes, with the text (complaint from the consumer) as the **input**, and the category that the complaint belongs to as the **target** variable.\n",
    "\n",
    "Predicting the correct category that a complaint belongs to can be very beneficial for the financial institutions (companies) that have to deal with responding to hundreds of complaints per day. If the customer who is filling the complaint does not submit it under the correct category, then that becomes a cost for the financial institution as -usually- they will have to:\n",
    "\n",
    "   1) Identify that a complaint is under the wrong category in the first place, which is something that happens only after someone has already spent time with the case. <br>\n",
    "   2) Re-classify and redirect the complaint to the correct category and the appropriate personnel for further examination. \n",
    "\n",
    "Therefore, it's straighforward to understand the importance of an automated system that can identify the complaint category by looking at the compaint itself (input from the client), and automatically forward the case to the team responsible for this \"group\" of complaints. In this project, we will attempt to create models that could offer the above functionality and evaluate their performance, so that we can answer the question: _Would it worth it for a company to integrate a system like this into their main processes ?_\n",
    "\n",
    "The dataset for this project is publicly available and it's getting updated daily from the USA Consumer Financial Protection Bureau. The latest version can be found <a href=\"https://catalog.data.gov/dataset/consumer-complaint-database\" style=\"text-decoration: none\"> here</a>.\n",
    "\n",
    "After this quick introduction, we can move to the main part of the project. At the beggining we will load the dataset, perform any necessary data cleaning operations and continue with the exploratory data analysis part, so that we can get a better understanding of the dataset. Afterwards, we will make sure that we understand the data (EDA) and we will proceed to the modeling part where we are going to create different types of classification algorithms and compare their performance on predicting the category to which each complaint should fall into.\n",
    "\n",
    "<a id='Data_Loading'></a>\n",
    "## Part 1 - Data Retrieval\n",
    "\n",
    "We can start by importing the necessary python packages, setup the project directory and load the dataset so we can get a better understanding of the data format."
   ]
  },
  {
   "cell_type": "code",
   "execution_count": 21,
   "id": "fda5dd46",
   "metadata": {},
   "outputs": [
    {
     "name": "stdout",
     "output_type": "stream",
     "text": [
      "Requirement already satisfied: wget in /home/ec2-user/anaconda3/envs/pytorch_p36/lib/python3.6/site-packages (3.2)\n",
      "\u001b[33mWARNING: You are using pip version 21.2.4; however, version 21.3 is available.\n",
      "You should consider upgrading via the '/home/ec2-user/anaconda3/envs/pytorch_p36/bin/python -m pip install --upgrade pip' command.\u001b[0m\n"
     ]
    }
   ],
   "source": [
    "!pip install wget"
   ]
  },
  {
   "cell_type": "code",
   "execution_count": 22,
   "id": "9f8eff57",
   "metadata": {},
   "outputs": [],
   "source": [
    "import os\n",
    "import wget\n",
    "import nltk\n",
    "import json\n",
    "import zipfile\n",
    "import pandas as pd\n",
    "import numpy as np\n",
    "from pathlib import Path\n",
    "\n",
    "import seaborn as sns\n",
    "sns.set_style(\"darkgrid\")\n",
    "import matplotlib.pyplot as plt\n",
    "\n",
    "\n",
    "import warnings\n",
    "warnings.filterwarnings(\"ignore\", category=FutureWarning)"
   ]
  },
  {
   "cell_type": "code",
   "execution_count": 23,
   "id": "ed52cde1",
   "metadata": {},
   "outputs": [
    {
     "name": "stderr",
     "output_type": "stream",
     "text": [
      "[nltk_data] Downloading package stopwords to\n",
      "[nltk_data]     /home/ec2-user/nltk_data...\n",
      "[nltk_data]   Package stopwords is already up-to-date!\n",
      "[nltk_data] Downloading package punkt to /home/ec2-user/nltk_data...\n",
      "[nltk_data]   Package punkt is already up-to-date!\n",
      "[nltk_data] Downloading package wordnet to /home/ec2-user/nltk_data...\n",
      "[nltk_data]   Package wordnet is already up-to-date!\n"
     ]
    },
    {
     "data": {
      "text/plain": [
       "True"
      ]
     },
     "execution_count": 23,
     "metadata": {},
     "output_type": "execute_result"
    }
   ],
   "source": [
    "nltk.download('stopwords')\n",
    "nltk.download('punkt')\n",
    "nltk.download('wordnet')"
   ]
  },
  {
   "cell_type": "code",
   "execution_count": 24,
   "id": "473ac020",
   "metadata": {},
   "outputs": [
    {
     "name": "stdout",
     "output_type": "stream",
     "text": [
      "The project directory is '/home/ec2-user/SageMaker/Capstone'\n"
     ]
    }
   ],
   "source": [
    "project_dir = os.getcwd()\n",
    "print(\"The project directory is '{0}'\".format(project_dir))"
   ]
  },
  {
   "cell_type": "markdown",
   "id": "56dee482",
   "metadata": {},
   "source": [
    "Now that we have created and setup a project directory, we can move ahead and retrieve the data from the main source. We can find the relevant information regarding the URL from which we will use to retrieve the data, as well as the output folder name (local) inside the 'config.json' file. This file will be used throughout the project to save configuration information."
   ]
  },
  {
   "cell_type": "code",
   "execution_count": 25,
   "id": "dda760d7",
   "metadata": {},
   "outputs": [
    {
     "name": "stdout",
     "output_type": "stream",
     "text": [
      "{\r\n",
      "    \u001b[94m\"input_data\"\u001b[39;49;00m: \r\n",
      "    {\r\n",
      "        \u001b[94m\"source_url\"\u001b[39;49;00m: \u001b[33m\"https://files.consumerfinance.gov/ccdb/complaints.csv.zip\"\u001b[39;49;00m,\r\n",
      "        \u001b[94m\"output_directory\"\u001b[39;49;00m: \u001b[33m\"data\"\u001b[39;49;00m\r\n",
      "    }\r\n",
      "        \r\n",
      "}\r\n"
     ]
    }
   ],
   "source": [
    "!pygmentize config.json"
   ]
  },
  {
   "cell_type": "code",
   "execution_count": 26,
   "id": "8a9f0283",
   "metadata": {},
   "outputs": [],
   "source": [
    "json_file_path = project_dir / Path('config.json')\n",
    "\n",
    "with open(json_file_path, 'r') as json_file:\n",
    "    config = json.load(json_file)\n",
    "json_file.close()"
   ]
  },
  {
   "cell_type": "code",
   "execution_count": 27,
   "id": "fd7b63c0",
   "metadata": {},
   "outputs": [],
   "source": [
    "data_out_path = project_dir / Path(config['input_data']['output_directory'])\n",
    "\n",
    "if not os.path.exists(data_out_path):\n",
    "    os.makedirs(data_out_path)"
   ]
  },
  {
   "cell_type": "markdown",
   "id": "72bd659b",
   "metadata": {},
   "source": [
    "At this point we have created a local folder that where we are going to save the initial dataset retrieved directly from the source. In the following cell, we will use the <em>source_url</em> to get the .zip file and decompress the dataset to the specified output folder. Afterwards, we are going to delete the zipped file to save memory."
   ]
  },
  {
   "cell_type": "code",
   "execution_count": 28,
   "id": "3e939789",
   "metadata": {},
   "outputs": [],
   "source": [
    "full_data_csv_name = 'complaints.csv'"
   ]
  },
  {
   "cell_type": "code",
   "execution_count": 9,
   "id": "44aaddc4",
   "metadata": {},
   "outputs": [
    {
     "name": "stdout",
     "output_type": "stream",
     "text": [
      "Extracting files from /home/ec2-user/SageMaker/Capstone/data/complaints.csv.zip to /home/ec2-user/SageMaker/Capstone/data\n",
      "\n",
      "Removing file /home/ec2-user/SageMaker/Capstone/data/complaints.csv.zip ...\n"
     ]
    }
   ],
   "source": [
    "if not os.path.isfile(os.path.join(data_out_path, full_data_csv_name)):\n",
    "    zip_filename = wget.download(url=config['input_data']['source_url'], out=str(data_out_path))\n",
    "\n",
    "    with zipfile.ZipFile(zip_filename, 'r') as zipf:\n",
    "        print(\"Extracting files from {0} to {1}\\n\".format(zip_filename, data_out_path))\n",
    "        zipf.extractall(data_out_path)\n",
    "    \n",
    "    print(\"Removing file {0} ...\".format(zip_filename))\n",
    "    os.remove(zip_filename)    "
   ]
  },
  {
   "cell_type": "markdown",
   "id": "33d71bcf",
   "metadata": {},
   "source": [
    "<a id='Reducing_Data'> <a/>\n",
    "#### Reducing the dataset size\n",
    "\n",
    "The full dataset has been downloaded and saved in our local environement. By taking a look at it we can infer that it's quite big in size (close to 1.5GB and it keeps growing daily) something that can potentially be an issue given the resources available in the AWS instances used in this project. To face this issue we are going to use a _subset_ of the initial dataset. Specifically, even though the dataset contains data from 2011 up to 2021, we are going to work with a subset of the dataset that is covering the range **'2019-01-01' to '2020-12-31'**, i.e. two full years worth of data. This is also helpful as it's limiting the amount of different product categories that we will have to classify the complaints, as in later years more and more categories added to the dataset - something that could potentially make our analysis cumbersome."
   ]
  },
  {
   "cell_type": "code",
   "execution_count": 10,
   "id": "219fd66f",
   "metadata": {},
   "outputs": [
    {
     "data": {
      "text/plain": [
       "'/home/ec2-user/SageMaker/Capstone/data/complaints.csv'"
      ]
     },
     "execution_count": 10,
     "metadata": {},
     "output_type": "execute_result"
    }
   ],
   "source": [
    "csv_file_path = os.path.join(data_out_path, full_data_csv_name)\n",
    "csv_file_path"
   ]
  },
  {
   "cell_type": "code",
   "execution_count": 11,
   "id": "58deee06",
   "metadata": {},
   "outputs": [],
   "source": [
    "complaints_df = pd.read_csv(csv_file_path)"
   ]
  },
  {
   "cell_type": "code",
   "execution_count": 12,
   "id": "4144a516",
   "metadata": {},
   "outputs": [
    {
     "data": {
      "text/plain": [
       "(2304681, 18)"
      ]
     },
     "execution_count": 12,
     "metadata": {},
     "output_type": "execute_result"
    }
   ],
   "source": [
    "complaints_df.shape"
   ]
  },
  {
   "cell_type": "code",
   "execution_count": 13,
   "id": "2a048e36",
   "metadata": {},
   "outputs": [
    {
     "data": {
      "text/plain": [
       "Index(['Date received', 'Product', 'Sub-product', 'Issue', 'Sub-issue',\n",
       "       'Consumer complaint narrative', 'Company public response', 'Company',\n",
       "       'State', 'ZIP code', 'Tags', 'Consumer consent provided?',\n",
       "       'Submitted via', 'Date sent to company', 'Company response to consumer',\n",
       "       'Timely response?', 'Consumer disputed?', 'Complaint ID'],\n",
       "      dtype='object')"
      ]
     },
     "execution_count": 13,
     "metadata": {},
     "output_type": "execute_result"
    }
   ],
   "source": [
    "complaints_df.columns"
   ]
  },
  {
   "cell_type": "code",
   "execution_count": 14,
   "id": "86df69d3",
   "metadata": {},
   "outputs": [],
   "source": [
    "complaints_df['Date received'] = pd.to_datetime(complaints_df['Date received'])"
   ]
  },
  {
   "cell_type": "code",
   "execution_count": 15,
   "id": "35b52e80",
   "metadata": {},
   "outputs": [],
   "source": [
    "# Get the year that the complaint took place as a separate column\n",
    "complaints_df['Year'] = complaints_df['Date received'].apply(lambda date: date.year)"
   ]
  },
  {
   "cell_type": "code",
   "execution_count": 17,
   "id": "0654c021",
   "metadata": {},
   "outputs": [],
   "source": [
    "def plot_num_observations_per_category(\n",
    "    df: pd.DataFrame, col: str,\n",
    "    by_year=True,\n",
    "    figsize=(10,8)\n",
    ") -> None:\n",
    "    \"\"\" Returns a countplot with the number of observations\n",
    "    based on the column defined by 'col'\n",
    "    \"\"\"\n",
    "    hue = None\n",
    "    if by_year == True:\n",
    "        hue = df['Year']\n",
    "    plt.figure(figsize=figsize)\n",
    "    sns.countplot(y=df[col], hue=hue,order=df[col].value_counts().index)\n",
    "    plt.xlabel('Count')\n",
    "    plt.ylabel(col)\n",
    "    plt.title(f'Number of Complaints per {col}', fontweight=\"bold\")\n",
    "    plt.grid(True, alpha=0.2, color='black')\n",
    "    plt.show()"
   ]
  },
  {
   "cell_type": "code",
   "execution_count": 17,
   "id": "a237194f",
   "metadata": {},
   "outputs": [
    {
     "data": {
      "image/png": "[encoded data removed]",
      "text/plain": [
       "<Figure size 720x576 with 1 Axes>"
      ]
     },
     "metadata": {},
     "output_type": "display_data"
    }
   ],
   "source": [
    "plot_num_observations_per_category(df=complaints_df, col='Year', by_year=False)"
   ]
  },
  {
   "cell_type": "code",
   "execution_count": 18,
   "id": "8c89be91",
   "metadata": {},
   "outputs": [],
   "source": [
    "def subset_dataframe_on_date_column(\n",
    "    df: pd.DataFrame,\n",
    "    date_col: str,\n",
    "    min_date: str,\n",
    "    max_date: str\n",
    ") -> pd.DataFrame:\n",
    "    reduced_df = df[(df[date_col] >= min_date) & (df[date_col] <= max_date)]\n",
    "    return reduced_df"
   ]
  },
  {
   "cell_type": "code",
   "execution_count": 19,
   "id": "9259d744",
   "metadata": {},
   "outputs": [],
   "source": [
    "# Subset the dataset to 2 years\n",
    "complaints_df = subset_dataframe_on_date_column(\n",
    "    df=complaints_df,\n",
    "    date_col='Date received', \n",
    "    min_date='2019-01-01',\n",
    "    max_date='2020-12-31'\n",
    "    )"
   ]
  },
  {
   "cell_type": "markdown",
   "id": "11fb6d4e",
   "metadata": {},
   "source": [
    "At first we can have a look at the distribution of complaints from the full dataset, compared to the category that they belong:"
   ]
  },
  {
   "cell_type": "code",
   "execution_count": 20,
   "id": "3a0d4cff",
   "metadata": {},
   "outputs": [
    {
     "data": {
      "image/png": "[encoded data removed]",
      "text/plain": [
       "<Figure size 720x576 with 1 Axes>"
      ]
     },
     "metadata": {},
     "output_type": "display_data"
    }
   ],
   "source": [
    "plot_num_observations_per_category(df=complaints_df, col='Product', by_year=True)"
   ]
  },
  {
   "cell_type": "markdown",
   "id": "18c6ea83",
   "metadata": {},
   "source": [
    "Above we can see that after reducing the dataset to data only from 2019 and 2020, we end up with 9 distinct Product categories. Moreover, its obvious that we have some class imbalance in the dataset as the first category (Credit reporting) seems to be dominating the data compared to the rest of the categories across all the years of interest.\n",
    "\n",
    "Now should also take into consideration the fact that our main column of interest - which contains the complaint from the consumer - is the 'Consumer complaint narrative', which we will rename to just 'Complaint' for an easy of use."
   ]
  },
  {
   "cell_type": "code",
   "execution_count": 21,
   "id": "e4218f8b",
   "metadata": {},
   "outputs": [],
   "source": [
    "complaints_df.rename(columns={'Consumer complaint narrative': 'Complaint'}, inplace=True)"
   ]
  },
  {
   "cell_type": "code",
   "execution_count": 22,
   "id": "c441a2a8",
   "metadata": {},
   "outputs": [],
   "source": [
    "col_to_reduce_on = 'Credit reporting, credit repair services, or other personal consumer reports'"
   ]
  },
  {
   "cell_type": "markdown",
   "id": "37bd5ff8",
   "metadata": {},
   "source": [
    "Moreover, we are going to further reduce the dataset by randomly selecting 60% of the observations. Additionaly, we are going to tackle the product category imbalance issue by further undersampling rows _only_ from the 'Credit reporting, credit repair services, or other personal consumer reports' category and for the year 2020, which is dominating the dataset."
   ]
  },
  {
   "cell_type": "code",
   "execution_count": 23,
   "id": "e8d8eceb",
   "metadata": {},
   "outputs": [],
   "source": [
    "complaints_df = complaints_df.drop(complaints_df[complaints_df['Product'] == col_to_reduce_on].sample(frac=.60).index)"
   ]
  },
  {
   "cell_type": "code",
   "execution_count": 24,
   "id": "e8333a32",
   "metadata": {},
   "outputs": [
    {
     "data": {
      "image/png": "[encoded data removed]",
      "text/plain": [
       "<Figure size 720x576 with 1 Axes>"
      ]
     },
     "metadata": {},
     "output_type": "display_data"
    }
   ],
   "source": [
    "plot_num_observations_per_category(df=complaints_df, col='Product', by_year=True)"
   ]
  },
  {
   "cell_type": "code",
   "execution_count": 25,
   "id": "3c50f0c0",
   "metadata": {},
   "outputs": [],
   "source": [
    "complaints_df = complaints_df.drop(complaints_df[(complaints_df['Product'] == col_to_reduce_on) & (complaints_df['Year'] == 2020)].sample(frac=.60).index)"
   ]
  },
  {
   "cell_type": "code",
   "execution_count": 26,
   "id": "abff87dd",
   "metadata": {},
   "outputs": [
    {
     "data": {
      "image/png": "[encoded data removed]",
      "text/plain": [
       "<Figure size 720x576 with 1 Axes>"
      ]
     },
     "metadata": {},
     "output_type": "display_data"
    }
   ],
   "source": [
    "plot_num_observations_per_category(df=complaints_df, col='Product', by_year=True)"
   ]
  },
  {
   "cell_type": "markdown",
   "id": "1055e91b",
   "metadata": {},
   "source": [
    "Above we can see that even though there is still some class imbalance, the dataset is in a better shape than the original view.\n",
    "\n",
    "Now, we need to check if we have rows for which this column is empty. That would indicate that these rows are not very relevant for our analysis as they won't provide any useful input in our models later in the project."
   ]
  },
  {
   "cell_type": "code",
   "execution_count": 27,
   "id": "c1c8d0e3",
   "metadata": {},
   "outputs": [],
   "source": [
    "def get_empty_rownumber_for_col(df: pd.DataFrame, col_name: str) -> None:\n",
    "    num_empty_rows_col = df.isnull().sum()[col_name]\n",
    "    percnt = 100 * np.round(num_empty_rows_col/df.shape[0], 4)\n",
    "    print(\n",
    "        \"There are {0} out of {1} rows that are empty for {2} ({3}%)\". format(num_empty_rows_col, df.shape[0], col_name, percnt)\n",
    "    )\n",
    "    return num_empty_rows_col"
   ]
  },
  {
   "cell_type": "code",
   "execution_count": 28,
   "id": "ba92c2d1",
   "metadata": {},
   "outputs": [
    {
     "name": "stdout",
     "output_type": "stream",
     "text": [
      "There are 216502 out of 400294 rows that are empty for Complaint (54.09%)\n"
     ]
    }
   ],
   "source": [
    "_ = get_empty_rownumber_for_col(df=complaints_df, col_name='Complaint')"
   ]
  },
  {
   "cell_type": "markdown",
   "id": "9ac34db3",
   "metadata": {},
   "source": [
    "And we can filter the dataset to retain only the rows for which the 'Complaing' column is populated"
   ]
  },
  {
   "cell_type": "code",
   "execution_count": 29,
   "id": "2e096b5a",
   "metadata": {},
   "outputs": [
    {
     "data": {
      "text/plain": [
       "(183792, 19)"
      ]
     },
     "execution_count": 29,
     "metadata": {},
     "output_type": "execute_result"
    }
   ],
   "source": [
    "complaints_df = complaints_df[complaints_df['Complaint'].notnull()]\n",
    "complaints_df.shape"
   ]
  },
  {
   "cell_type": "code",
   "execution_count": 30,
   "id": "27c283b9",
   "metadata": {},
   "outputs": [
    {
     "name": "stdout",
     "output_type": "stream",
     "text": [
      "There are 0 out of 183792 rows that are empty for Complaint (0.0%)\n"
     ]
    }
   ],
   "source": [
    "_ = get_empty_rownumber_for_col(df=complaints_df, col_name='Complaint')"
   ]
  },
  {
   "cell_type": "code",
   "execution_count": 31,
   "id": "cef1942a",
   "metadata": {},
   "outputs": [
    {
     "data": {
      "image/png": "[encoded data removed]",
      "text/plain": [
       "<Figure size 720x576 with 1 Axes>"
      ]
     },
     "metadata": {},
     "output_type": "display_data"
    }
   ],
   "source": [
    "plot_num_observations_per_category(df=complaints_df, col='Product', by_year=True)"
   ]
  },
  {
   "cell_type": "markdown",
   "id": "3389eb13",
   "metadata": {},
   "source": [
    "Moreover, the initial dataset has many columns that are not going to be used throughout the project. Hence, we can exclude them from the main dataframe, so that we free up some space at the creationg of the final CSV file."
   ]
  },
  {
   "cell_type": "code",
   "execution_count": 32,
   "id": "baec0ca7",
   "metadata": {},
   "outputs": [
    {
     "data": {
      "text/plain": [
       "['Date received',\n",
       " 'Product',\n",
       " 'Sub-product',\n",
       " 'Issue',\n",
       " 'Sub-issue',\n",
       " 'Complaint',\n",
       " 'Company public response',\n",
       " 'Company',\n",
       " 'State',\n",
       " 'ZIP code',\n",
       " 'Tags',\n",
       " 'Consumer consent provided?',\n",
       " 'Submitted via',\n",
       " 'Date sent to company',\n",
       " 'Company response to consumer',\n",
       " 'Timely response?',\n",
       " 'Consumer disputed?',\n",
       " 'Complaint ID',\n",
       " 'Year']"
      ]
     },
     "execution_count": 32,
     "metadata": {},
     "output_type": "execute_result"
    }
   ],
   "source": [
    "list(complaints_df.columns)"
   ]
  },
  {
   "cell_type": "code",
   "execution_count": 33,
   "id": "fd2b59c3",
   "metadata": {},
   "outputs": [],
   "source": [
    "cols_to_retain = ['Complaint ID', 'Year', 'Complaint', 'Product', 'Company', 'State']"
   ]
  },
  {
   "cell_type": "code",
   "execution_count": 34,
   "id": "20c03111",
   "metadata": {},
   "outputs": [],
   "source": [
    "complaints_df = complaints_df[cols_to_retain]"
   ]
  },
  {
   "cell_type": "code",
   "execution_count": 35,
   "id": "a7b70c97",
   "metadata": {},
   "outputs": [
    {
     "data": {
      "text/html": [
       "<div>\n",
       "<style scoped>\n",
       "    .dataframe tbody tr th:only-of-type {\n",
       "        vertical-align: middle;\n",
       "    }\n",
       "\n",
       "    .dataframe tbody tr th {\n",
       "        vertical-align: top;\n",
       "    }\n",
       "\n",
       "    .dataframe thead th {\n",
       "        text-align: right;\n",
       "    }\n",
       "</style>\n",
       "<table border=\"1\" class=\"dataframe\">\n",
       "  <thead>\n",
       "    <tr style=\"text-align: right;\">\n",
       "      <th></th>\n",
       "      <th>Complaint ID</th>\n",
       "      <th>Year</th>\n",
       "      <th>Complaint</th>\n",
       "      <th>Product</th>\n",
       "      <th>Company</th>\n",
       "      <th>State</th>\n",
       "    </tr>\n",
       "  </thead>\n",
       "  <tbody>\n",
       "    <tr>\n",
       "      <th>1</th>\n",
       "      <td>3425257</td>\n",
       "      <td>2019</td>\n",
       "      <td>I contacted Ally on Friday XX/XX/XXXX after fa...</td>\n",
       "      <td>Vehicle loan or lease</td>\n",
       "      <td>ALLY FINANCIAL INC.</td>\n",
       "      <td>NJ</td>\n",
       "    </tr>\n",
       "    <tr>\n",
       "      <th>7</th>\n",
       "      <td>3571591</td>\n",
       "      <td>2020</td>\n",
       "      <td>I got a loan for {$500.00} in late XXXX with h...</td>\n",
       "      <td>Payday loan, title loan, or personal loan</td>\n",
       "      <td>ACIMA CREDIT, LLC</td>\n",
       "      <td>GA</td>\n",
       "    </tr>\n",
       "  </tbody>\n",
       "</table>\n",
       "</div>"
      ],
      "text/plain": [
       "   Complaint ID  Year                                          Complaint  \\\n",
       "1       3425257  2019  I contacted Ally on Friday XX/XX/XXXX after fa...   \n",
       "7       3571591  2020  I got a loan for {$500.00} in late XXXX with h...   \n",
       "\n",
       "                                     Product              Company State  \n",
       "1                      Vehicle loan or lease  ALLY FINANCIAL INC.    NJ  \n",
       "7  Payday loan, title loan, or personal loan    ACIMA CREDIT, LLC    GA  "
      ]
     },
     "execution_count": 35,
     "metadata": {},
     "output_type": "execute_result"
    }
   ],
   "source": [
    "complaints_df.head(2)"
   ]
  },
  {
   "cell_type": "markdown",
   "id": "630a3b13",
   "metadata": {},
   "source": [
    "Our final step to reduce the size of the data will be to reduce the amount of characters that each review can have.\n"
   ]
  },
  {
   "cell_type": "code",
   "execution_count": 36,
   "id": "4a687efb",
   "metadata": {},
   "outputs": [],
   "source": [
    "complaints_df['Complaint_Length'] = complaints_df['Complaint'].apply(lambda x: len(x.split()))"
   ]
  },
  {
   "cell_type": "code",
   "execution_count": 37,
   "id": "98923352",
   "metadata": {},
   "outputs": [
    {
     "data": {
      "text/plain": [
       "count    183792.000000\n",
       "mean        209.753259\n",
       "std         253.151097\n",
       "min           1.000000\n",
       "25%          73.000000\n",
       "50%         139.000000\n",
       "75%         255.000000\n",
       "max        6014.000000\n",
       "Name: Complaint_Length, dtype: float64"
      ]
     },
     "execution_count": 37,
     "metadata": {},
     "output_type": "execute_result"
    }
   ],
   "source": [
    "complaints_df['Complaint_Length'].describe()"
   ]
  },
  {
   "cell_type": "code",
   "execution_count": 38,
   "id": "b7bdc87b",
   "metadata": {},
   "outputs": [],
   "source": [
    "complaints_df.drop(columns='Complaint_Length', inplace=True)"
   ]
  },
  {
   "cell_type": "markdown",
   "id": "3cb8300e",
   "metadata": {},
   "source": [
    "As we can see there are 75% of the complaints that they have over 255 words used in the complaint. Hence, we are going to set a limit around the mean (i.e. 100 words) and reduce the size of the complaint text to this amount."
   ]
  },
  {
   "cell_type": "code",
   "execution_count": 39,
   "id": "430ce909",
   "metadata": {},
   "outputs": [],
   "source": [
    "def pad_sentence_on_words(\n",
    "    sentence: 'str',\n",
    "    how='right',\n",
    "    words_to_retain:int = 100\n",
    ") -> 'str':\n",
    "    if how == 'right':\n",
    "        reducted_sentence = ' '.join(sentence.split()[0: words_to_retain])\n",
    "    else:\n",
    "        reducted_sentence = ' '.join(sentence.split()[words_to_retain::])\n",
    "    return reducted_sentence"
   ]
  },
  {
   "cell_type": "code",
   "execution_count": 40,
   "id": "4f8ba9ad",
   "metadata": {},
   "outputs": [],
   "source": [
    "complaints_df['Complaint'] = complaints_df['Complaint'].apply(lambda x: pad_sentence_on_words(x))"
   ]
  },
  {
   "cell_type": "code",
   "execution_count": 41,
   "id": "eef33b5f",
   "metadata": {},
   "outputs": [],
   "source": [
    "complaints_df['Complaint_Length'] = complaints_df['Complaint'].apply(lambda x: len(x.split()))"
   ]
  },
  {
   "cell_type": "code",
   "execution_count": 57,
   "id": "7c437079",
   "metadata": {},
   "outputs": [
    {
     "data": {
      "text/plain": [
       "Text(0.5, 0, 'Number of words')"
      ]
     },
     "execution_count": 57,
     "metadata": {},
     "output_type": "execute_result"
    },
    {
     "data": {
      "image/png": "[encoded data removed]",
      "text/plain": [
       "<Figure size 432x288 with 1 Axes>"
      ]
     },
     "metadata": {},
     "output_type": "display_data"
    }
   ],
   "source": [
    "sns.histplot(complaints_df['Complaint_Length'].values, bins=20, color='darkcyan')\n",
    "plt.title('Distribution of number of words per Complaint', fontweight='bold')\n",
    "plt.xlabel('Number of words')"
   ]
  },
  {
   "cell_type": "markdown",
   "id": "58eda5bc",
   "metadata": {},
   "source": [
    "Hence, after performing this operation we end up with the distribution as shown in Figure 7, where we can observe that most of the complaints in the dataset used to exceed 100 words - and now they contain exactly 100 words.\n",
    "\n",
    "Now that we have the final \"raw_format\" of our dataset, we will need to replace the initial .csv file with a new one that contains only the reduced data. That way we will save space and make loading, as well as processing, the data faster and easier.\n",
    "\n",
    "<a id='Final_Input_Data'> </a>"
   ]
  },
  {
   "cell_type": "code",
   "execution_count": 58,
   "id": "15ce072a",
   "metadata": {},
   "outputs": [],
   "source": [
    "complaints_df.drop(columns='Complaint_Length', inplace=True)"
   ]
  },
  {
   "cell_type": "code",
   "execution_count": 29,
   "id": "919793d8",
   "metadata": {},
   "outputs": [],
   "source": [
    "reduced_csv_filename = 'complaints_reduced.csv'\n",
    "reduced_csv_filepath = os.path.join(data_out_path, reduced_csv_filename)"
   ]
  },
  {
   "cell_type": "code",
   "execution_count": 60,
   "id": "29972c2e",
   "metadata": {},
   "outputs": [],
   "source": [
    "complaints_df.to_csv(reduced_csv_filepath, index=False)"
   ]
  },
  {
   "cell_type": "code",
   "execution_count": 61,
   "id": "1f3ef7b4",
   "metadata": {},
   "outputs": [],
   "source": [
    "# Deleting the initial CSV file to empty space in the EC2 instance where the SageMaker notebook is running\n",
    "os.remove(os.path.join(data_out_path, full_data_csv_name))"
   ]
  },
  {
   "cell_type": "code",
   "execution_count": 62,
   "id": "9606045c",
   "metadata": {},
   "outputs": [
    {
     "data": {
      "text/plain": [
       "['xgboost_output',\n",
       " 'mnb_output',\n",
       " '.ipynb_checkpoints',\n",
       " 'complaints_reduced.csv']"
      ]
     },
     "execution_count": 62,
     "metadata": {},
     "output_type": "execute_result"
    }
   ],
   "source": [
    "os.listdir('data')"
   ]
  },
  {
   "cell_type": "code",
   "execution_count": 30,
   "id": "dda510fb",
   "metadata": {},
   "outputs": [
    {
     "name": "stdout",
     "output_type": "stream",
     "text": [
      "\n",
      "The final dataset has 183792 rows and 6 columns\n",
      "\n"
     ]
    },
    {
     "data": {
      "text/html": [
       "<div>\n",
       "<style scoped>\n",
       "    .dataframe tbody tr th:only-of-type {\n",
       "        vertical-align: middle;\n",
       "    }\n",
       "\n",
       "    .dataframe tbody tr th {\n",
       "        vertical-align: top;\n",
       "    }\n",
       "\n",
       "    .dataframe thead th {\n",
       "        text-align: right;\n",
       "    }\n",
       "</style>\n",
       "<table border=\"1\" class=\"dataframe\">\n",
       "  <thead>\n",
       "    <tr style=\"text-align: right;\">\n",
       "      <th></th>\n",
       "      <th>Complaint ID</th>\n",
       "      <th>Year</th>\n",
       "      <th>Complaint</th>\n",
       "      <th>Product</th>\n",
       "      <th>Company</th>\n",
       "      <th>State</th>\n",
       "    </tr>\n",
       "  </thead>\n",
       "  <tbody>\n",
       "    <tr>\n",
       "      <th>0</th>\n",
       "      <td>3425257</td>\n",
       "      <td>2019</td>\n",
       "      <td>I contacted Ally on Friday XX/XX/XXXX after fa...</td>\n",
       "      <td>Vehicle loan or lease</td>\n",
       "      <td>ALLY FINANCIAL INC.</td>\n",
       "      <td>NJ</td>\n",
       "    </tr>\n",
       "    <tr>\n",
       "      <th>1</th>\n",
       "      <td>3571591</td>\n",
       "      <td>2020</td>\n",
       "      <td>I got a loan for {$500.00} in late XXXX with h...</td>\n",
       "      <td>Payday loan, title loan, or personal loan</td>\n",
       "      <td>ACIMA CREDIT, LLC</td>\n",
       "      <td>GA</td>\n",
       "    </tr>\n",
       "    <tr>\n",
       "      <th>2</th>\n",
       "      <td>3294745</td>\n",
       "      <td>2019</td>\n",
       "      <td>Two accounts are still on my credit history af...</td>\n",
       "      <td>Credit reporting, credit repair services, or o...</td>\n",
       "      <td>Experian Information Solutions Inc.</td>\n",
       "      <td>FL</td>\n",
       "    </tr>\n",
       "    <tr>\n",
       "      <th>3</th>\n",
       "      <td>3265029</td>\n",
       "      <td>2019</td>\n",
       "      <td>I have a bank of America small business credit...</td>\n",
       "      <td>Credit card or prepaid card</td>\n",
       "      <td>BANK OF AMERICA, NATIONAL ASSOCIATION</td>\n",
       "      <td>CA</td>\n",
       "    </tr>\n",
       "    <tr>\n",
       "      <th>4</th>\n",
       "      <td>3341310</td>\n",
       "      <td>2019</td>\n",
       "      <td>I opened a citi double cash card the beginning...</td>\n",
       "      <td>Credit card or prepaid card</td>\n",
       "      <td>CITIBANK, N.A.</td>\n",
       "      <td>FL</td>\n",
       "    </tr>\n",
       "  </tbody>\n",
       "</table>\n",
       "</div>"
      ],
      "text/plain": [
       "   Complaint ID  Year                                          Complaint  \\\n",
       "0       3425257  2019  I contacted Ally on Friday XX/XX/XXXX after fa...   \n",
       "1       3571591  2020  I got a loan for {$500.00} in late XXXX with h...   \n",
       "2       3294745  2019  Two accounts are still on my credit history af...   \n",
       "3       3265029  2019  I have a bank of America small business credit...   \n",
       "4       3341310  2019  I opened a citi double cash card the beginning...   \n",
       "\n",
       "                                             Product  \\\n",
       "0                              Vehicle loan or lease   \n",
       "1          Payday loan, title loan, or personal loan   \n",
       "2  Credit reporting, credit repair services, or o...   \n",
       "3                        Credit card or prepaid card   \n",
       "4                        Credit card or prepaid card   \n",
       "\n",
       "                                 Company State  \n",
       "0                    ALLY FINANCIAL INC.    NJ  \n",
       "1                      ACIMA CREDIT, LLC    GA  \n",
       "2    Experian Information Solutions Inc.    FL  \n",
       "3  BANK OF AMERICA, NATIONAL ASSOCIATION    CA  \n",
       "4                         CITIBANK, N.A.    FL  "
      ]
     },
     "execution_count": 30,
     "metadata": {},
     "output_type": "execute_result"
    }
   ],
   "source": [
    "complaints_df = pd.read_csv(reduced_csv_filepath, index_col=None)\n",
    "\n",
    "print('\\nThe final dataset has {0} rows and {1} columns\\n'.format(complaints_df.shape[0], complaints_df.shape[1]))\n",
    "\n",
    "complaints_df.head(5)"
   ]
  },
  {
   "cell_type": "markdown",
   "id": "d19aa7ab",
   "metadata": {},
   "source": [
    "<a id='data_cleaning_eda'></a>\n",
    "## Part 2 - Exploratory Data Analysis (EDA) & Data Cleaning\n",
    "\n",
    "In this part we are going to use the final form of the data from Part 1, and we will dive into the details of the dataset. Specifically, we are going to get get a better understand of the features by using visualizations, as well as identify interesting summaries. This process will help us, except understanding the dataset better, to identify any potential issues with the data that would be hard to notice otherwise."
   ]
  },
  {
   "cell_type": "code",
   "execution_count": 31,
   "id": "2042d6ea",
   "metadata": {},
   "outputs": [],
   "source": [
    "def plot_top_complaints(df: pd.DataFrame, agg_col: str, top_n: int, bottom=False, rot=45, figsize=(10,8)):\n",
    "    \"\"\" Aggregate a dataframe based on column of interest and calculate the number of\n",
    "    observations per aggregated group. The function returns a barplot object showing the results \n",
    "    of the above calculation.\n",
    "\n",
    "    Parameters:\n",
    "    ----\n",
    "    agg_col: Name of the column to perform aggregation\n",
    "    top_n: Amount of observations to be included in the plot\n",
    "    bottom: Plot the top-n from the top (highest) or from the bottom (lowest)\n",
    "    \"\"\"\n",
    "    size = float(df.shape[0])    \n",
    "    rot = rot\n",
    "\n",
    "    try:\n",
    "        most_cmplts = df[['Complaint ID', agg_col]].groupby([agg_col]).agg(['count'])\n",
    "    \n",
    "        most_cmplts = most_cmplts.sort_values(\n",
    "                by=[('Complaint ID','count')],\n",
    "                ascending=bottom\n",
    "                )\n",
    "\n",
    "        plt.figure(figsize=figsize)\n",
    "        \n",
    "        ax = sns.barplot(\n",
    "            x=most_cmplts.index[0:top_n],\n",
    "            y=('Complaint ID', 'count'),\n",
    "            data=most_cmplts[0:top_n]\n",
    "            )\n",
    "            \n",
    "        for p in ax.patches:\n",
    "            height = p.get_height()\n",
    "            ax.text(p.get_x()+p.get_width()/2., height + 4,\n",
    "                    '{:1.2f}%'.format(100 * height/size), ha=\"center\")\n",
    "\n",
    "        ax.set_xticklabels(ax.get_xticklabels(), rotation=rot)\n",
    "        plt.ylabel('Number of complaints', fontweight='bold')\n",
    "        plt.title(f'{agg_col} with the most number of complaints',\n",
    "                  fontweight='bold')\n",
    "        plt.grid(True, alpha=0.2, color='black')\n",
    "        plt.show()\n",
    "    except KeyError:\n",
    "        print('agg_col does not correspond to a column that exists')"
   ]
  },
  {
   "cell_type": "code",
   "execution_count": 32,
   "id": "56127d36",
   "metadata": {},
   "outputs": [
    {
     "data": {
      "image/png": "[encoded data removed]",
      "text/plain": [
       "<Figure size 1152x576 with 1 Axes>"
      ]
     },
     "metadata": {},
     "output_type": "display_data"
    }
   ],
   "source": [
    "plot_top_complaints(df=complaints_df,\n",
    "                    agg_col='State',\n",
    "                    top_n=10,\n",
    "                    bottom=False,\n",
    "                    rot=0,\n",
    "                    figsize=(16,8)\n",
    "                    )"
   ]
  },
  {
   "cell_type": "markdown",
   "id": "1502716a",
   "metadata": {},
   "source": [
    "We can see that only 5 States (California, Florida, Texas, Georgia and New York) account for more that 40% of the total complaints."
   ]
  },
  {
   "cell_type": "code",
   "execution_count": 33,
   "id": "13c7cf67",
   "metadata": {},
   "outputs": [
    {
     "data": {
      "image/png": "[encoded data removed]",
      "text/plain": [
       "<Figure size 1152x576 with 1 Axes>"
      ]
     },
     "metadata": {},
     "output_type": "display_data"
    }
   ],
   "source": [
    "plot_top_complaints(df=complaints_df,\n",
    "                    agg_col='Company',\n",
    "                    top_n=5,\n",
    "                    bottom=False,\n",
    "                    rot=25,\n",
    "                    figsize=(16,8)\n",
    "                    )"
   ]
  },
  {
   "cell_type": "markdown",
   "id": "6f69eca5",
   "metadata": {},
   "source": [
    "Similarly, the first 5 Companies presented above seem to receive around 25% of the overall amount of complaints.\n",
    "\n",
    "Now, as we saw earlier in the project the current dataset contains 9 categories for the _Product_, but some of these categories appear to be about overlapping issues. Therefore we will merge such cases of categories that are overlapping, and we will end up with 7 Categories instead of 9 that were present in the reduced dataset. The categories that are getting merged into another broader group, can be found below:"
   ]
  },
  {
   "cell_type": "code",
   "execution_count": 34,
   "id": "533c518a",
   "metadata": {},
   "outputs": [],
   "source": [
    "product_category_mapping = {\n",
    "    'Credit reporting, credit repair services, or other personal consumer reports': 'Credit reporting',    \n",
    "    'Debt collection': 'Debt collection',                                                                  \n",
    "    'Credit card or prepaid card': 'Credit/prepaid card',                                                     \n",
    "    'Mortgage': 'Mortgage',                                                                        \n",
    "    'Checking or savings account': 'Checking/savings account',                                                      \n",
    "    'Student loan': 'Loans',                                                                     \n",
    "    'Money transfer, virtual currency, or money service': 'Money services',                               \n",
    "    'Vehicle loan or lease': 'Loans',                                                           \n",
    "    'Payday loan, title loan, or personal loan': 'Loans'\n",
    "    }"
   ]
  },
  {
   "cell_type": "code",
   "execution_count": 35,
   "id": "0600e139",
   "metadata": {},
   "outputs": [],
   "source": [
    "complaints_processed_df = complaints_df.copy()\n",
    "\n",
    "complaints_processed_df['Product'].replace(product_category_mapping, inplace=True)"
   ]
  },
  {
   "cell_type": "code",
   "execution_count": 36,
   "id": "70b3ece1",
   "metadata": {},
   "outputs": [
    {
     "data": {
      "image/png": "[encoded data removed]",
      "text/plain": [
       "<Figure size 720x576 with 1 Axes>"
      ]
     },
     "metadata": {},
     "output_type": "display_data"
    }
   ],
   "source": [
    "plot_num_observations_per_category(df=complaints_processed_df, col='Product', by_year=False)"
   ]
  },
  {
   "cell_type": "code",
   "execution_count": 37,
   "id": "63b4128d",
   "metadata": {},
   "outputs": [],
   "source": [
    "def plot_donut_num_observations(\n",
    "    input_df: pd.DataFrame,\n",
    "    col='Product',\n",
    "    figsize=(6, 6)\n",
    ") -> None:\n",
    "    vals = input_df[col].value_counts()\n",
    "    groups = input_df[col].value_counts().index.tolist()\n",
    "    \n",
    "    filtered_df = pd.DataFrame({'Num_Reviews': vals, 'group': groups})\n",
    "    \n",
    "    colors_ls = [\"tab:orange\", \"tab:purple\", \"tab:green\", \"tab:red\", \"tab:cyan\", \"tab:olive\", \"tab:brown\"]\n",
    "    \n",
    "    plt.figure(figsize=(figsize))\n",
    "    plt.subplot(1, 2, 2)\n",
    "    \n",
    "    cen_circle = plt.Circle((0, 0), 0.6, color='white')\n",
    "    \n",
    "    plt.pie(filtered_df['Num_Reviews'],\n",
    "            labels= filtered_df['group'],\n",
    "            autopct='%1.1f%%',\n",
    "            pctdistance = 1.32,\n",
    "            startangle=18,\n",
    "            labeldistance=1.06,\n",
    "            colors=colors_ls)\n",
    "    plt.axis('equal')\n",
    "    plt.gca().add_artist(cen_circle)\n",
    "    plt.show()"
   ]
  },
  {
   "cell_type": "code",
   "execution_count": 38,
   "id": "74b6bd3b",
   "metadata": {},
   "outputs": [
    {
     "data": {
      "image/png": "[encoded data removed]",
      "text/plain": [
       "<Figure size 1152x648 with 1 Axes>"
      ]
     },
     "metadata": {},
     "output_type": "display_data"
    }
   ],
   "source": [
    "plot_donut_num_observations(input_df=complaints_processed_df, figsize=(16,9))"
   ]
  },
  {
   "cell_type": "markdown",
   "id": "620be650",
   "metadata": {},
   "source": [
    "In the above graph we can see that - even after merging our data and constructing the final 7 Product categories - the 'Credit Reporting' and 'Debt Collection' categories seem to be dominating the dataset as they account for almost 49% of the complaints. The class imbalance is a significant factor in our data, as further in the project we should be careful of how we construct the prediction models, as well as the type of evaluation metrics that we are going to use to assess their performance.\n",
    "\n",
    "<a id='data_preprocessing'> </a>\n",
    "## Part 3 - Data Preprocessing\n",
    "\n",
    "Before creating the classifiers in order to predict the Product category that a specific complaint should fall into, we will have to deal with the fact the the input to our algorithms (Complaint) has a text format. \n",
    "\n",
    "At first, we will perform the regular text cleaning operations that you are likely to see in any Natural Language Processing project. This includes the creation of tokens (i.e. split each complaint into separate words) and the removal of stopwords, punctuation and numbers from the text, as this information does not offer much into predicting the correct Product category. Finally, we will perform a lemmatization task with which we will convert the words to their base form.\n",
    "\n",
    "For the rest of the project we will continue with a subset of the already reduced dataset. Specifically, we will create a new dataframe which will contain only the Complaing and the respective Product category that the complaint belongs to."
   ]
  },
  {
   "cell_type": "code",
   "execution_count": 39,
   "id": "549ea7fc",
   "metadata": {},
   "outputs": [],
   "source": [
    "relevant_cols = ['Complaint', 'Product']\n",
    "\n",
    "complaints_df = complaints_processed_df[relevant_cols]"
   ]
  },
  {
   "cell_type": "code",
   "execution_count": 40,
   "id": "053257d4",
   "metadata": {},
   "outputs": [],
   "source": [
    "del complaints_processed_df"
   ]
  },
  {
   "cell_type": "code",
   "execution_count": 41,
   "id": "801f4b8d",
   "metadata": {},
   "outputs": [],
   "source": [
    "import string\n",
    "from typing import List\n",
    "from nltk.util import ngrams\n",
    "from nltk.corpus import stopwords\n",
    "from nltk.stem import WordNetLemmatizer, PorterStemmer\n",
    "\n",
    "lemmatizer = WordNetLemmatizer()\n",
    "stemmer = PorterStemmer()"
   ]
  },
  {
   "cell_type": "code",
   "execution_count": 42,
   "id": "d7eadbe9",
   "metadata": {},
   "outputs": [],
   "source": [
    "punct_ls = list(string.punctuation)\n",
    "punct_ls.extend([2*x for x in list(string.punctuation)])\n",
    "punct_ls.extend([3*x for x in list(string.punctuation)])"
   ]
  },
  {
   "cell_type": "code",
   "execution_count": 43,
   "id": "8aeb0423",
   "metadata": {},
   "outputs": [],
   "source": [
    "def remove_stopwords(text: List['str'], stpwds_ls: List['str']) -> List['str']:\n",
    "    return [token for token in text if token not in stpwds_ls]\n",
    "\n",
    "\n",
    "def remove_punctuation(text: List['str'], punct_ls: List['str']) -> List['str']:\n",
    "    return [token for token in text if token not in punct_ls]\n",
    "\n",
    "\n",
    "def remove_numbers(text: List['str']) -> List['str']:\n",
    "    return [token for token in text if not token.isdigit()]\n",
    "\n",
    "\n",
    "def remove_whitespace(text: List['str']) -> List['str']:\n",
    "    return [token for token in text if token != ' ']"
   ]
  },
  {
   "cell_type": "code",
   "execution_count": 44,
   "id": "c8a26bce",
   "metadata": {},
   "outputs": [],
   "source": [
    "def tokenize_and_clean(\n",
    "    text: str,\n",
    "    stopwords_ls: List[str],\n",
    "    stopwords=True,\n",
    "    punct=True,\n",
    "    numerics=True\n",
    ") -> List[str]:\n",
    "    \"\"\" Performs tokenizations and cleaning processes given a document/text.\n",
    "    The function will always tokenize the given text but the cleaning tasks\n",
    "    are optional.\n",
    "    \n",
    "    Parameters\n",
    "    ----------\n",
    "    text: \n",
    "        A document, which can be a word or sentence of arbitrary length.\n",
    "    stopwords: default True\n",
    "        Indicator of removing tokens that are stopwords.\n",
    "    punct: \n",
    "        Indicator of removing tokens that are punctuation marks.\n",
    "    numerics: \n",
    "        Indicator of removing tokens that correspond to numbers.\n",
    "    Returns\n",
    "    --------\n",
    "         A tokenized version of 'text' with the necessary updates depending on\n",
    "         the cleanup steps performed.\n",
    "    \"\"\"\n",
    "    tokenized = nltk.word_tokenize(text, language='english')\n",
    "    \n",
    "    tokenized = [token.lower() for token in tokenized]\n",
    "    \n",
    "    tokenized = remove_whitespace(tokenized)\n",
    "\n",
    "    if punct:\n",
    "        tokenized = remove_punctuation(tokenized, punct_ls=punct_ls)\n",
    "        \n",
    "    if numerics:\n",
    "        tokenized = remove_numbers(tokenized)\n",
    "        \n",
    "    if stopwords:\n",
    "        tokenized = remove_stopwords(tokenized, stpwds_ls=stopwords_ls)\n",
    "\n",
    "    return tokenized"
   ]
  },
  {
   "cell_type": "code",
   "execution_count": 45,
   "id": "0c95ad56",
   "metadata": {},
   "outputs": [],
   "source": [
    "classified_tokens = ['xxxx', 'xx', 'xx/xx/xxxx'] # Used to exclude info that was classified in the complaint\n",
    "\n",
    "stop_words = list(set(stopwords.words('english')))\n",
    "stop_words.extend(classified_tokens)"
   ]
  },
  {
   "cell_type": "code",
   "execution_count": 46,
   "id": "06816479",
   "metadata": {},
   "outputs": [
    {
     "data": {
      "text/plain": [
       "['me', 'been', 'is', 'an', \"mightn't\"]"
      ]
     },
     "execution_count": 46,
     "metadata": {},
     "output_type": "execute_result"
    }
   ],
   "source": [
    "stop_words[0:5]"
   ]
  },
  {
   "cell_type": "markdown",
   "id": "e3f630e0",
   "metadata": {},
   "source": [
    "Now that we have imported any required libraries and created the main function that will be used to clean up the complaints text, we can start the data preprocessing part.\n",
    "<a id=\"tokenization\"> </a>\n",
    "<br><br>\n",
    "**a. Tokenizing the Complaints and removing stopwords/numbers/classified information**"
   ]
  },
  {
   "cell_type": "code",
   "execution_count": 47,
   "id": "b78d467c",
   "metadata": {},
   "outputs": [],
   "source": [
    "complaints_df['Complaint_Tokenized'] = complaints_df.apply(\n",
    "    lambda x: tokenize_and_clean(x['Complaint'], stopwords_ls=stop_words),\n",
    "    axis=1\n",
    "    )"
   ]
  },
  {
   "cell_type": "markdown",
   "id": "4c2059e3",
   "metadata": {},
   "source": [
    "<a id=\"lemmatize\"> </a>\n",
    "**b. Performing lemmatization to the complaints**"
   ]
  },
  {
   "cell_type": "code",
   "execution_count": 48,
   "id": "9cfed641",
   "metadata": {},
   "outputs": [],
   "source": [
    "def lemmatize(text: List['str'], pos_type = 'a') -> List['str']:\n",
    "    return [lemmatizer.lemmatize(token, pos=pos_type) for token in text]"
   ]
  },
  {
   "cell_type": "code",
   "execution_count": 49,
   "id": "6255448c",
   "metadata": {},
   "outputs": [],
   "source": [
    "res = lemmatize(tokenize_and_clean('Hello  apples played how are you ?', stopwords_ls=stop_words), pos_type='v')\n",
    "\n",
    "assert res == ['hello', 'apples', 'play']"
   ]
  },
  {
   "cell_type": "code",
   "execution_count": 50,
   "id": "4ebda99b",
   "metadata": {},
   "outputs": [],
   "source": [
    "complaints_df['Complaint_Lemmatized'] = complaints_df.apply(\n",
    "    lambda x: lemmatize(x['Complaint_Tokenized'], pos_type='v'), \n",
    "    axis=1\n",
    "    )"
   ]
  },
  {
   "cell_type": "code",
   "execution_count": 51,
   "id": "a6816de2",
   "metadata": {},
   "outputs": [],
   "source": [
    "complaints_df['Complaint_Lemmatized'] = complaints_df.apply(\n",
    "    lambda x: lemmatize(x['Complaint_Lemmatized'], pos_type='n'), \n",
    "    axis=1\n",
    "    )"
   ]
  },
  {
   "cell_type": "markdown",
   "id": "1514b3f1",
   "metadata": {},
   "source": [
    "<a id=\"sentence_lemma_tokens\"> </a>\n",
    "**c. Join the processed tokens back to a single sentence/review**"
   ]
  },
  {
   "cell_type": "code",
   "execution_count": 52,
   "id": "284f5418",
   "metadata": {},
   "outputs": [],
   "source": [
    "def wordlist_to_sentence(word_ls: List[str]) -> 'str':\n",
    "    return ' '.join([word for word in word_ls])"
   ]
  },
  {
   "cell_type": "code",
   "execution_count": 53,
   "id": "5a09366e",
   "metadata": {},
   "outputs": [],
   "source": [
    "complaints_df['Complaint_Sentence'] = complaints_df.apply(\n",
    "    lambda x: wordlist_to_sentence(x['Complaint_Lemmatized']), \n",
    "    axis=1\n",
    "    )"
   ]
  },
  {
   "cell_type": "markdown",
   "id": "0433784b",
   "metadata": {},
   "source": [
    "Now that we have completed the text preprocessing part, we are going to save the output dataframe as a .pkl file, as re-running the processing each time it would be very time consuming."
   ]
  },
  {
   "cell_type": "code",
   "execution_count": 54,
   "id": "c3a27e12",
   "metadata": {},
   "outputs": [
    {
     "name": "stdout",
     "output_type": "stream",
     "text": [
      "/home/ec2-user/SageMaker/Capstone/data/complaints_processed.pkl\n"
     ]
    }
   ],
   "source": [
    "# Pickle the dataframe so reprocessing is not necessary every time\n",
    "pickled_df_filename = 'complaints_processed.pkl'\n",
    "pickled_file_loc = project_dir / Path(config['input_data']['output_directory']) / pickled_df_filename\n",
    "print(pickled_file_loc)"
   ]
  },
  {
   "cell_type": "code",
   "execution_count": 55,
   "id": "3ad6c1af",
   "metadata": {},
   "outputs": [],
   "source": [
    "# df to pickle\n",
    "complaints_df.to_pickle(pickled_file_loc)"
   ]
  },
  {
   "cell_type": "code",
   "execution_count": 56,
   "id": "92221066",
   "metadata": {},
   "outputs": [],
   "source": [
    "del complaints_df"
   ]
  },
  {
   "cell_type": "code",
   "execution_count": 57,
   "id": "76f14aa4",
   "metadata": {},
   "outputs": [],
   "source": [
    "# pickled file to df\n",
    "complaints_df = pd.read_pickle(pickled_file_loc)"
   ]
  },
  {
   "cell_type": "code",
   "execution_count": 58,
   "id": "1f1c7fde",
   "metadata": {},
   "outputs": [
    {
     "data": {
      "text/html": [
       "<div>\n",
       "<style scoped>\n",
       "    .dataframe tbody tr th:only-of-type {\n",
       "        vertical-align: middle;\n",
       "    }\n",
       "\n",
       "    .dataframe tbody tr th {\n",
       "        vertical-align: top;\n",
       "    }\n",
       "\n",
       "    .dataframe thead th {\n",
       "        text-align: right;\n",
       "    }\n",
       "</style>\n",
       "<table border=\"1\" class=\"dataframe\">\n",
       "  <thead>\n",
       "    <tr style=\"text-align: right;\">\n",
       "      <th></th>\n",
       "      <th>Complaint</th>\n",
       "      <th>Product</th>\n",
       "      <th>Complaint_Tokenized</th>\n",
       "      <th>Complaint_Lemmatized</th>\n",
       "      <th>Complaint_Sentence</th>\n",
       "    </tr>\n",
       "  </thead>\n",
       "  <tbody>\n",
       "    <tr>\n",
       "      <th>0</th>\n",
       "      <td>I contacted Ally on Friday XX/XX/XXXX after fa...</td>\n",
       "      <td>Loans</td>\n",
       "      <td>[contacted, ally, friday, falling, behind, pay...</td>\n",
       "      <td>[contact, ally, friday, fall, behind, payment,...</td>\n",
       "      <td>contact ally friday fall behind payment due wo...</td>\n",
       "    </tr>\n",
       "    <tr>\n",
       "      <th>1</th>\n",
       "      <td>I got a loan for {$500.00} in late XXXX with h...</td>\n",
       "      <td>Loans</td>\n",
       "      <td>[got, loan, 500.00, late, http, owner, let, sp...</td>\n",
       "      <td>[get, loan, 500.00, late, http, owner, let, sp...</td>\n",
       "      <td>get loan 500.00 late http owner let spend 250....</td>\n",
       "    </tr>\n",
       "    <tr>\n",
       "      <th>2</th>\n",
       "      <td>Two accounts are still on my credit history af...</td>\n",
       "      <td>Credit reporting</td>\n",
       "      <td>[two, accounts, still, credit, history, contac...</td>\n",
       "      <td>[two, account, still, credit, history, contact...</td>\n",
       "      <td>two account still credit history contact credi...</td>\n",
       "    </tr>\n",
       "    <tr>\n",
       "      <th>3</th>\n",
       "      <td>I have a bank of America small business credit...</td>\n",
       "      <td>Credit/prepaid card</td>\n",
       "      <td>[bank, america, small, business, credit, card,...</td>\n",
       "      <td>[bank, america, small, business, credit, card,...</td>\n",
       "      <td>bank america small business credit card reques...</td>\n",
       "    </tr>\n",
       "    <tr>\n",
       "      <th>4</th>\n",
       "      <td>I opened a citi double cash card the beginning...</td>\n",
       "      <td>Credit/prepaid card</td>\n",
       "      <td>[opened, citi, double, cash, card, beginning, ...</td>\n",
       "      <td>[open, citi, double, cash, card, begin, still,...</td>\n",
       "      <td>open citi double cash card begin still receive...</td>\n",
       "    </tr>\n",
       "    <tr>\n",
       "      <th>5</th>\n",
       "      <td>Although I am checking for and addressing miss...</td>\n",
       "      <td>Credit reporting</td>\n",
       "      <td>[although, checking, addressing, missing, defi...</td>\n",
       "      <td>[although, check, address, miss, deficient, as...</td>\n",
       "      <td>although check address miss deficient aspect r...</td>\n",
       "    </tr>\n",
       "    <tr>\n",
       "      <th>6</th>\n",
       "      <td>In an attempt to purchase concert tickets, I c...</td>\n",
       "      <td>Money services</td>\n",
       "      <td>[attempt, purchase, concert, tickets, communic...</td>\n",
       "      <td>[attempt, purchase, concert, ticket, communica...</td>\n",
       "      <td>attempt purchase concert ticket communicate in...</td>\n",
       "    </tr>\n",
       "    <tr>\n",
       "      <th>7</th>\n",
       "      <td>I am attempting to sell my home and pay off my...</td>\n",
       "      <td>Mortgage</td>\n",
       "      <td>[attempting, sell, home, pay, home, loan, phh,...</td>\n",
       "      <td>[attempt, sell, home, pay, home, loan, phh, mo...</td>\n",
       "      <td>attempt sell home pay home loan phh mortgage p...</td>\n",
       "    </tr>\n",
       "    <tr>\n",
       "      <th>8</th>\n",
       "      <td>We are writing this letter to dispute a delinq...</td>\n",
       "      <td>Loans</td>\n",
       "      <td>[writing, letter, dispute, delinquent, payment...</td>\n",
       "      <td>[write, letter, dispute, delinquent, payment, ...</td>\n",
       "      <td>write letter dispute delinquent payment report...</td>\n",
       "    </tr>\n",
       "    <tr>\n",
       "      <th>9</th>\n",
       "      <td>I am writing to inform you of the unfortunate ...</td>\n",
       "      <td>Mortgage</td>\n",
       "      <td>[writing, inform, unfortunate, set, circumstan...</td>\n",
       "      <td>[write, inform, unfortunate, set, circumstance...</td>\n",
       "      <td>write inform unfortunate set circumstance lead...</td>\n",
       "    </tr>\n",
       "  </tbody>\n",
       "</table>\n",
       "</div>"
      ],
      "text/plain": [
       "                                           Complaint              Product  \\\n",
       "0  I contacted Ally on Friday XX/XX/XXXX after fa...                Loans   \n",
       "1  I got a loan for {$500.00} in late XXXX with h...                Loans   \n",
       "2  Two accounts are still on my credit history af...     Credit reporting   \n",
       "3  I have a bank of America small business credit...  Credit/prepaid card   \n",
       "4  I opened a citi double cash card the beginning...  Credit/prepaid card   \n",
       "5  Although I am checking for and addressing miss...     Credit reporting   \n",
       "6  In an attempt to purchase concert tickets, I c...       Money services   \n",
       "7  I am attempting to sell my home and pay off my...             Mortgage   \n",
       "8  We are writing this letter to dispute a delinq...                Loans   \n",
       "9  I am writing to inform you of the unfortunate ...             Mortgage   \n",
       "\n",
       "                                 Complaint_Tokenized  \\\n",
       "0  [contacted, ally, friday, falling, behind, pay...   \n",
       "1  [got, loan, 500.00, late, http, owner, let, sp...   \n",
       "2  [two, accounts, still, credit, history, contac...   \n",
       "3  [bank, america, small, business, credit, card,...   \n",
       "4  [opened, citi, double, cash, card, beginning, ...   \n",
       "5  [although, checking, addressing, missing, defi...   \n",
       "6  [attempt, purchase, concert, tickets, communic...   \n",
       "7  [attempting, sell, home, pay, home, loan, phh,...   \n",
       "8  [writing, letter, dispute, delinquent, payment...   \n",
       "9  [writing, inform, unfortunate, set, circumstan...   \n",
       "\n",
       "                                Complaint_Lemmatized  \\\n",
       "0  [contact, ally, friday, fall, behind, payment,...   \n",
       "1  [get, loan, 500.00, late, http, owner, let, sp...   \n",
       "2  [two, account, still, credit, history, contact...   \n",
       "3  [bank, america, small, business, credit, card,...   \n",
       "4  [open, citi, double, cash, card, begin, still,...   \n",
       "5  [although, check, address, miss, deficient, as...   \n",
       "6  [attempt, purchase, concert, ticket, communica...   \n",
       "7  [attempt, sell, home, pay, home, loan, phh, mo...   \n",
       "8  [write, letter, dispute, delinquent, payment, ...   \n",
       "9  [write, inform, unfortunate, set, circumstance...   \n",
       "\n",
       "                                  Complaint_Sentence  \n",
       "0  contact ally friday fall behind payment due wo...  \n",
       "1  get loan 500.00 late http owner let spend 250....  \n",
       "2  two account still credit history contact credi...  \n",
       "3  bank america small business credit card reques...  \n",
       "4  open citi double cash card begin still receive...  \n",
       "5  although check address miss deficient aspect r...  \n",
       "6  attempt purchase concert ticket communicate in...  \n",
       "7  attempt sell home pay home loan phh mortgage p...  \n",
       "8  write letter dispute delinquent payment report...  \n",
       "9  write inform unfortunate set circumstance lead...  "
      ]
     },
     "execution_count": 58,
     "metadata": {},
     "output_type": "execute_result"
    }
   ],
   "source": [
    "complaints_df.head(10)"
   ]
  },
  {
   "cell_type": "markdown",
   "id": "ae2018cb",
   "metadata": {},
   "source": [
    "Below, we are going to use some visualizations in order to analyze the processed text and identify any potential patterns or even issues that we might have missed during the initial data cleaning."
   ]
  },
  {
   "cell_type": "code",
   "execution_count": 59,
   "id": "9079f649",
   "metadata": {},
   "outputs": [],
   "source": [
    "from collections import Counter\n",
    "from nltk.collocations import BigramCollocationFinder\n",
    "from nltk import word_tokenize"
   ]
  },
  {
   "cell_type": "code",
   "execution_count": 60,
   "id": "9b1d7736",
   "metadata": {},
   "outputs": [],
   "source": [
    "def compute_bigrams(input_df:pd.DataFrame, text_col: str) -> dict:\n",
    "    \"\"\" Calculate the number of occurences that a pair of words appear next to\n",
    "    each other, and return a dictionary of pair of words - count.\n",
    "    \"\"\"\n",
    "    combined_text = ' '.join([x for x in input_df[text_col] if x != ' '])\n",
    "\n",
    "    finder = BigramCollocationFinder.from_words(word_tokenize(combined_text))\n",
    "\n",
    "    bigrams_dict = {}\n",
    "    for k, v in finder.ngram_fd.items():\n",
    "        if len(k[0]) > 1 and len(k[1]) > 1:\n",
    "            bigrams_dict[k] = v\n",
    "        else:\n",
    "            continue\n",
    "    return bigrams_dict"
   ]
  },
  {
   "cell_type": "code",
   "execution_count": 61,
   "id": "a89be238",
   "metadata": {},
   "outputs": [],
   "source": [
    "def plot_bigrams(input_df:pd.DataFrame, text_col: str, top_n: int, figsize=(10, 8)) -> None:\n",
    "    \n",
    "    bigrams_dict = compute_bigrams(input_df=input_df, text_col=text_col)\n",
    "    bigrams_sorted = sorted(bigrams_dict.items(), key=lambda x: x[1], reverse=True)[0:top_n]\n",
    "    bgram, counts = list(zip(*bigrams_sorted))\n",
    "    bgstring = list(map(lambda txt: '-'.join(txt), bgram))\n",
    "    counts = list(counts)\n",
    "\n",
    "    plt.figure(figsize=figsize)\n",
    "    g = sns.barplot(bgstring, counts, palette='muted')\n",
    "    g.set_xticklabels(g.get_xticklabels(), rotation=80)\n",
    "    plt.title(f'Top-{top_n} pairs of words that appear next to each other', fontweight='bold')\n",
    "    plt.ylabel('Count')\n",
    "    plt.grid(True, alpha=0.1, color='black')\n",
    "    plt.show()  "
   ]
  },
  {
   "cell_type": "code",
   "execution_count": 62,
   "id": "440b25fc",
   "metadata": {},
   "outputs": [
    {
     "data": {
      "image/png": "[encoded data removed]",
      "text/plain": [
       "<Figure size 720x576 with 1 Axes>"
      ]
     },
     "metadata": {},
     "output_type": "display_data"
    }
   ],
   "source": [
    "plot_bigrams(input_df=complaints_df, text_col='Complaint_Sentence', top_n=15)"
   ]
  },
  {
   "cell_type": "markdown",
   "id": "3b96688a",
   "metadata": {},
   "source": [
    "<a id='train_test_sets'> </a>\n",
    "## Part 4 - Split the data to Train, Test and Validation sets"
   ]
  },
  {
   "cell_type": "code",
   "execution_count": 63,
   "id": "a85bc81c",
   "metadata": {},
   "outputs": [],
   "source": [
    "from sklearn.preprocessing import LabelEncoder\n",
    "from sklearn.model_selection import train_test_split"
   ]
  },
  {
   "cell_type": "code",
   "execution_count": 64,
   "id": "53fea386",
   "metadata": {},
   "outputs": [],
   "source": [
    "label_encoder = LabelEncoder()\n",
    "\n",
    "complaints_df['Product_Id'] = label_encoder.fit_transform(complaints_df['Product'])"
   ]
  },
  {
   "cell_type": "code",
   "execution_count": 65,
   "id": "707ca025",
   "metadata": {},
   "outputs": [
    {
     "data": {
      "text/plain": [
       "{0: 'Checking/savings account',\n",
       " 1: 'Credit reporting',\n",
       " 2: 'Credit/prepaid card',\n",
       " 3: 'Debt collection',\n",
       " 4: 'Loans',\n",
       " 5: 'Money services',\n",
       " 6: 'Mortgage'}"
      ]
     },
     "execution_count": 65,
     "metadata": {},
     "output_type": "execute_result"
    }
   ],
   "source": [
    "# Categories as a dictionary for reference\n",
    "product_map = complaints_df.set_index('Product_Id').to_dict()['Product']\n",
    "dict(sorted(product_map.items()))"
   ]
  },
  {
   "cell_type": "code",
   "execution_count": 66,
   "id": "77f5bc74",
   "metadata": {},
   "outputs": [
    {
     "data": {
      "text/html": [
       "<div>\n",
       "<style scoped>\n",
       "    .dataframe tbody tr th:only-of-type {\n",
       "        vertical-align: middle;\n",
       "    }\n",
       "\n",
       "    .dataframe tbody tr th {\n",
       "        vertical-align: top;\n",
       "    }\n",
       "\n",
       "    .dataframe thead th {\n",
       "        text-align: right;\n",
       "    }\n",
       "</style>\n",
       "<table border=\"1\" class=\"dataframe\">\n",
       "  <thead>\n",
       "    <tr style=\"text-align: right;\">\n",
       "      <th></th>\n",
       "      <th>Complaint</th>\n",
       "      <th>Product</th>\n",
       "      <th>Complaint_Tokenized</th>\n",
       "      <th>Complaint_Lemmatized</th>\n",
       "      <th>Complaint_Sentence</th>\n",
       "      <th>Product_Id</th>\n",
       "    </tr>\n",
       "  </thead>\n",
       "  <tbody>\n",
       "    <tr>\n",
       "      <th>0</th>\n",
       "      <td>I contacted Ally on Friday XX/XX/XXXX after fa...</td>\n",
       "      <td>Loans</td>\n",
       "      <td>[contacted, ally, friday, falling, behind, pay...</td>\n",
       "      <td>[contact, ally, friday, fall, behind, payment,...</td>\n",
       "      <td>contact ally friday fall behind payment due wo...</td>\n",
       "      <td>4</td>\n",
       "    </tr>\n",
       "    <tr>\n",
       "      <th>1</th>\n",
       "      <td>I got a loan for {$500.00} in late XXXX with h...</td>\n",
       "      <td>Loans</td>\n",
       "      <td>[got, loan, 500.00, late, http, owner, let, sp...</td>\n",
       "      <td>[get, loan, 500.00, late, http, owner, let, sp...</td>\n",
       "      <td>get loan 500.00 late http owner let spend 250....</td>\n",
       "      <td>4</td>\n",
       "    </tr>\n",
       "    <tr>\n",
       "      <th>2</th>\n",
       "      <td>Two accounts are still on my credit history af...</td>\n",
       "      <td>Credit reporting</td>\n",
       "      <td>[two, accounts, still, credit, history, contac...</td>\n",
       "      <td>[two, account, still, credit, history, contact...</td>\n",
       "      <td>two account still credit history contact credi...</td>\n",
       "      <td>1</td>\n",
       "    </tr>\n",
       "    <tr>\n",
       "      <th>3</th>\n",
       "      <td>I have a bank of America small business credit...</td>\n",
       "      <td>Credit/prepaid card</td>\n",
       "      <td>[bank, america, small, business, credit, card,...</td>\n",
       "      <td>[bank, america, small, business, credit, card,...</td>\n",
       "      <td>bank america small business credit card reques...</td>\n",
       "      <td>2</td>\n",
       "    </tr>\n",
       "    <tr>\n",
       "      <th>4</th>\n",
       "      <td>I opened a citi double cash card the beginning...</td>\n",
       "      <td>Credit/prepaid card</td>\n",
       "      <td>[opened, citi, double, cash, card, beginning, ...</td>\n",
       "      <td>[open, citi, double, cash, card, begin, still,...</td>\n",
       "      <td>open citi double cash card begin still receive...</td>\n",
       "      <td>2</td>\n",
       "    </tr>\n",
       "  </tbody>\n",
       "</table>\n",
       "</div>"
      ],
      "text/plain": [
       "                                           Complaint              Product  \\\n",
       "0  I contacted Ally on Friday XX/XX/XXXX after fa...                Loans   \n",
       "1  I got a loan for {$500.00} in late XXXX with h...                Loans   \n",
       "2  Two accounts are still on my credit history af...     Credit reporting   \n",
       "3  I have a bank of America small business credit...  Credit/prepaid card   \n",
       "4  I opened a citi double cash card the beginning...  Credit/prepaid card   \n",
       "\n",
       "                                 Complaint_Tokenized  \\\n",
       "0  [contacted, ally, friday, falling, behind, pay...   \n",
       "1  [got, loan, 500.00, late, http, owner, let, sp...   \n",
       "2  [two, accounts, still, credit, history, contac...   \n",
       "3  [bank, america, small, business, credit, card,...   \n",
       "4  [opened, citi, double, cash, card, beginning, ...   \n",
       "\n",
       "                                Complaint_Lemmatized  \\\n",
       "0  [contact, ally, friday, fall, behind, payment,...   \n",
       "1  [get, loan, 500.00, late, http, owner, let, sp...   \n",
       "2  [two, account, still, credit, history, contact...   \n",
       "3  [bank, america, small, business, credit, card,...   \n",
       "4  [open, citi, double, cash, card, begin, still,...   \n",
       "\n",
       "                                  Complaint_Sentence  Product_Id  \n",
       "0  contact ally friday fall behind payment due wo...           4  \n",
       "1  get loan 500.00 late http owner let spend 250....           4  \n",
       "2  two account still credit history contact credi...           1  \n",
       "3  bank america small business credit card reques...           2  \n",
       "4  open citi double cash card begin still receive...           2  "
      ]
     },
     "execution_count": 66,
     "metadata": {},
     "output_type": "execute_result"
    }
   ],
   "source": [
    "complaints_df.head(5)"
   ]
  },
  {
   "cell_type": "raw",
   "id": "bff49916",
   "metadata": {},
   "source": [
    "X = complaints_df['Complaint_Sentence']\n",
    "y = complaints_df['Product_Id']"
   ]
  },
  {
   "cell_type": "code",
   "execution_count": 67,
   "id": "da98217e",
   "metadata": {},
   "outputs": [],
   "source": [
    "X = list(complaints_df['Complaint_Lemmatized'])\n",
    "y = list(complaints_df['Product_Id'])"
   ]
  },
  {
   "cell_type": "markdown",
   "id": "6bb4047b",
   "metadata": {},
   "source": [
    "Split to Train/Test sets:"
   ]
  },
  {
   "cell_type": "code",
   "execution_count": 68,
   "id": "726246d5",
   "metadata": {},
   "outputs": [],
   "source": [
    "# Use the stratify parameter in order to split the target variabe (categories) evenly among train and test sets.\n",
    "X_train, X_test, y_train, y_test = train_test_split(X, y, test_size=0.20, random_state=42, stratify=y)"
   ]
  },
  {
   "cell_type": "markdown",
   "id": "1c55d9df",
   "metadata": {},
   "source": [
    "Further split to Train/Validations sets:"
   ]
  },
  {
   "cell_type": "code",
   "execution_count": 69,
   "id": "4c0b37bb",
   "metadata": {},
   "outputs": [],
   "source": [
    "X_train, X_val, y_train, y_val = train_test_split(X_train, y_train, test_size=0.20, random_state=42, stratify=y_train)"
   ]
  },
  {
   "cell_type": "code",
   "execution_count": 70,
   "id": "c11a7d55",
   "metadata": {},
   "outputs": [],
   "source": [
    "assert len(X_train) + len(X_val) + len(X_test) == len(X)\n",
    "assert len(y_train) + len(y_val) + len(y_test) == len(y)"
   ]
  },
  {
   "cell_type": "code",
   "execution_count": 71,
   "id": "aa4609f8",
   "metadata": {},
   "outputs": [
    {
     "name": "stdout",
     "output_type": "stream",
     "text": [
      "The training set has 117626 number of complaints.\n",
      "The validation set has 29407 number of complaints\n",
      "The test set has 36759 number of complaints\n"
     ]
    }
   ],
   "source": [
    "len(X_train), len(X_test), len(y_train), len(y_test)\n",
    "\n",
    "print('The training set has {0} number of complaints.\\nThe validation set has {1} number of complaints\\nThe test set has {2} number of complaints'.format(len(X_train), len(X_val), len(X_test)))"
   ]
  },
  {
   "cell_type": "markdown",
   "id": "e6ffde7a",
   "metadata": {},
   "source": [
    "Below we can visualize distribution of categories among the train and test sets where we can observe that both test and training set have similar distribution among the categories, which validates that we have correctly stratified the samples."
   ]
  },
  {
   "cell_type": "code",
   "execution_count": 72,
   "id": "a1819861",
   "metadata": {},
   "outputs": [
    {
     "data": {
      "image/png": "[encoded data removed]",
      "text/plain": [
       "<Figure size 1080x360 with 3 Axes>"
      ]
     },
     "metadata": {},
     "output_type": "display_data"
    }
   ],
   "source": [
    "fig, (ax1, ax2, ax3) = plt.subplots(1, 3, figsize=(15, 5))\n",
    "sns.barplot(x=sorted(pd.Series(y_train).unique()), y=pd.DataFrame(y_train).groupby(y_train).count().values[:,0], ax=ax1).set_title('Number of Complaints - Training Set')\n",
    "sns.barplot(x=sorted(pd.Series(y_test).unique()), y=pd.DataFrame(y_test).groupby(y_test).count().values[:,0], ax=ax2).set_title('Number of Complaints - Test Set')\n",
    "sns.barplot(x=sorted(pd.Series(y_val).unique()), y=pd.DataFrame(y_val).groupby(y_val).count().values[:,0], ax=ax3).set_title('Number of Complaints - Validation Set')\n",
    "ax1.set_xlabel('Category')\n",
    "ax1.set_ylabel('Count')\n",
    "ax1.grid(True, alpha=0.1, color='black')\n",
    "ax2.set_xlabel('Category')\n",
    "ax2.set_ylabel('Count')\n",
    "ax2.grid(True, alpha=0.1, color='black')\n",
    "ax3.set_xlabel('Category')\n",
    "ax3.set_ylabel('Count')\n",
    "ax3.grid(True, alpha=0.1, color='black')\n",
    "fig.tight_layout()\n",
    "plt.show()"
   ]
  },
  {
   "cell_type": "markdown",
   "id": "99d9322f",
   "metadata": {},
   "source": [
    "<a id='model_evaluation_metric'> </a>\n",
    "## Part 5 - Model Evaluation Metric\n",
    "\n",
    "Before we move further to the implementation of the actual machine learning algorithms to build the classification models, it's essential to pick an evaluation metric. This metric will be used in a dichotomous way. First, it will help us understand how well an individual algorithm is performing. Secondly, it will assist us during the _comparison_ between different algorithms, in order to decide which one is more accurate at categorizing complaints to their relevant Product category.\n",
    "\n",
    "In our project, we care about building a model that can categorize each of the complaints accurately, independently of which category it is - in other words, we want to classify as many points accurately as possible despite if they are coming from the majority or minority classes. That said, we would also want to build a robust classifier that is not only good at predicting the major categories, such as 'Deby Collection' and 'Credit Reporting'. Hence, we would want to take into consideration both of this points when deciding regarding the model evaluation metric."
   ]
  },
  {
   "cell_type": "markdown",
   "id": "6a19fc8e",
   "metadata": {},
   "source": [
    "Given that we are interested in building a process where we can assign as many complaints to their correct category as possible, we are proposing the F1-score as the main evaluation metric. Specifically, we will try to optimize and compare the models on the ‘macro’ version of the F1 score, which does not take into consideration the specific weights (i.e. number of instances per class) and thus assigns equal importance to each class. That way we can optimize the algorithms to favour all classes and not the majority ones. \n",
    "\n",
    "Specifically, the F1-score can be calculated by following the formula below:\n",
    "\n",
    " $Macro \\: F_{1}-score=\\frac{1}{|T|} \\cdot \\sum_{t{\\in}T}\\frac{2 \\cdot \\text{Precision} \\cdot\\text{Recall}}{\\text{Precision} + \\text{Recall}}$\n",
    "\n",
    ", where T is describing the number of classes/labels.\n",
    "\n",
    "Except the quantitative evaluation metric above, we will also take into consideration the practical implications of constructing a machine learning algorithm in the business world. Hence, we should also take into account the complexity, as well as the time train/tune each of the models.  These two factors can massively change the decisions that a company might make about which model to productionize, as more complex/time consuming models tend to be a higher cost for them.\n",
    "\n",
    "Thus, we will also attempt to compare the solutions based on what we believe would be more practical from a business perspective."
   ]
  },
  {
   "cell_type": "markdown",
   "id": "0e2d097e",
   "metadata": {},
   "source": [
    "<a id='benchmark_model'> </a>\n",
    "## Part 6 - Implementation of a Benchmark Model with Multinomial Naive Bayes\n",
    "\n",
    "At this part we are going to define the benchmark model which will be a simple model for classification, and it will be used as a \"baseline\" for what we define as a success. In other words, we will use this model as the _worst_ case model and then build a more sophisticated model, like XGBoost, with which we will try to outperform the benchmark one . \n",
    "\n",
    "For this purpose we are going to construct a Multinomial Naive Bayes Classifier model that will act as the benchmark model."
   ]
  },
  {
   "cell_type": "code",
   "execution_count": 73,
   "id": "6360f7f3",
   "metadata": {},
   "outputs": [],
   "source": [
    "del complaints_df"
   ]
  },
  {
   "cell_type": "code",
   "execution_count": 74,
   "id": "bec577da",
   "metadata": {},
   "outputs": [
    {
     "data": {
      "text/plain": [
       "PosixPath('/home/ec2-user/SageMaker/Capstone/data')"
      ]
     },
     "execution_count": 74,
     "metadata": {},
     "output_type": "execute_result"
    }
   ],
   "source": [
    "data_dir = project_dir / Path(config['input_data']['output_directory'])\n",
    "data_dir"
   ]
  },
  {
   "cell_type": "code",
   "execution_count": 75,
   "id": "959e56ef",
   "metadata": {},
   "outputs": [],
   "source": [
    "import numpy as np\n",
    "import joblib\n",
    "\n",
    "from sklearn.feature_extraction.text import CountVectorizer\n",
    "\n",
    "vectorizer = CountVectorizer(\n",
    "    max_features=3000,\n",
    "    preprocessor=lambda x: x,\n",
    "    tokenizer=lambda x: x,\n",
    "    analyzer='word',\n",
    "    ngram_range=(1,1)\n",
    ")\n",
    "\n",
    "\n",
    "def extract_bag_of_words_features(vectorizer, x_train, x_test, x_val):\n",
    "    \"\"\"Extract Bag-of-Words for a given set of documents, already preprocessed into words.\"\"\"\n",
    "      \n",
    "    \n",
    "    features_train = vectorizer.fit_transform(x_train).toarray()\n",
    "\n",
    "    features_test = vectorizer.transform(x_test).toarray()\n",
    "    \n",
    "    features_val = vectorizer.transform(x_val).toarray()\n",
    "\n",
    "    return features_train, features_test, features_val"
   ]
  },
  {
   "cell_type": "code",
   "execution_count": 76,
   "id": "e08ce65f",
   "metadata": {},
   "outputs": [],
   "source": [
    "train_X, test_X, val_X = extract_bag_of_words_features(vectorizer, X_train, X_test, X_val)"
   ]
  },
  {
   "cell_type": "markdown",
   "id": "5ddc070e",
   "metadata": {},
   "source": [
    "Save the files locally"
   ]
  },
  {
   "cell_type": "code",
   "execution_count": 77,
   "id": "bdc0d057",
   "metadata": {},
   "outputs": [],
   "source": [
    "# Saving train data\n",
    "pd.concat([pd.DataFrame(y_train), pd.DataFrame(train_X)], axis=1).to_csv(os.path.join(data_dir, 'train.csv'), header=False, index=False)\n",
    "\n",
    "# Saving validation data\n",
    "pd.concat([pd.DataFrame(y_val), pd.DataFrame(val_X)], axis=1).to_csv(os.path.join(data_dir, 'validation.csv'), header=False, index=False)\n",
    "\n",
    "# Saving test data\n",
    "pd.DataFrame(test_X).to_csv(os.path.join(data_dir, 'test.csv'), header=False, index=False)"
   ]
  },
  {
   "cell_type": "markdown",
   "id": "1963a794",
   "metadata": {},
   "source": [
    "Now we can start with the model implementation. At first we will need to do some setup like setting up the required AWS roles, bucket, etc , as well as upload our training and test files in the relevant S3 bucket."
   ]
  },
  {
   "cell_type": "code",
   "execution_count": 78,
   "id": "1b58827c",
   "metadata": {},
   "outputs": [
    {
     "name": "stdout",
     "output_type": "stream",
     "text": [
      "Role: arn:aws:iam::146083442879:role/service-role/AmazonSageMaker-ExecutionRole-20210930T202561\n",
      "Bucket: sagemaker-eu-west-2-146083442879\n"
     ]
    }
   ],
   "source": [
    "import sagemaker\n",
    "import boto3\n",
    "\n",
    "sagemaker_session = sagemaker.Session()\n",
    "role = sagemaker.get_execution_role()\n",
    "bucket = sagemaker_session.default_bucket()\n",
    "\n",
    "print(\"Role: {0}\\nBucket: {1}\".format(role, bucket))"
   ]
  },
  {
   "cell_type": "code",
   "execution_count": 79,
   "id": "32eed796",
   "metadata": {},
   "outputs": [],
   "source": [
    "s3_prefix_common = 'capstone-common-data'"
   ]
  },
  {
   "cell_type": "code",
   "execution_count": 80,
   "id": "23d6df06",
   "metadata": {},
   "outputs": [],
   "source": [
    "train_data_loc_s3 = sagemaker_session.upload_data(os.path.join(data_dir, 'train.csv'), key_prefix=s3_prefix_common)\n",
    "test_data_loc_s3 = sagemaker_session.upload_data(os.path.join(data_dir, 'test.csv'), key_prefix=s3_prefix_common)\n",
    "validation_data_loc_s3 = sagemaker_session.upload_data(os.path.join(data_dir, 'validation.csv'), key_prefix=s3_prefix_common)"
   ]
  },
  {
   "cell_type": "code",
   "execution_count": 81,
   "id": "1f67f129",
   "metadata": {},
   "outputs": [
    {
     "name": "stdout",
     "output_type": "stream",
     "text": [
      "s3://sagemaker-eu-west-2-146083442879/capstone-common-data/train.csv\n",
      "s3://sagemaker-eu-west-2-146083442879/capstone-common-data/test.csv\n",
      "s3://sagemaker-eu-west-2-146083442879/capstone-common-data/validation.csv\n"
     ]
    }
   ],
   "source": [
    "print(train_data_loc_s3)\n",
    "print(test_data_loc_s3)\n",
    "print(validation_data_loc_s3)"
   ]
  },
  {
   "cell_type": "raw",
   "id": "559a2cb1",
   "metadata": {},
   "source": [
    "train_data_loc_s3 = 's3://sagemaker-eu-west-2-146083442879/capstone-common-data/train.csv'\n",
    "validation_data_loc_s3 = 's3://sagemaker-eu-west-2-146083442879/capstone-common-data/validation.csv'\n",
    "test_data_loc_s3 = 's3://sagemaker-eu-west-2-146083442879/capstone-common-data/test.csv'"
   ]
  },
  {
   "cell_type": "markdown",
   "id": "5e0e494d",
   "metadata": {},
   "source": [
    "The two paths above contain the final data (train, test) that will be used from the different models that we are going to construct below.\n",
    "\n",
    "Now we can final start with the implementation of the **benchmark model**, which is going to be a Multinomial Naive Bayes Model.\n",
    "\n",
    "## Implementation of the Multinomial Naive Bayes model"
   ]
  },
  {
   "cell_type": "code",
   "execution_count": 82,
   "id": "d5e922d1",
   "metadata": {},
   "outputs": [],
   "source": [
    "from sagemaker.sklearn.estimator import SKLearn\n",
    "\n",
    "s3_prefix_mnb = 'capstone-MNB'\n",
    "\n",
    "output_path = 's3://{}/{}'.format(bucket, s3_prefix_mnb)\n",
    "FRAMEWORK_VERSION='0.23-1'\n",
    "\n",
    "hyper_param_dict = {'alpha': 0.01}\n",
    "\n",
    "mnb_estimator = SKLearn(\n",
    "    source_dir='models',\n",
    "    entry_point='train_mnb_optimized.py',\n",
    "    role=role,\n",
    "    framework_version=FRAMEWORK_VERSION,\n",
    "    py_version='py3',\n",
    "    instance_count = 1,\n",
    "    instance_type = 'ml.m5.2xlarge',\n",
    "    hyperparameters=hyper_param_dict,\n",
    "    output_path = output_path,\n",
    "    sagemaker_session = sagemaker_session\n",
    ")"
   ]
  },
  {
   "cell_type": "code",
   "execution_count": 83,
   "id": "63ae1921",
   "metadata": {},
   "outputs": [
    {
     "name": "stdout",
     "output_type": "stream",
     "text": [
      "2021-10-21 13:57:28 Starting - Starting the training job...\n",
      "2021-10-21 13:57:30 Starting - Launching requested ML instancesProfilerReport-1634824648: InProgress\n",
      "...\n",
      "2021-10-21 13:58:22 Starting - Preparing the instances for training.........\n",
      "2021-10-21 13:59:55 Downloading - Downloading input data\n",
      "2021-10-21 13:59:55 Training - Downloading the training image...\n",
      "2021-10-21 14:00:15 Training - Training image download completed. Training in progress.\u001b[34m2021-10-21 14:00:15,436 sagemaker-containers INFO     Imported framework sagemaker_sklearn_container.training\u001b[0m\n",
      "\u001b[34m2021-10-21 14:00:15,438 sagemaker-training-toolkit INFO     No GPUs detected (normal if no gpus installed)\u001b[0m\n",
      "\u001b[34m2021-10-21 14:00:15,448 sagemaker_sklearn_container.training INFO     Invoking user training script.\u001b[0m\n",
      "\u001b[34m2021-10-21 14:00:15,697 sagemaker-training-toolkit INFO     No GPUs detected (normal if no gpus installed)\u001b[0m\n",
      "\u001b[34m2021-10-21 14:00:18,748 sagemaker-training-toolkit INFO     No GPUs detected (normal if no gpus installed)\u001b[0m\n",
      "\u001b[34m2021-10-21 14:00:18,761 sagemaker-training-toolkit INFO     No GPUs detected (normal if no gpus installed)\u001b[0m\n",
      "\u001b[34m2021-10-21 14:00:18,770 sagemaker-training-toolkit INFO     Invoking user script\n",
      "\u001b[0m\n",
      "\u001b[34mTraining Env:\n",
      "\u001b[0m\n",
      "\u001b[34m{\n",
      "    \"additional_framework_parameters\": {},\n",
      "    \"channel_input_dirs\": {\n",
      "        \"validation\": \"/opt/ml/input/data/validation\",\n",
      "        \"train\": \"/opt/ml/input/data/train\"\n",
      "    },\n",
      "    \"current_host\": \"algo-1\",\n",
      "    \"framework_module\": \"sagemaker_sklearn_container.training:main\",\n",
      "    \"hosts\": [\n",
      "        \"algo-1\"\n",
      "    ],\n",
      "    \"hyperparameters\": {\n",
      "        \"alpha\": 0.01\n",
      "    },\n",
      "    \"input_config_dir\": \"/opt/ml/input/config\",\n",
      "    \"input_data_config\": {\n",
      "        \"validation\": {\n",
      "            \"TrainingInputMode\": \"File\",\n",
      "            \"S3DistributionType\": \"FullyReplicated\",\n",
      "            \"RecordWrapperType\": \"None\"\n",
      "        },\n",
      "        \"train\": {\n",
      "            \"TrainingInputMode\": \"File\",\n",
      "            \"S3DistributionType\": \"FullyReplicated\",\n",
      "            \"RecordWrapperType\": \"None\"\n",
      "        }\n",
      "    },\n",
      "    \"input_dir\": \"/opt/ml/input\",\n",
      "    \"is_master\": true,\n",
      "    \"job_name\": \"sagemaker-scikit-learn-2021-10-21-13-57-28-165\",\n",
      "    \"log_level\": 20,\n",
      "    \"master_hostname\": \"algo-1\",\n",
      "    \"model_dir\": \"/opt/ml/model\",\n",
      "    \"module_dir\": \"s3://sagemaker-eu-west-2-146083442879/sagemaker-scikit-learn-2021-10-21-13-57-28-165/source/sourcedir.tar.gz\",\n",
      "    \"module_name\": \"train_mnb_optimized\",\n",
      "    \"network_interface_name\": \"eth0\",\n",
      "    \"num_cpus\": 8,\n",
      "    \"num_gpus\": 0,\n",
      "    \"output_data_dir\": \"/opt/ml/output/data\",\n",
      "    \"output_dir\": \"/opt/ml/output\",\n",
      "    \"output_intermediate_dir\": \"/opt/ml/output/intermediate\",\n",
      "    \"resource_config\": {\n",
      "        \"current_host\": \"algo-1\",\n",
      "        \"hosts\": [\n",
      "            \"algo-1\"\n",
      "        ],\n",
      "        \"network_interface_name\": \"eth0\"\n",
      "    },\n",
      "    \"user_entry_point\": \"train_mnb_optimized.py\"\u001b[0m\n",
      "\u001b[34m}\n",
      "\u001b[0m\n",
      "\u001b[34mEnvironment variables:\n",
      "\u001b[0m\n",
      "\u001b[34mSM_HOSTS=[\"algo-1\"]\u001b[0m\n",
      "\u001b[34mSM_NETWORK_INTERFACE_NAME=eth0\u001b[0m\n",
      "\u001b[34mSM_HPS={\"alpha\":0.01}\u001b[0m\n",
      "\u001b[34mSM_USER_ENTRY_POINT=train_mnb_optimized.py\u001b[0m\n",
      "\u001b[34mSM_FRAMEWORK_PARAMS={}\u001b[0m\n",
      "\u001b[34mSM_RESOURCE_CONFIG={\"current_host\":\"algo-1\",\"hosts\":[\"algo-1\"],\"network_interface_name\":\"eth0\"}\u001b[0m\n",
      "\u001b[34mSM_INPUT_DATA_CONFIG={\"train\":{\"RecordWrapperType\":\"None\",\"S3DistributionType\":\"FullyReplicated\",\"TrainingInputMode\":\"File\"},\"validation\":{\"RecordWrapperType\":\"None\",\"S3DistributionType\":\"FullyReplicated\",\"TrainingInputMode\":\"File\"}}\u001b[0m\n",
      "\u001b[34mSM_OUTPUT_DATA_DIR=/opt/ml/output/data\u001b[0m\n",
      "\u001b[34mSM_CHANNELS=[\"train\",\"validation\"]\u001b[0m\n",
      "\u001b[34mSM_CURRENT_HOST=algo-1\u001b[0m\n",
      "\u001b[34mSM_MODULE_NAME=train_mnb_optimized\u001b[0m\n",
      "\u001b[34mSM_LOG_LEVEL=20\u001b[0m\n",
      "\u001b[34mSM_FRAMEWORK_MODULE=sagemaker_sklearn_container.training:main\u001b[0m\n",
      "\u001b[34mSM_INPUT_DIR=/opt/ml/input\u001b[0m\n",
      "\u001b[34mSM_INPUT_CONFIG_DIR=/opt/ml/input/config\u001b[0m\n",
      "\u001b[34mSM_OUTPUT_DIR=/opt/ml/output\u001b[0m\n",
      "\u001b[34mSM_NUM_CPUS=8\u001b[0m\n",
      "\u001b[34mSM_NUM_GPUS=0\u001b[0m\n",
      "\u001b[34mSM_MODEL_DIR=/opt/ml/model\u001b[0m\n",
      "\u001b[34mSM_MODULE_DIR=s3://sagemaker-eu-west-2-146083442879/sagemaker-scikit-learn-2021-10-21-13-57-28-165/source/sourcedir.tar.gz\u001b[0m\n",
      "\u001b[34mSM_TRAINING_ENV={\"additional_framework_parameters\":{},\"channel_input_dirs\":{\"train\":\"/opt/ml/input/data/train\",\"validation\":\"/opt/ml/input/data/validation\"},\"current_host\":\"algo-1\",\"framework_module\":\"sagemaker_sklearn_container.training:main\",\"hosts\":[\"algo-1\"],\"hyperparameters\":{\"alpha\":0.01},\"input_config_dir\":\"/opt/ml/input/config\",\"input_data_config\":{\"train\":{\"RecordWrapperType\":\"None\",\"S3DistributionType\":\"FullyReplicated\",\"TrainingInputMode\":\"File\"},\"validation\":{\"RecordWrapperType\":\"None\",\"S3DistributionType\":\"FullyReplicated\",\"TrainingInputMode\":\"File\"}},\"input_dir\":\"/opt/ml/input\",\"is_master\":true,\"job_name\":\"sagemaker-scikit-learn-2021-10-21-13-57-28-165\",\"log_level\":20,\"master_hostname\":\"algo-1\",\"model_dir\":\"/opt/ml/model\",\"module_dir\":\"s3://sagemaker-eu-west-2-146083442879/sagemaker-scikit-learn-2021-10-21-13-57-28-165/source/sourcedir.tar.gz\",\"module_name\":\"train_mnb_optimized\",\"network_interface_name\":\"eth0\",\"num_cpus\":8,\"num_gpus\":0,\"output_data_dir\":\"/opt/ml/output/data\",\"output_dir\":\"/opt/ml/output\",\"output_intermediate_dir\":\"/opt/ml/output/intermediate\",\"resource_config\":{\"current_host\":\"algo-1\",\"hosts\":[\"algo-1\"],\"network_interface_name\":\"eth0\"},\"user_entry_point\":\"train_mnb_optimized.py\"}\u001b[0m\n",
      "\u001b[34mSM_USER_ARGS=[\"--alpha\",\"0.01\"]\u001b[0m\n",
      "\u001b[34mSM_OUTPUT_INTERMEDIATE_DIR=/opt/ml/output/intermediate\u001b[0m\n",
      "\u001b[34mSM_CHANNEL_VALIDATION=/opt/ml/input/data/validation\u001b[0m\n",
      "\u001b[34mSM_CHANNEL_TRAIN=/opt/ml/input/data/train\u001b[0m\n",
      "\u001b[34mSM_HP_ALPHA=0.01\u001b[0m\n",
      "\u001b[34mPYTHONPATH=/opt/ml/code:/miniconda3/bin:/miniconda3/lib/python37.zip:/miniconda3/lib/python3.7:/miniconda3/lib/python3.7/lib-dynload:/miniconda3/lib/python3.7/site-packages\n",
      "\u001b[0m\n",
      "\u001b[34mInvoking script with the following command:\n",
      "\u001b[0m\n",
      "\u001b[34m/miniconda3/bin/python train_mnb_optimized.py --alpha 0.01\n",
      "\n",
      "\u001b[0m\n",
      "\u001b[34mFitting 10 folds for each of 7 candidates, totalling 70 fits\u001b[0m\n",
      "\u001b[34m[Parallel(n_jobs=1)]: Using backend SequentialBackend with 1 concurrent workers.\u001b[0m\n",
      "\u001b[34m[Parallel(n_jobs=1)]: Done  70 out of  70 | elapsed:  8.6min finished\u001b[0m\n",
      "\u001b[34mBest estimator: MultinomialNB(alpha=0.05)\n",
      "\n",
      "\n",
      "   mean_fit_time  std_fit_time  ...  std_test_f1_macro  rank_test_f1_macro\u001b[0m\n",
      "\u001b[34m0       7.163845      0.020929  ...           0.002947                   2\u001b[0m\n",
      "\u001b[34m1       7.164723      0.019593  ...           0.002935                   1\u001b[0m\n",
      "\u001b[34m2       7.141621      0.028207  ...           0.002925                   3\u001b[0m\n",
      "\u001b[34m3       7.171502      0.015793  ...           0.002747                   4\u001b[0m\n",
      "\u001b[34m4       7.180166      0.064181  ...           0.002707                   5\u001b[0m\n",
      "\u001b[34m5       7.172428      0.020672  ...           0.002760                   6\u001b[0m\n",
      "\u001b[34m6       7.152936      0.014206  ...           0.002948                   7\n",
      "\u001b[0m\n",
      "\u001b[34m[7 rows x 19 columns]\u001b[0m\n",
      "\u001b[34m2021-10-21 14:09:30,919 sagemaker-containers INFO     Reporting training SUCCESS\u001b[0m\n",
      "\n",
      "2021-10-21 14:10:38 Uploading - Uploading generated training model\n",
      "2021-10-21 14:10:38 Completed - Training job completed\n",
      "Training seconds: 654\n",
      "Billable seconds: 654\n"
     ]
    }
   ],
   "source": [
    "mnb_estimator.fit({'train': train_data_loc_s3, 'validation': validation_data_loc_s3})"
   ]
  },
  {
   "cell_type": "code",
   "execution_count": 84,
   "id": "349fe198",
   "metadata": {},
   "outputs": [],
   "source": [
    "mnb_transformer = mnb_estimator.transformer(\n",
    "    instance_count = 1,\n",
    "    instance_type = 'ml.m5.2xlarge',\n",
    "    max_payload=20\n",
    ")"
   ]
  },
  {
   "cell_type": "code",
   "execution_count": 85,
   "id": "22274698",
   "metadata": {},
   "outputs": [
    {
     "name": "stdout",
     "output_type": "stream",
     "text": [
      "Test input retrieved from .. s3://sagemaker-eu-west-2-146083442879/capstone-common-data/test.csv\n"
     ]
    }
   ],
   "source": [
    "print('Test input retrieved from .. {0}'.format(test_data_loc_s3))"
   ]
  },
  {
   "cell_type": "code",
   "execution_count": 86,
   "id": "28157034",
   "metadata": {},
   "outputs": [
    {
     "name": "stdout",
     "output_type": "stream",
     "text": [
      "..........................\u001b[34m2021-10-21 14:15:05,588 INFO - sagemaker-containers - No GPUs detected (normal if no gpus installed)\u001b[0m\n",
      "\u001b[34m2021-10-21 14:15:05,591 INFO - sagemaker-containers - No GPUs detected (normal if no gpus installed)\u001b[0m\n",
      "\u001b[34m2021-10-21 14:15:05,591 INFO - sagemaker-containers - nginx config: \u001b[0m\n",
      "\u001b[34mworker_processes auto;\u001b[0m\n",
      "\u001b[34mdaemon off;\u001b[0m\n",
      "\u001b[34mpid /tmp/nginx.pid;\u001b[0m\n",
      "\u001b[35m2021-10-21 14:15:05,588 INFO - sagemaker-containers - No GPUs detected (normal if no gpus installed)\u001b[0m\n",
      "\u001b[35m2021-10-21 14:15:05,591 INFO - sagemaker-containers - No GPUs detected (normal if no gpus installed)\u001b[0m\n",
      "\u001b[35m2021-10-21 14:15:05,591 INFO - sagemaker-containers - nginx config: \u001b[0m\n",
      "\u001b[35mworker_processes auto;\u001b[0m\n",
      "\u001b[35mdaemon off;\u001b[0m\n",
      "\u001b[35mpid /tmp/nginx.pid;\u001b[0m\n",
      "\u001b[34merror_log  /dev/stderr;\u001b[0m\n",
      "\u001b[34mworker_rlimit_nofile 4096;\u001b[0m\n",
      "\u001b[34mevents {\n",
      "  worker_connections 2048;\u001b[0m\n",
      "\u001b[34m}\u001b[0m\n",
      "\u001b[34mhttp {\n",
      "  include /etc/nginx/mime.types;\n",
      "  default_type application/octet-stream;\n",
      "  access_log /dev/stdout combined;\n",
      "  upstream gunicorn {\n",
      "    server unix:/tmp/gunicorn.sock;\n",
      "  }\n",
      "  server {\n",
      "    listen 8080 deferred;\n",
      "    client_max_body_size 0;\n",
      "    keepalive_timeout 3;\n",
      "    location ~ ^/(ping|invocations|execution-parameters) {\n",
      "      proxy_set_header X-Forwarded-For $proxy_add_x_forwarded_for;\n",
      "      proxy_set_header Host $http_host;\n",
      "      proxy_redirect off;\n",
      "      proxy_read_timeout 60s;\n",
      "      proxy_pass http://gunicorn;\n",
      "    }\n",
      "    location / {\n",
      "      return 404 \"{}\";\n",
      "    }\n",
      "  }\u001b[0m\n",
      "\u001b[34m}\u001b[0m\n",
      "\u001b[34m2021-10-21 14:15:05,735 INFO - sagemaker-containers - Module train_mnb_optimized does not provide a setup.py. \u001b[0m\n",
      "\u001b[34mGenerating setup.py\u001b[0m\n",
      "\u001b[34m2021-10-21 14:15:05,735 INFO - sagemaker-containers - Generating setup.cfg\u001b[0m\n",
      "\u001b[34m2021-10-21 14:15:05,735 INFO - sagemaker-containers - Generating MANIFEST.in\u001b[0m\n",
      "\u001b[34m2021-10-21 14:15:05,735 INFO - sagemaker-containers - Installing module with the following command:\u001b[0m\n",
      "\u001b[34m/miniconda3/bin/python3 -m pip install . \u001b[0m\n",
      "\u001b[34mProcessing /opt/ml/code\n",
      "  DEPRECATION: A future pip version will change local packages to be built in-place without first copying to a temporary directory. We recommend you use --use-feature=in-tree-build to test your packages with this new behavior before it becomes the default.\n",
      "   pip 21.3 will remove support for this functionality. You can find discussion regarding this at https://github.com/pypa/pip/issues/7555.\u001b[0m\n",
      "\u001b[34mBuilding wheels for collected packages: train-mnb-optimized\n",
      "  Building wheel for train-mnb-optimized (setup.py): started\n",
      "  Building wheel for train-mnb-optimized (setup.py): finished with status 'done'\n",
      "  Created wheel for train-mnb-optimized: filename=train_mnb_optimized-1.0.0-py2.py3-none-any.whl size=4717 sha256=c640fff3f0768a7cb11bf5c83eb1550401dc6b10cef4f7bcadcf372d1966ce73\n",
      "  Stored in directory: /home/model-server/tmp/pip-ephem-wheel-cache-l_h4gkze/wheels/3e/0f/51/2f1df833dd0412c1bc2f5ee56baac195b5be563353d111dca6\u001b[0m\n",
      "\u001b[35merror_log  /dev/stderr;\u001b[0m\n",
      "\u001b[35mworker_rlimit_nofile 4096;\u001b[0m\n",
      "\u001b[35mevents {\n",
      "  worker_connections 2048;\u001b[0m\n",
      "\u001b[35m}\u001b[0m\n",
      "\u001b[35mhttp {\n",
      "  include /etc/nginx/mime.types;\n",
      "  default_type application/octet-stream;\n",
      "  access_log /dev/stdout combined;\n",
      "  upstream gunicorn {\n",
      "    server unix:/tmp/gunicorn.sock;\n",
      "  }\n",
      "  server {\n",
      "    listen 8080 deferred;\n",
      "    client_max_body_size 0;\n",
      "    keepalive_timeout 3;\n",
      "    location ~ ^/(ping|invocations|execution-parameters) {\n",
      "      proxy_set_header X-Forwarded-For $proxy_add_x_forwarded_for;\n",
      "      proxy_set_header Host $http_host;\n",
      "      proxy_redirect off;\n",
      "      proxy_read_timeout 60s;\n",
      "      proxy_pass http://gunicorn;\n",
      "    }\n",
      "    location / {\n",
      "      return 404 \"{}\";\n",
      "    }\n",
      "  }\u001b[0m\n",
      "\u001b[35m}\u001b[0m\n",
      "\u001b[35m2021-10-21 14:15:05,735 INFO - sagemaker-containers - Module train_mnb_optimized does not provide a setup.py. \u001b[0m\n",
      "\u001b[35mGenerating setup.py\u001b[0m\n",
      "\u001b[35m2021-10-21 14:15:05,735 INFO - sagemaker-containers - Generating setup.cfg\u001b[0m\n",
      "\u001b[35m2021-10-21 14:15:05,735 INFO - sagemaker-containers - Generating MANIFEST.in\u001b[0m\n",
      "\u001b[35m2021-10-21 14:15:05,735 INFO - sagemaker-containers - Installing module with the following command:\u001b[0m\n",
      "\u001b[35m/miniconda3/bin/python3 -m pip install . \u001b[0m\n",
      "\u001b[35mProcessing /opt/ml/code\n",
      "  DEPRECATION: A future pip version will change local packages to be built in-place without first copying to a temporary directory. We recommend you use --use-feature=in-tree-build to test your packages with this new behavior before it becomes the default.\n",
      "   pip 21.3 will remove support for this functionality. You can find discussion regarding this at https://github.com/pypa/pip/issues/7555.\u001b[0m\n",
      "\u001b[35mBuilding wheels for collected packages: train-mnb-optimized\n",
      "  Building wheel for train-mnb-optimized (setup.py): started\n",
      "  Building wheel for train-mnb-optimized (setup.py): finished with status 'done'\n",
      "  Created wheel for train-mnb-optimized: filename=train_mnb_optimized-1.0.0-py2.py3-none-any.whl size=4717 sha256=c640fff3f0768a7cb11bf5c83eb1550401dc6b10cef4f7bcadcf372d1966ce73\n",
      "  Stored in directory: /home/model-server/tmp/pip-ephem-wheel-cache-l_h4gkze/wheels/3e/0f/51/2f1df833dd0412c1bc2f5ee56baac195b5be563353d111dca6\u001b[0m\n",
      "\u001b[34mSuccessfully built train-mnb-optimized\u001b[0m\n",
      "\u001b[34mInstalling collected packages: train-mnb-optimized\u001b[0m\n",
      "\u001b[34mSuccessfully installed train-mnb-optimized-1.0.0\u001b[0m\n",
      "\u001b[34mWARNING: Running pip as the 'root' user can result in broken permissions and conflicting behaviour with the system package manager. It is recommended to use a virtual environment instead: https://pip.pypa.io/warnings/venv\u001b[0m\n",
      "\u001b[34mWARNING: You are using pip version 21.2.4; however, version 21.3 is available.\u001b[0m\n",
      "\u001b[34mYou should consider upgrading via the '/miniconda3/bin/python3 -m pip install --upgrade pip' command.\u001b[0m\n",
      "\u001b[34m[2021-10-21 14:15:07 +0000] [49] [INFO] Starting gunicorn 20.0.4\u001b[0m\n",
      "\u001b[34m[2021-10-21 14:15:07 +0000] [49] [INFO] Listening at: unix:/tmp/gunicorn.sock (49)\u001b[0m\n",
      "\u001b[34m[2021-10-21 14:15:07 +0000] [49] [INFO] Using worker: gevent\u001b[0m\n",
      "\u001b[34m[2021-10-21 14:15:07 +0000] [52] [INFO] Booting worker with pid: 52\u001b[0m\n",
      "\u001b[34m[2021-10-21 14:15:07 +0000] [53] [INFO] Booting worker with pid: 53\u001b[0m\n",
      "\u001b[34m[2021-10-21 14:15:07 +0000] [61] [INFO] Booting worker with pid: 61\u001b[0m\n",
      "\u001b[34m[2021-10-21 14:15:07 +0000] [62] [INFO] Booting worker with pid: 62\u001b[0m\n",
      "\u001b[34m[2021-10-21 14:15:07 +0000] [63] [INFO] Booting worker with pid: 63\u001b[0m\n",
      "\u001b[34m[2021-10-21 14:15:07 +0000] [64] [INFO] Booting worker with pid: 64\u001b[0m\n",
      "\u001b[34m[2021-10-21 14:15:07 +0000] [72] [INFO] Booting worker with pid: 72\u001b[0m\n",
      "\u001b[34m[2021-10-21 14:15:07 +0000] [73] [INFO] Booting worker with pid: 73\u001b[0m\n",
      "\u001b[34m2021-10-21 14:15:10,053 INFO - sagemaker-containers - No GPUs detected (normal if no gpus installed)\u001b[0m\n",
      "\u001b[35mSuccessfully built train-mnb-optimized\u001b[0m\n",
      "\u001b[35mInstalling collected packages: train-mnb-optimized\u001b[0m\n",
      "\u001b[35mSuccessfully installed train-mnb-optimized-1.0.0\u001b[0m\n",
      "\u001b[35mWARNING: Running pip as the 'root' user can result in broken permissions and conflicting behaviour with the system package manager. It is recommended to use a virtual environment instead: https://pip.pypa.io/warnings/venv\u001b[0m\n",
      "\u001b[35mWARNING: You are using pip version 21.2.4; however, version 21.3 is available.\u001b[0m\n",
      "\u001b[35mYou should consider upgrading via the '/miniconda3/bin/python3 -m pip install --upgrade pip' command.\u001b[0m\n",
      "\u001b[35m[2021-10-21 14:15:07 +0000] [49] [INFO] Starting gunicorn 20.0.4\u001b[0m\n",
      "\u001b[35m[2021-10-21 14:15:07 +0000] [49] [INFO] Listening at: unix:/tmp/gunicorn.sock (49)\u001b[0m\n",
      "\u001b[35m[2021-10-21 14:15:07 +0000] [49] [INFO] Using worker: gevent\u001b[0m\n",
      "\u001b[35m[2021-10-21 14:15:07 +0000] [52] [INFO] Booting worker with pid: 52\u001b[0m\n",
      "\u001b[35m[2021-10-21 14:15:07 +0000] [53] [INFO] Booting worker with pid: 53\u001b[0m\n",
      "\u001b[35m[2021-10-21 14:15:07 +0000] [61] [INFO] Booting worker with pid: 61\u001b[0m\n",
      "\u001b[35m[2021-10-21 14:15:07 +0000] [62] [INFO] Booting worker with pid: 62\u001b[0m\n",
      "\u001b[35m[2021-10-21 14:15:07 +0000] [63] [INFO] Booting worker with pid: 63\u001b[0m\n",
      "\u001b[35m[2021-10-21 14:15:07 +0000] [64] [INFO] Booting worker with pid: 64\u001b[0m\n",
      "\u001b[35m[2021-10-21 14:15:07 +0000] [72] [INFO] Booting worker with pid: 72\u001b[0m\n",
      "\u001b[35m[2021-10-21 14:15:07 +0000] [73] [INFO] Booting worker with pid: 73\u001b[0m\n",
      "\u001b[35m2021-10-21 14:15:10,053 INFO - sagemaker-containers - No GPUs detected (normal if no gpus installed)\u001b[0m\n",
      "\u001b[34mLoading model.\u001b[0m\n",
      "\u001b[34mDone loading model.\u001b[0m\n",
      "\u001b[34m169.254.255.130 - - [21/Oct/2021:14:15:10 +0000] \"GET /ping HTTP/1.1\" 200 0 \"-\" \"Go-http-client/1.1\"\u001b[0m\n",
      "\u001b[35mLoading model.\u001b[0m\n",
      "\u001b[35mDone loading model.\u001b[0m\n",
      "\u001b[35m169.254.255.130 - - [21/Oct/2021:14:15:10 +0000] \"GET /ping HTTP/1.1\" 200 0 \"-\" \"Go-http-client/1.1\"\u001b[0m\n",
      "\u001b[34m2021-10-21 14:15:10,747 INFO - sagemaker-containers - No GPUs detected (normal if no gpus installed)\u001b[0m\n",
      "\u001b[34mLoading model.\u001b[0m\n",
      "\u001b[34mDone loading model.\u001b[0m\n",
      "\u001b[34m169.254.255.130 - - [21/Oct/2021:14:15:11 +0000] \"GET /execution-parameters HTTP/1.1\" 404 232 \"-\" \"Go-http-client/1.1\"\u001b[0m\n",
      "\u001b[35m2021-10-21 14:15:10,747 INFO - sagemaker-containers - No GPUs detected (normal if no gpus installed)\u001b[0m\n",
      "\u001b[35mLoading model.\u001b[0m\n",
      "\u001b[35mDone loading model.\u001b[0m\n",
      "\u001b[35m169.254.255.130 - - [21/Oct/2021:14:15:11 +0000] \"GET /execution-parameters HTTP/1.1\" 404 232 \"-\" \"Go-http-client/1.1\"\u001b[0m\n",
      "\u001b[34m2021-10-21 14:15:11,492 INFO - sagemaker-containers - No GPUs detected (normal if no gpus installed)\u001b[0m\n",
      "\u001b[34mLoading model.\u001b[0m\n",
      "\u001b[34mDone loading model.\u001b[0m\n",
      "\u001b[35m2021-10-21 14:15:11,492 INFO - sagemaker-containers - No GPUs detected (normal if no gpus installed)\u001b[0m\n",
      "\u001b[35mLoading model.\u001b[0m\n",
      "\u001b[35mDone loading model.\u001b[0m\n",
      "\u001b[32m2021-10-21T14:15:11.275:[sagemaker logs]: MaxConcurrentTransforms=1, MaxPayloadInMB=20, BatchStrategy=MULTI_RECORD\u001b[0m\n",
      "\u001b[34m169.254.255.130 - - [21/Oct/2021:14:15:15 +0000] \"POST /invocations HTTP/1.1\" 200 10485 \"-\" \"Go-http-client/1.1\"\u001b[0m\n",
      "\u001b[35m169.254.255.130 - - [21/Oct/2021:14:15:15 +0000] \"POST /invocations HTTP/1.1\" 200 10485 \"-\" \"Go-http-client/1.1\"\u001b[0m\n",
      "\u001b[34m169.254.255.130 - - [21/Oct/2021:14:15:20 +0000] \"POST /invocations HTTP/1.1\" 200 10485 \"-\" \"Go-http-client/1.1\"\u001b[0m\n",
      "\u001b[35m169.254.255.130 - - [21/Oct/2021:14:15:20 +0000] \"POST /invocations HTTP/1.1\" 200 10485 \"-\" \"Go-http-client/1.1\"\u001b[0m\n"
     ]
    },
    {
     "name": "stdout",
     "output_type": "stream",
     "text": [
      "\u001b[34m169.254.255.130 - - [21/Oct/2021:14:15:28 +0000] \"POST /invocations HTTP/1.1\" 200 10485 \"-\" \"Go-http-client/1.1\"\u001b[0m\n",
      "\u001b[35m169.254.255.130 - - [21/Oct/2021:14:15:28 +0000] \"POST /invocations HTTP/1.1\" 200 10485 \"-\" \"Go-http-client/1.1\"\u001b[0m\n",
      "\u001b[34m169.254.255.130 - - [21/Oct/2021:14:15:32 +0000] \"POST /invocations HTTP/1.1\" 200 10485 \"-\" \"Go-http-client/1.1\"\u001b[0m\n",
      "\u001b[35m169.254.255.130 - - [21/Oct/2021:14:15:32 +0000] \"POST /invocations HTTP/1.1\" 200 10485 \"-\" \"Go-http-client/1.1\"\u001b[0m\n",
      "\u001b[34m169.254.255.130 - - [21/Oct/2021:14:15:40 +0000] \"POST /invocations HTTP/1.1\" 200 10485 \"-\" \"Go-http-client/1.1\"\u001b[0m\n",
      "\u001b[35m169.254.255.130 - - [21/Oct/2021:14:15:40 +0000] \"POST /invocations HTTP/1.1\" 200 10485 \"-\" \"Go-http-client/1.1\"\u001b[0m\n",
      "\u001b[34m2021-10-21 14:15:45,150 INFO - sagemaker-containers - No GPUs detected (normal if no gpus installed)\u001b[0m\n",
      "\u001b[35m2021-10-21 14:15:45,150 INFO - sagemaker-containers - No GPUs detected (normal if no gpus installed)\u001b[0m\n",
      "\u001b[34mLoading model.\u001b[0m\n",
      "\u001b[34mDone loading model.\u001b[0m\n",
      "\u001b[35mLoading model.\u001b[0m\n",
      "\u001b[35mDone loading model.\u001b[0m\n",
      "\u001b[34m169.254.255.130 - - [21/Oct/2021:14:15:49 +0000] \"POST /invocations HTTP/1.1\" 200 10485 \"-\" \"Go-http-client/1.1\"\u001b[0m\n",
      "\u001b[35m169.254.255.130 - - [21/Oct/2021:14:15:49 +0000] \"POST /invocations HTTP/1.1\" 200 10485 \"-\" \"Go-http-client/1.1\"\u001b[0m\n",
      "\u001b[34m169.254.255.130 - - [21/Oct/2021:14:15:53 +0000] \"POST /invocations HTTP/1.1\" 200 10485 \"-\" \"Go-http-client/1.1\"\u001b[0m\n",
      "\u001b[35m169.254.255.130 - - [21/Oct/2021:14:15:53 +0000] \"POST /invocations HTTP/1.1\" 200 10485 \"-\" \"Go-http-client/1.1\"\u001b[0m\n",
      "\n"
     ]
    }
   ],
   "source": [
    "mnb_transformer.transform(test_data_loc_s3, content_type='text/csv', split_type='Line')"
   ]
  },
  {
   "cell_type": "code",
   "execution_count": 87,
   "id": "84886dbf",
   "metadata": {},
   "outputs": [
    {
     "name": "stdout",
     "output_type": "stream",
     "text": [
      "Completed 107.7 KiB/107.7 KiB (1.1 MiB/s) with 1 file(s) remaining\r",
      "download: s3://sagemaker-eu-west-2-146083442879/sagemaker-scikit-learn-2021-10-21-14-10-51-771/test.csv.out to data/mnb_output/test.csv.out\r\n"
     ]
    }
   ],
   "source": [
    "!aws s3 cp --recursive $mnb_transformer.output_path $data_dir/mnb_output"
   ]
  },
  {
   "cell_type": "code",
   "execution_count": 138,
   "id": "3297c6dd",
   "metadata": {},
   "outputs": [],
   "source": [
    "mnb_y_pred = pd.read_csv(os.path.join(data_dir, 'mnb_output', 'test.csv.out'), header=None)"
   ]
  },
  {
   "cell_type": "markdown",
   "id": "a38192d8",
   "metadata": {},
   "source": [
    "Note that the element returned from the process above (i.e. the predictions) are in a string format. Hence, its necessary to build a custom function to format the data into a format the we can easily work with. Thus, we are constructing the function below which accepts as input the predictions as received from the AWS output, and produces a list of integers that contains the predictions:"
   ]
  },
  {
   "cell_type": "code",
   "execution_count": 139,
   "id": "e52a33fe",
   "metadata": {},
   "outputs": [],
   "source": [
    "from typing import List\n",
    "\n",
    "def clean_predictions(preds: pd.DataFrame) -> List[int]:\n",
    "    predictions = []\n",
    "    for elemement in preds:\n",
    "        if type(elemement) == str:\n",
    "            elemement = elemement.strip()\n",
    "            if elemement.startswith('['):\n",
    "                predictions.append(int(elemement[1]))\n",
    "            elif elemement.endswith(']'):\n",
    "                predictions.append(int(elemement[0]))\n",
    "            elif '][' in elemement:\n",
    "                for num in elemement.split(']['):\n",
    "                    predictions.append(int(num.strip())) \n",
    "        elif type(elemement) == int:\n",
    "            predictions.append(elemement)\n",
    "    return predictions"
   ]
  },
  {
   "cell_type": "code",
   "execution_count": 140,
   "id": "9a7a0fcb",
   "metadata": {},
   "outputs": [],
   "source": [
    "mnb_y_pred = clean_predictions(mnb_y_pred.values[0])"
   ]
  },
  {
   "cell_type": "code",
   "execution_count": 141,
   "id": "2572f387",
   "metadata": {},
   "outputs": [],
   "source": [
    "assert len(mnb_y_pred) == len(y_test)"
   ]
  },
  {
   "cell_type": "code",
   "execution_count": 142,
   "id": "e8c4adfa",
   "metadata": {},
   "outputs": [
    {
     "name": "stdout",
     "output_type": "stream",
     "text": [
      "              precision    recall  f1-score   support\n",
      "\n",
      "           0       0.73      0.74      0.73      3377\n",
      "           1       0.75      0.78      0.77      7802\n",
      "           2       0.78      0.76      0.77      5927\n",
      "           3       0.85      0.74      0.79      9967\n",
      "           4       0.68      0.77      0.72      3653\n",
      "           5       0.60      0.76      0.67      1533\n",
      "           6       0.87      0.91      0.89      4500\n",
      "\n",
      "    accuracy                           0.78     36759\n",
      "   macro avg       0.75      0.78      0.76     36759\n",
      "weighted avg       0.78      0.78      0.78     36759\n",
      "\n",
      "0.7635954093849946\n"
     ]
    }
   ],
   "source": [
    "from sklearn import metrics\n",
    "\n",
    "metrics.accuracy_score(y_test, mnb_y_pred)\n",
    "print(metrics.classification_report(y_test, mnb_y_pred))\n",
    "print(metrics.f1_score(y_test, mnb_y_pred, average='macro'))"
   ]
  },
  {
   "cell_type": "code",
   "execution_count": 143,
   "id": "aa7d6b24",
   "metadata": {},
   "outputs": [],
   "source": [
    "import seaborn as sns\n",
    "import matplotlib.pyplot as plt\n",
    "from sklearn.metrics import confusion_matrix, classification_report\n",
    "\n",
    "def plotConfusionMatrixHeatmap(input_df: pd.DataFrame, model_name: str, figsize=(20, 18)):\n",
    "    \"\"\"\n",
    "    Return the results of a multiclass classification algorithms as a heatmap\n",
    "    based on a confusion matrix.        \n",
    "    \"\"\"\n",
    "    # Heatmap of the results\n",
    "    plt.figure(figsize=figsize)\n",
    "    sns.heatmap(input_df, annot=True, fmt='d', cmap='Reds')\n",
    "    plt.ylabel('True', fontweight='bold')\n",
    "    plt.xlabel('Predicted', fontweight='bold')\n",
    "    plt.title(f'Heatmap - {model_name}', size=14, fontweight='bold')\n",
    "    plt.show()"
   ]
  },
  {
   "cell_type": "code",
   "execution_count": 144,
   "id": "247403d0",
   "metadata": {},
   "outputs": [
    {
     "data": {
      "text/plain": [
       "['Checking/savings account',\n",
       " 'Credit reporting',\n",
       " 'Credit/prepaid card',\n",
       " 'Debt collection',\n",
       " 'Loans',\n",
       " 'Money services',\n",
       " 'Mortgage']"
      ]
     },
     "execution_count": 144,
     "metadata": {},
     "output_type": "execute_result"
    }
   ],
   "source": [
    "key_to_product_names = [x[1] for x in sorted(product_map.items())]\n",
    "key_to_product_names"
   ]
  },
  {
   "cell_type": "code",
   "execution_count": 145,
   "id": "8bbbca13",
   "metadata": {},
   "outputs": [
    {
     "data": {
      "image/png": "[encoded data removed]",
      "text/plain": [
       "<Figure size 720x576 with 2 Axes>"
      ]
     },
     "metadata": {},
     "output_type": "display_data"
    }
   ],
   "source": [
    "conf_matrix_mnb_df = pd.DataFrame(data=confusion_matrix(y_test, mnb_y_pred),index=key_to_product_names, columns=key_to_product_names)\n",
    "\n",
    "plotConfusionMatrixHeatmap(conf_matrix_mnb_df, model_name='Multinomial Naive Bayes', figsize=(10, 8))"
   ]
  },
  {
   "cell_type": "markdown",
   "id": "6fea591c",
   "metadata": {},
   "source": [
    "## Implementation of the **XGBoost** model"
   ]
  },
  {
   "cell_type": "code",
   "execution_count": 114,
   "id": "5dd6d21e",
   "metadata": {},
   "outputs": [],
   "source": [
    "from sagemaker import image_uris\n",
    "from sagemaker.inputs import TrainingInput\n",
    "\n",
    "s3_prefix_xgb = 'capstone-xgboost'\n",
    "prefix_xgb = 'xgb_model'\n",
    "\n",
    "output_path = 's3://{}/{}'.format(bucket, s3_prefix_xgb)"
   ]
  },
  {
   "cell_type": "code",
   "execution_count": 115,
   "id": "47697126",
   "metadata": {},
   "outputs": [],
   "source": [
    "xgb_container = image_uris.retrieve(\n",
    "    framework='xgboost',\n",
    "    region=sagemaker_session.boto_region_name,\n",
    "    version=\"1.2-2\"\n",
    ")"
   ]
  },
  {
   "cell_type": "code",
   "execution_count": 116,
   "id": "c5004e2e",
   "metadata": {},
   "outputs": [],
   "source": [
    "xgb = sagemaker.estimator.Estimator(\n",
    "    image_uri=xgb_container,\n",
    "    role=role,\n",
    "    instance_count=1,\n",
    "    instance_type='ml.m5.2xlarge',\n",
    "    output_path='s3://{}/{}/output'.format(bucket, prefix_xgb),\n",
    "    sagemaker_session=sagemaker_session\n",
    ")"
   ]
  },
  {
   "cell_type": "code",
   "execution_count": 117,
   "id": "1c8b3f09",
   "metadata": {},
   "outputs": [],
   "source": [
    "xgb.set_hyperparameters(max_depth=5,\n",
    "                        eta=0.2,\n",
    "                        gamma=4,\n",
    "                        min_child_weight=6,\n",
    "                        subsample=0.8,\n",
    "                        num_class=7,\n",
    "                        objective=\"multi:softmax\",\n",
    "                        early_stopping_rounds=10,\n",
    "                        num_round=100)"
   ]
  },
  {
   "cell_type": "code",
   "execution_count": 118,
   "id": "b420a22f",
   "metadata": {},
   "outputs": [],
   "source": [
    "from sagemaker.tuner import IntegerParameter, ContinuousParameter, HyperparameterTuner\n",
    "\n",
    "xgb_hyperparameter_tuner = HyperparameterTuner(estimator = xgb, \n",
    "                                               objective_metric_name = 'validation:f1', \n",
    "                                               objective_type = 'Maximize', \n",
    "                                               max_jobs = 15, \n",
    "                                               max_parallel_jobs = 3, \n",
    "                                               hyperparameter_ranges = {\n",
    "                                                    'max_depth': IntegerParameter(60, 200),\n",
    "                                                    'eta'      : ContinuousParameter(0.2, 0.8),\n",
    "                                                    'min_child_weight': IntegerParameter(2, 8),\n",
    "                                                    'subsample': ContinuousParameter(0.5, 0.9),\n",
    "                                                    'gamma': ContinuousParameter(4, 8)\n",
    "                                               })"
   ]
  },
  {
   "cell_type": "code",
   "execution_count": 119,
   "id": "d9ec65a2",
   "metadata": {},
   "outputs": [],
   "source": [
    "s3_input_train = TrainingInput(s3_data=train_data_loc_s3, content_type='csv')\n",
    "s3_input_validation = TrainingInput(s3_data=validation_data_loc_s3, content_type='csv')"
   ]
  },
  {
   "cell_type": "code",
   "execution_count": null,
   "id": "f8aa63c5",
   "metadata": {},
   "outputs": [
    {
     "name": "stdout",
     "output_type": "stream",
     "text": [
      "........................................................................................................................................................................................................................................................................................................................................................................................................................................................................................................................................................................................................................................................................................................................................................................................................................................................................................................................................................................................................................................................................................................................................................................................................................................................................................................................................................................................................................................................................................................................................................................................................................................................................................................................................................................................................................................................................................................................................................................................................................................................................................................................................................................................................................................................................................................................................................................................................................................................................................................................................................................................................................................................................................................................................................................................................................................................................................................................................................................................................................................................................................."
     ]
    }
   ],
   "source": [
    "xgb_hyperparameter_tuner.fit({'train': s3_input_train, 'validation': s3_input_validation})"
   ]
  },
  {
   "cell_type": "code",
   "execution_count": 122,
   "id": "da0041d7",
   "metadata": {},
   "outputs": [
    {
     "data": {
      "text/plain": [
       "'sagemaker-xgboost-211021-1424-020-d4215ce1'"
      ]
     },
     "execution_count": 122,
     "metadata": {},
     "output_type": "execute_result"
    }
   ],
   "source": [
    "xgb_hyperparameter_tuner.best_training_job()"
   ]
  },
  {
   "cell_type": "code",
   "execution_count": 123,
   "id": "c6c29016",
   "metadata": {},
   "outputs": [
    {
     "name": "stdout",
     "output_type": "stream",
     "text": [
      "\n",
      "2021-10-21 19:39:22 Starting - Preparing the instances for training\n",
      "2021-10-21 19:39:22 Downloading - Downloading input data\n",
      "2021-10-21 19:39:22 Training - Training image download completed. Training in progress.\n",
      "2021-10-21 19:39:22 Uploading - Uploading generated training model\n",
      "2021-10-21 19:39:22 Completed - Training job completed\n"
     ]
    }
   ],
   "source": [
    "xgb_attached = sagemaker.estimator.Estimator.attach(xgb_hyperparameter_tuner.best_training_job())"
   ]
  },
  {
   "cell_type": "code",
   "execution_count": 124,
   "id": "e8b9ea2a",
   "metadata": {},
   "outputs": [],
   "source": [
    "xgb_transformer = xgb_attached.transformer(\n",
    "    instance_count = 1,\n",
    "    instance_type = 'ml.m5.2xlarge',\n",
    "    max_payload=1\n",
    ")"
   ]
  },
  {
   "cell_type": "code",
   "execution_count": 125,
   "id": "e2715a28",
   "metadata": {},
   "outputs": [
    {
     "name": "stdout",
     "output_type": "stream",
     "text": [
      "............................\u001b[32m2021-10-21T20:05:58.892:[sagemaker logs]: MaxConcurrentTransforms=8, MaxPayloadInMB=1, BatchStrategy=MULTI_RECORD\u001b[0m\n",
      "\u001b[34m[2021-10-21:20:05:54:INFO] No GPUs detected (normal if no gpus installed)\u001b[0m\n",
      "\u001b[34m[2021-10-21:20:05:54:INFO] No GPUs detected (normal if no gpus installed)\u001b[0m\n",
      "\u001b[34m[2021-10-21:20:05:54:INFO] nginx config: \u001b[0m\n",
      "\u001b[35m[2021-10-21:20:05:54:INFO] No GPUs detected (normal if no gpus installed)\u001b[0m\n",
      "\u001b[35m[2021-10-21:20:05:54:INFO] No GPUs detected (normal if no gpus installed)\u001b[0m\n",
      "\u001b[35m[2021-10-21:20:05:54:INFO] nginx config: \u001b[0m\n",
      "\u001b[34mworker_processes auto;\u001b[0m\n",
      "\u001b[34mdaemon off;\u001b[0m\n",
      "\u001b[34mpid /tmp/nginx.pid;\u001b[0m\n",
      "\u001b[34merror_log  /dev/stderr;\u001b[0m\n",
      "\u001b[34mworker_rlimit_nofile 4096;\u001b[0m\n",
      "\u001b[34mevents {\n",
      "  worker_connections 2048;\u001b[0m\n",
      "\u001b[34m}\u001b[0m\n",
      "\u001b[35mworker_processes auto;\u001b[0m\n",
      "\u001b[35mdaemon off;\u001b[0m\n",
      "\u001b[35mpid /tmp/nginx.pid;\u001b[0m\n",
      "\u001b[35merror_log  /dev/stderr;\u001b[0m\n",
      "\u001b[35mworker_rlimit_nofile 4096;\u001b[0m\n",
      "\u001b[35mevents {\n",
      "  worker_connections 2048;\u001b[0m\n",
      "\u001b[35m}\u001b[0m\n",
      "\u001b[34mhttp {\n",
      "  include /etc/nginx/mime.types;\n",
      "  default_type application/octet-stream;\n",
      "  access_log /dev/stdout combined;\n",
      "  upstream gunicorn {\n",
      "    server unix:/tmp/gunicorn.sock;\n",
      "  }\n",
      "  server {\n",
      "    listen 8080 deferred;\n",
      "    client_max_body_size 0;\n",
      "    keepalive_timeout 3;\n",
      "    location ~ ^/(ping|invocations|execution-parameters) {\n",
      "      proxy_set_header X-Forwarded-For $proxy_add_x_forwarded_for;\n",
      "      proxy_set_header Host $http_host;\n",
      "      proxy_redirect off;\n",
      "      proxy_read_timeout 60s;\n",
      "      proxy_pass http://gunicorn;\n",
      "    }\n",
      "    location / {\n",
      "      return 404 \"{}\";\n",
      "    }\n",
      "  }\u001b[0m\n",
      "\u001b[34m}\u001b[0m\n",
      "\u001b[34m[2021-10-21 20:05:54 +0000] [28] [INFO] Starting gunicorn 19.10.0\u001b[0m\n",
      "\u001b[34m[2021-10-21 20:05:54 +0000] [28] [INFO] Listening at: unix:/tmp/gunicorn.sock (28)\u001b[0m\n",
      "\u001b[34m[2021-10-21 20:05:54 +0000] [28] [INFO] Using worker: gevent\u001b[0m\n",
      "\u001b[34m[2021-10-21 20:05:54 +0000] [39] [INFO] Booting worker with pid: 39\u001b[0m\n",
      "\u001b[34m[2021-10-21 20:05:54 +0000] [40] [INFO] Booting worker with pid: 40\u001b[0m\n",
      "\u001b[34m[2021-10-21 20:05:54 +0000] [41] [INFO] Booting worker with pid: 41\u001b[0m\n",
      "\u001b[34m[2021-10-21 20:05:54 +0000] [56] [INFO] Booting worker with pid: 56\u001b[0m\n",
      "\u001b[34m[2021-10-21 20:05:54 +0000] [57] [INFO] Booting worker with pid: 57\u001b[0m\n",
      "\u001b[34m[2021-10-21 20:05:54 +0000] [58] [INFO] Booting worker with pid: 58\u001b[0m\n",
      "\u001b[34m[2021-10-21 20:05:54 +0000] [59] [INFO] Booting worker with pid: 59\u001b[0m\n",
      "\u001b[34m[2021-10-21 20:05:54 +0000] [67] [INFO] Booting worker with pid: 67\u001b[0m\n",
      "\u001b[34m[2021-10-21:20:05:56:INFO] No GPUs detected (normal if no gpus installed)\u001b[0m\n",
      "\u001b[34m[2021-10-21:20:05:56:INFO] Loading the model from /opt/ml/model/xgboost-model\u001b[0m\n",
      "\u001b[35mhttp {\n",
      "  include /etc/nginx/mime.types;\n",
      "  default_type application/octet-stream;\n",
      "  access_log /dev/stdout combined;\n",
      "  upstream gunicorn {\n",
      "    server unix:/tmp/gunicorn.sock;\n",
      "  }\n",
      "  server {\n",
      "    listen 8080 deferred;\n",
      "    client_max_body_size 0;\n",
      "    keepalive_timeout 3;\n",
      "    location ~ ^/(ping|invocations|execution-parameters) {\n",
      "      proxy_set_header X-Forwarded-For $proxy_add_x_forwarded_for;\n",
      "      proxy_set_header Host $http_host;\n",
      "      proxy_redirect off;\n",
      "      proxy_read_timeout 60s;\n",
      "      proxy_pass http://gunicorn;\n",
      "    }\n",
      "    location / {\n",
      "      return 404 \"{}\";\n",
      "    }\n",
      "  }\u001b[0m\n",
      "\u001b[35m}\u001b[0m\n",
      "\u001b[35m[2021-10-21 20:05:54 +0000] [28] [INFO] Starting gunicorn 19.10.0\u001b[0m\n",
      "\u001b[35m[2021-10-21 20:05:54 +0000] [28] [INFO] Listening at: unix:/tmp/gunicorn.sock (28)\u001b[0m\n",
      "\u001b[35m[2021-10-21 20:05:54 +0000] [28] [INFO] Using worker: gevent\u001b[0m\n",
      "\u001b[35m[2021-10-21 20:05:54 +0000] [39] [INFO] Booting worker with pid: 39\u001b[0m\n",
      "\u001b[35m[2021-10-21 20:05:54 +0000] [40] [INFO] Booting worker with pid: 40\u001b[0m\n",
      "\u001b[35m[2021-10-21 20:05:54 +0000] [41] [INFO] Booting worker with pid: 41\u001b[0m\n",
      "\u001b[35m[2021-10-21 20:05:54 +0000] [56] [INFO] Booting worker with pid: 56\u001b[0m\n",
      "\u001b[35m[2021-10-21 20:05:54 +0000] [57] [INFO] Booting worker with pid: 57\u001b[0m\n",
      "\u001b[35m[2021-10-21 20:05:54 +0000] [58] [INFO] Booting worker with pid: 58\u001b[0m\n",
      "\u001b[35m[2021-10-21 20:05:54 +0000] [59] [INFO] Booting worker with pid: 59\u001b[0m\n",
      "\u001b[35m[2021-10-21 20:05:54 +0000] [67] [INFO] Booting worker with pid: 67\u001b[0m\n",
      "\u001b[35m[2021-10-21:20:05:56:INFO] No GPUs detected (normal if no gpus installed)\u001b[0m\n",
      "\u001b[35m[2021-10-21:20:05:56:INFO] Loading the model from /opt/ml/model/xgboost-model\u001b[0m\n",
      "\u001b[34m[2021-10-21:20:05:56:INFO] No GPUs detected (normal if no gpus installed)\u001b[0m\n",
      "\u001b[34m[2021-10-21:20:05:56:INFO] Loading the model from /opt/ml/model/xgboost-model\u001b[0m\n",
      "\u001b[34m[2021-10-21:20:05:56:INFO] No GPUs detected (normal if no gpus installed)\u001b[0m\n",
      "\u001b[34m[2021-10-21:20:05:56:INFO] Loading the model from /opt/ml/model/xgboost-model\u001b[0m\n",
      "\u001b[34m[2021-10-21:20:05:56:INFO] Model objective : multi:softmax\u001b[0m\n",
      "\u001b[34m[2021-10-21:20:05:56:INFO] No GPUs detected (normal if no gpus installed)\u001b[0m\n",
      "\u001b[34m[2021-10-21:20:05:56:INFO] Loading the model from /opt/ml/model/xgboost-model\u001b[0m\n",
      "\u001b[34m[2021-10-21:20:05:56:INFO] No GPUs detected (normal if no gpus installed)\u001b[0m\n",
      "\u001b[34m[2021-10-21:20:05:56:INFO] Loading the model from /opt/ml/model/xgboost-model\u001b[0m\n",
      "\u001b[34m[2021-10-21:20:05:56:INFO] Model objective : multi:softmax\u001b[0m\n",
      "\u001b[34m[2021-10-21:20:05:56:INFO] No GPUs detected (normal if no gpus installed)\u001b[0m\n",
      "\u001b[34m[2021-10-21:20:05:56:INFO] Loading the model from /opt/ml/model/xgboost-model\u001b[0m\n",
      "\u001b[34m[2021-10-21:20:05:56:INFO] Model objective : multi:softmax\u001b[0m\n",
      "\u001b[34m[2021-10-21:20:05:56:INFO] No GPUs detected (normal if no gpus installed)\u001b[0m\n",
      "\u001b[34m[2021-10-21:20:05:56:INFO] Loading the model from /opt/ml/model/xgboost-model\u001b[0m\n",
      "\u001b[34m[2021-10-21:20:05:56:INFO] No GPUs detected (normal if no gpus installed)\u001b[0m\n",
      "\u001b[34m[2021-10-21:20:05:56:INFO] Loading the model from /opt/ml/model/xgboost-model\u001b[0m\n",
      "\u001b[34m[2021-10-21:20:05:56:INFO] Model objective : multi:softmax\u001b[0m\n",
      "\u001b[34m[2021-10-21:20:05:56:INFO] Model objective : multi:softmax\u001b[0m\n",
      "\u001b[34m[2021-10-21:20:05:56:INFO] Model objective : multi:softmax\u001b[0m\n",
      "\u001b[34m[2021-10-21:20:05:56:INFO] Model objective : multi:softmax\u001b[0m\n",
      "\u001b[34m[2021-10-21:20:05:56:INFO] Model objective : multi:softmax\u001b[0m\n",
      "\u001b[35m[2021-10-21:20:05:56:INFO] No GPUs detected (normal if no gpus installed)\u001b[0m\n",
      "\u001b[35m[2021-10-21:20:05:56:INFO] Loading the model from /opt/ml/model/xgboost-model\u001b[0m\n",
      "\u001b[35m[2021-10-21:20:05:56:INFO] No GPUs detected (normal if no gpus installed)\u001b[0m\n",
      "\u001b[35m[2021-10-21:20:05:56:INFO] Loading the model from /opt/ml/model/xgboost-model\u001b[0m\n",
      "\u001b[35m[2021-10-21:20:05:56:INFO] Model objective : multi:softmax\u001b[0m\n",
      "\u001b[35m[2021-10-21:20:05:56:INFO] No GPUs detected (normal if no gpus installed)\u001b[0m\n",
      "\u001b[35m[2021-10-21:20:05:56:INFO] Loading the model from /opt/ml/model/xgboost-model\u001b[0m\n",
      "\u001b[35m[2021-10-21:20:05:56:INFO] No GPUs detected (normal if no gpus installed)\u001b[0m\n",
      "\u001b[35m[2021-10-21:20:05:56:INFO] Loading the model from /opt/ml/model/xgboost-model\u001b[0m\n",
      "\u001b[35m[2021-10-21:20:05:56:INFO] Model objective : multi:softmax\u001b[0m\n",
      "\u001b[35m[2021-10-21:20:05:56:INFO] No GPUs detected (normal if no gpus installed)\u001b[0m\n",
      "\u001b[35m[2021-10-21:20:05:56:INFO] Loading the model from /opt/ml/model/xgboost-model\u001b[0m\n",
      "\u001b[35m[2021-10-21:20:05:56:INFO] Model objective : multi:softmax\u001b[0m\n",
      "\u001b[35m[2021-10-21:20:05:56:INFO] No GPUs detected (normal if no gpus installed)\u001b[0m\n",
      "\u001b[35m[2021-10-21:20:05:56:INFO] Loading the model from /opt/ml/model/xgboost-model\u001b[0m\n",
      "\u001b[35m[2021-10-21:20:05:56:INFO] No GPUs detected (normal if no gpus installed)\u001b[0m\n",
      "\u001b[35m[2021-10-21:20:05:56:INFO] Loading the model from /opt/ml/model/xgboost-model\u001b[0m\n",
      "\u001b[35m[2021-10-21:20:05:56:INFO] Model objective : multi:softmax\u001b[0m\n",
      "\u001b[35m[2021-10-21:20:05:56:INFO] Model objective : multi:softmax\u001b[0m\n",
      "\u001b[35m[2021-10-21:20:05:56:INFO] Model objective : multi:softmax\u001b[0m\n",
      "\u001b[35m[2021-10-21:20:05:56:INFO] Model objective : multi:softmax\u001b[0m\n",
      "\u001b[35m[2021-10-21:20:05:56:INFO] Model objective : multi:softmax\u001b[0m\n",
      "\u001b[34m[2021-10-21:20:05:58:INFO] No GPUs detected (normal if no gpus installed)\u001b[0m\n",
      "\u001b[34m169.254.255.130 - - [21/Oct/2021:20:05:58 +0000] \"GET /ping HTTP/1.1\" 200 0 \"-\" \"Go-http-client/1.1\"\u001b[0m\n",
      "\u001b[34m[2021-10-21:20:05:58:INFO] No GPUs detected (normal if no gpus installed)\u001b[0m\n",
      "\u001b[34m169.254.255.130 - - [21/Oct/2021:20:05:58 +0000] \"GET /execution-parameters HTTP/1.1\" 200 84 \"-\" \"Go-http-client/1.1\"\u001b[0m\n",
      "\u001b[35m[2021-10-21:20:05:58:INFO] No GPUs detected (normal if no gpus installed)\u001b[0m\n",
      "\u001b[35m169.254.255.130 - - [21/Oct/2021:20:05:58 +0000] \"GET /ping HTTP/1.1\" 200 0 \"-\" \"Go-http-client/1.1\"\u001b[0m\n",
      "\u001b[35m[2021-10-21:20:05:58:INFO] No GPUs detected (normal if no gpus installed)\u001b[0m\n",
      "\u001b[35m169.254.255.130 - - [21/Oct/2021:20:05:58 +0000] \"GET /execution-parameters HTTP/1.1\" 200 84 \"-\" \"Go-http-client/1.1\"\u001b[0m\n",
      "\u001b[34m[2021-10-21:20:06:00:INFO] Determined delimiter of CSV input is ','\u001b[0m\n",
      "\u001b[34m[2021-10-21:20:06:00:INFO] No GPUs detected (normal if no gpus installed)\u001b[0m\n",
      "\u001b[34m[2021-10-21:20:06:00:INFO] Determined delimiter of CSV input is ','\u001b[0m\n",
      "\u001b[34m[2021-10-21:20:06:00:INFO] No GPUs detected (normal if no gpus installed)\u001b[0m\n",
      "\u001b[34m[2021-10-21:20:06:00:INFO] Determined delimiter of CSV input is ','\u001b[0m\n",
      "\u001b[34m[2021-10-21:20:06:00:INFO] Determined delimiter of CSV input is ','\u001b[0m\n",
      "\u001b[34m[2021-10-21:20:06:00:INFO] No GPUs detected (normal if no gpus installed)\u001b[0m\n",
      "\u001b[34m[2021-10-21:20:06:00:INFO] No GPUs detected (normal if no gpus installed)\u001b[0m\n",
      "\u001b[34m[2021-10-21:20:06:00:INFO] Determined delimiter of CSV input is ','\u001b[0m\n",
      "\u001b[34m[2021-10-21:20:06:00:INFO] No GPUs detected (normal if no gpus installed)\u001b[0m\n",
      "\u001b[35m[2021-10-21:20:06:00:INFO] Determined delimiter of CSV input is ','\u001b[0m\n",
      "\u001b[35m[2021-10-21:20:06:00:INFO] No GPUs detected (normal if no gpus installed)\u001b[0m\n",
      "\u001b[35m[2021-10-21:20:06:00:INFO] Determined delimiter of CSV input is ','\u001b[0m\n",
      "\u001b[35m[2021-10-21:20:06:00:INFO] No GPUs detected (normal if no gpus installed)\u001b[0m\n",
      "\u001b[35m[2021-10-21:20:06:00:INFO] Determined delimiter of CSV input is ','\u001b[0m\n",
      "\u001b[35m[2021-10-21:20:06:00:INFO] Determined delimiter of CSV input is ','\u001b[0m\n",
      "\u001b[35m[2021-10-21:20:06:00:INFO] No GPUs detected (normal if no gpus installed)\u001b[0m\n",
      "\u001b[35m[2021-10-21:20:06:00:INFO] No GPUs detected (normal if no gpus installed)\u001b[0m\n",
      "\u001b[35m[2021-10-21:20:06:00:INFO] Determined delimiter of CSV input is ','\u001b[0m\n",
      "\u001b[35m[2021-10-21:20:06:00:INFO] No GPUs detected (normal if no gpus installed)\u001b[0m\n",
      "\u001b[34m[2021-10-21:20:06:00:INFO] Determined delimiter of CSV input is ','\u001b[0m\n",
      "\u001b[34m[2021-10-21:20:06:00:INFO] Determined delimiter of CSV input is ','\u001b[0m\n",
      "\u001b[34m169.254.255.130 - - [21/Oct/2021:20:06:00 +0000] \"POST /invocations HTTP/1.1\" 200 696 \"-\" \"Go-http-client/1.1\"\u001b[0m\n",
      "\u001b[34m[2021-10-21:20:06:00:INFO] Determined delimiter of CSV input is ','\u001b[0m\n",
      "\u001b[34m169.254.255.130 - - [21/Oct/2021:20:06:00 +0000] \"POST /invocations HTTP/1.1\" 200 696 \"-\" \"Go-http-client/1.1\"\u001b[0m\n",
      "\u001b[34m169.254.255.130 - - [21/Oct/2021:20:06:00 +0000] \"POST /invocations HTTP/1.1\" 200 696 \"-\" \"Go-http-client/1.1\"\u001b[0m\n",
      "\u001b[34m169.254.255.130 - - [21/Oct/2021:20:06:00 +0000] \"POST /invocations HTTP/1.1\" 200 696 \"-\" \"Go-http-client/1.1\"\u001b[0m\n",
      "\u001b[34m169.254.255.130 - - [21/Oct/2021:20:06:00 +0000] \"POST /invocations HTTP/1.1\" 200 696 \"-\" \"Go-http-client/1.1\"\u001b[0m\n",
      "\u001b[34m169.254.255.130 - - [21/Oct/2021:20:06:00 +0000] \"POST /invocations HTTP/1.1\" 200 696 \"-\" \"Go-http-client/1.1\"\u001b[0m\n",
      "\u001b[34m169.254.255.130 - - [21/Oct/2021:20:06:00 +0000] \"POST /invocations HTTP/1.1\" 200 696 \"-\" \"Go-http-client/1.1\"\u001b[0m\n",
      "\u001b[34m169.254.255.130 - - [21/Oct/2021:20:06:00 +0000] \"POST /invocations HTTP/1.1\" 200 696 \"-\" \"Go-http-client/1.1\"\u001b[0m\n",
      "\u001b[34m[2021-10-21:20:06:00:INFO] Determined delimiter of CSV input is ','\u001b[0m\n",
      "\u001b[34m[2021-10-21:20:06:00:INFO] Determined delimiter of CSV input is ','\u001b[0m\n",
      "\u001b[34m[2021-10-21:20:06:00:INFO] Determined delimiter of CSV input is ','\u001b[0m\n",
      "\u001b[34m[2021-10-21:20:06:00:INFO] Determined delimiter of CSV input is ','\u001b[0m\n",
      "\u001b[34m[2021-10-21:20:06:00:INFO] Determined delimiter of CSV input is ','\u001b[0m\n",
      "\u001b[34m[2021-10-21:20:06:00:INFO] Determined delimiter of CSV input is ','\u001b[0m\n",
      "\u001b[34m[2021-10-21:20:06:00:INFO] No GPUs detected (normal if no gpus installed)\u001b[0m\n",
      "\u001b[34m[2021-10-21:20:06:00:INFO] Determined delimiter of CSV input is ','\u001b[0m\n",
      "\u001b[34m169.254.255.130 - - [21/Oct/2021:20:06:01 +0000] \"POST /invocations HTTP/1.1\" 200 696 \"-\" \"Go-http-client/1.1\"\u001b[0m\n",
      "\u001b[34m[2021-10-21:20:06:01:INFO] Determined delimiter of CSV input is ','\u001b[0m\n",
      "\u001b[35m[2021-10-21:20:06:00:INFO] Determined delimiter of CSV input is ','\u001b[0m\n",
      "\u001b[35m[2021-10-21:20:06:00:INFO] Determined delimiter of CSV input is ','\u001b[0m\n",
      "\u001b[35m169.254.255.130 - - [21/Oct/2021:20:06:00 +0000] \"POST /invocations HTTP/1.1\" 200 696 \"-\" \"Go-http-client/1.1\"\u001b[0m\n",
      "\u001b[35m[2021-10-21:20:06:00:INFO] Determined delimiter of CSV input is ','\u001b[0m\n",
      "\u001b[35m169.254.255.130 - - [21/Oct/2021:20:06:00 +0000] \"POST /invocations HTTP/1.1\" 200 696 \"-\" \"Go-http-client/1.1\"\u001b[0m\n",
      "\u001b[35m169.254.255.130 - - [21/Oct/2021:20:06:00 +0000] \"POST /invocations HTTP/1.1\" 200 696 \"-\" \"Go-http-client/1.1\"\u001b[0m\n",
      "\u001b[35m169.254.255.130 - - [21/Oct/2021:20:06:00 +0000] \"POST /invocations HTTP/1.1\" 200 696 \"-\" \"Go-http-client/1.1\"\u001b[0m\n",
      "\u001b[35m169.254.255.130 - - [21/Oct/2021:20:06:00 +0000] \"POST /invocations HTTP/1.1\" 200 696 \"-\" \"Go-http-client/1.1\"\u001b[0m\n",
      "\u001b[35m169.254.255.130 - - [21/Oct/2021:20:06:00 +0000] \"POST /invocations HTTP/1.1\" 200 696 \"-\" \"Go-http-client/1.1\"\u001b[0m\n",
      "\u001b[35m169.254.255.130 - - [21/Oct/2021:20:06:00 +0000] \"POST /invocations HTTP/1.1\" 200 696 \"-\" \"Go-http-client/1.1\"\u001b[0m\n",
      "\u001b[35m169.254.255.130 - - [21/Oct/2021:20:06:00 +0000] \"POST /invocations HTTP/1.1\" 200 696 \"-\" \"Go-http-client/1.1\"\u001b[0m\n",
      "\u001b[35m[2021-10-21:20:06:00:INFO] Determined delimiter of CSV input is ','\u001b[0m\n",
      "\u001b[35m[2021-10-21:20:06:00:INFO] Determined delimiter of CSV input is ','\u001b[0m\n",
      "\u001b[35m[2021-10-21:20:06:00:INFO] Determined delimiter of CSV input is ','\u001b[0m\n",
      "\u001b[35m[2021-10-21:20:06:00:INFO] Determined delimiter of CSV input is ','\u001b[0m\n",
      "\u001b[35m[2021-10-21:20:06:00:INFO] Determined delimiter of CSV input is ','\u001b[0m\n",
      "\u001b[35m[2021-10-21:20:06:00:INFO] Determined delimiter of CSV input is ','\u001b[0m\n",
      "\u001b[35m[2021-10-21:20:06:00:INFO] No GPUs detected (normal if no gpus installed)\u001b[0m\n",
      "\u001b[35m[2021-10-21:20:06:00:INFO] Determined delimiter of CSV input is ','\u001b[0m\n",
      "\u001b[35m169.254.255.130 - - [21/Oct/2021:20:06:01 +0000] \"POST /invocations HTTP/1.1\" 200 696 \"-\" \"Go-http-client/1.1\"\u001b[0m\n",
      "\u001b[35m[2021-10-21:20:06:01:INFO] Determined delimiter of CSV input is ','\u001b[0m\n",
      "\u001b[34m169.254.255.130 - - [21/Oct/2021:20:06:01 +0000] \"POST /invocations HTTP/1.1\" 200 696 \"-\" \"Go-http-client/1.1\"\u001b[0m\n",
      "\u001b[35m169.254.255.130 - - [21/Oct/2021:20:06:01 +0000] \"POST /invocations HTTP/1.1\" 200 696 \"-\" \"Go-http-client/1.1\"\u001b[0m\n",
      "\u001b[34m[2021-10-21:20:06:01:INFO] Determined delimiter of CSV input is ','\u001b[0m\n",
      "\u001b[34m169.254.255.130 - - [21/Oct/2021:20:06:01 +0000] \"POST /invocations HTTP/1.1\" 200 696 \"-\" \"Go-http-client/1.1\"\u001b[0m\n",
      "\u001b[34m169.254.255.130 - - [21/Oct/2021:20:06:01 +0000] \"POST /invocations HTTP/1.1\" 200 696 \"-\" \"Go-http-client/1.1\"\u001b[0m\n",
      "\u001b[34m169.254.255.130 - - [21/Oct/2021:20:06:01 +0000] \"POST /invocations HTTP/1.1\" 200 696 \"-\" \"Go-http-client/1.1\"\u001b[0m\n",
      "\u001b[34m[2021-10-21:20:06:01:INFO] Determined delimiter of CSV input is ','\u001b[0m\n",
      "\u001b[34m169.254.255.130 - - [21/Oct/2021:20:06:01 +0000] \"POST /invocations HTTP/1.1\" 200 696 \"-\" \"Go-http-client/1.1\"\u001b[0m\n",
      "\u001b[34m169.254.255.130 - - [21/Oct/2021:20:06:01 +0000] \"POST /invocations HTTP/1.1\" 200 696 \"-\" \"Go-http-client/1.1\"\u001b[0m\n",
      "\u001b[34m[2021-10-21:20:06:01:INFO] Determined delimiter of CSV input is ','\u001b[0m\n",
      "\u001b[34m[2021-10-21:20:06:01:INFO] Determined delimiter of CSV input is ','\u001b[0m\n",
      "\u001b[34m169.254.255.130 - - [21/Oct/2021:20:06:01 +0000] \"POST /invocations HTTP/1.1\" 200 696 \"-\" \"Go-http-client/1.1\"\u001b[0m\n",
      "\u001b[34m[2021-10-21:20:06:01:INFO] Determined delimiter of CSV input is ','\u001b[0m\n",
      "\u001b[34m[2021-10-21:20:06:01:INFO] Determined delimiter of CSV input is ','\u001b[0m\n",
      "\u001b[34m[2021-10-21:20:06:01:INFO] Determined delimiter of CSV input is ','\u001b[0m\n",
      "\u001b[34m169.254.255.130 - - [21/Oct/2021:20:06:01 +0000] \"POST /invocations HTTP/1.1\" 200 696 \"-\" \"Go-http-client/1.1\"\u001b[0m\n",
      "\u001b[34m[2021-10-21:20:06:01:INFO] Determined delimiter of CSV input is ','\u001b[0m\n",
      "\u001b[34m169.254.255.130 - - [21/Oct/2021:20:06:01 +0000] \"POST /invocations HTTP/1.1\" 200 696 \"-\" \"Go-http-client/1.1\"\u001b[0m\n",
      "\u001b[34m[2021-10-21:20:06:01:INFO] Determined delimiter of CSV input is ','\u001b[0m\n",
      "\u001b[34m169.254.255.130 - - [21/Oct/2021:20:06:01 +0000] \"POST /invocations HTTP/1.1\" 200 696 \"-\" \"Go-http-client/1.1\"\u001b[0m\n",
      "\u001b[34m169.254.255.130 - - [21/Oct/2021:20:06:01 +0000] \"POST /invocations HTTP/1.1\" 200 696 \"-\" \"Go-http-client/1.1\"\u001b[0m\n",
      "\u001b[34m169.254.255.130 - - [21/Oct/2021:20:06:01 +0000] \"POST /invocations HTTP/1.1\" 200 696 \"-\" \"Go-http-client/1.1\"\u001b[0m\n",
      "\u001b[34m[2021-10-21:20:06:01:INFO] Determined delimiter of CSV input is ','\u001b[0m\n",
      "\u001b[34m169.254.255.130 - - [21/Oct/2021:20:06:01 +0000] \"POST /invocations HTTP/1.1\" 200 696 \"-\" \"Go-http-client/1.1\"\u001b[0m\n",
      "\u001b[34m[2021-10-21:20:06:01:INFO] Determined delimiter of CSV input is ','\u001b[0m\n",
      "\u001b[34m169.254.255.130 - - [21/Oct/2021:20:06:01 +0000] \"POST /invocations HTTP/1.1\" 200 696 \"-\" \"Go-http-client/1.1\"\u001b[0m\n",
      "\u001b[34m[2021-10-21:20:06:01:INFO] Determined delimiter of CSV input is ','\u001b[0m\n",
      "\u001b[34m169.254.255.130 - - [21/Oct/2021:20:06:01 +0000] \"POST /invocations HTTP/1.1\" 200 696 \"-\" \"Go-http-client/1.1\"\u001b[0m\n",
      "\u001b[34m[2021-10-21:20:06:01:INFO] Determined delimiter of CSV input is ','\u001b[0m\n",
      "\u001b[34m[2021-10-21:20:06:02:INFO] Determined delimiter of CSV input is ','\u001b[0m\n",
      "\u001b[34m169.254.255.130 - - [21/Oct/2021:20:06:02 +0000] \"POST /invocations HTTP/1.1\" 200 696 \"-\" \"Go-http-client/1.1\"\u001b[0m\n",
      "\u001b[34m[2021-10-21:20:06:02:INFO] Determined delimiter of CSV input is ','\u001b[0m\n",
      "\u001b[34m169.254.255.130 - - [21/Oct/2021:20:06:02 +0000] \"POST /invocations HTTP/1.1\" 200 696 \"-\" \"Go-http-client/1.1\"\u001b[0m\n",
      "\u001b[35m[2021-10-21:20:06:01:INFO] Determined delimiter of CSV input is ','\u001b[0m\n",
      "\u001b[35m169.254.255.130 - - [21/Oct/2021:20:06:01 +0000] \"POST /invocations HTTP/1.1\" 200 696 \"-\" \"Go-http-client/1.1\"\u001b[0m\n",
      "\u001b[35m169.254.255.130 - - [21/Oct/2021:20:06:01 +0000] \"POST /invocations HTTP/1.1\" 200 696 \"-\" \"Go-http-client/1.1\"\u001b[0m\n",
      "\u001b[35m169.254.255.130 - - [21/Oct/2021:20:06:01 +0000] \"POST /invocations HTTP/1.1\" 200 696 \"-\" \"Go-http-client/1.1\"\u001b[0m\n",
      "\u001b[35m[2021-10-21:20:06:01:INFO] Determined delimiter of CSV input is ','\u001b[0m\n",
      "\u001b[35m169.254.255.130 - - [21/Oct/2021:20:06:01 +0000] \"POST /invocations HTTP/1.1\" 200 696 \"-\" \"Go-http-client/1.1\"\u001b[0m\n",
      "\u001b[35m169.254.255.130 - - [21/Oct/2021:20:06:01 +0000] \"POST /invocations HTTP/1.1\" 200 696 \"-\" \"Go-http-client/1.1\"\u001b[0m\n",
      "\u001b[35m[2021-10-21:20:06:01:INFO] Determined delimiter of CSV input is ','\u001b[0m\n",
      "\u001b[35m[2021-10-21:20:06:01:INFO] Determined delimiter of CSV input is ','\u001b[0m\n",
      "\u001b[35m169.254.255.130 - - [21/Oct/2021:20:06:01 +0000] \"POST /invocations HTTP/1.1\" 200 696 \"-\" \"Go-http-client/1.1\"\u001b[0m\n",
      "\u001b[35m[2021-10-21:20:06:01:INFO] Determined delimiter of CSV input is ','\u001b[0m\n",
      "\u001b[35m[2021-10-21:20:06:01:INFO] Determined delimiter of CSV input is ','\u001b[0m\n",
      "\u001b[35m[2021-10-21:20:06:01:INFO] Determined delimiter of CSV input is ','\u001b[0m\n",
      "\u001b[35m169.254.255.130 - - [21/Oct/2021:20:06:01 +0000] \"POST /invocations HTTP/1.1\" 200 696 \"-\" \"Go-http-client/1.1\"\u001b[0m\n",
      "\u001b[35m[2021-10-21:20:06:01:INFO] Determined delimiter of CSV input is ','\u001b[0m\n",
      "\u001b[35m169.254.255.130 - - [21/Oct/2021:20:06:01 +0000] \"POST /invocations HTTP/1.1\" 200 696 \"-\" \"Go-http-client/1.1\"\u001b[0m\n",
      "\u001b[35m[2021-10-21:20:06:01:INFO] Determined delimiter of CSV input is ','\u001b[0m\n",
      "\u001b[35m169.254.255.130 - - [21/Oct/2021:20:06:01 +0000] \"POST /invocations HTTP/1.1\" 200 696 \"-\" \"Go-http-client/1.1\"\u001b[0m\n",
      "\u001b[35m169.254.255.130 - - [21/Oct/2021:20:06:01 +0000] \"POST /invocations HTTP/1.1\" 200 696 \"-\" \"Go-http-client/1.1\"\u001b[0m\n",
      "\u001b[35m169.254.255.130 - - [21/Oct/2021:20:06:01 +0000] \"POST /invocations HTTP/1.1\" 200 696 \"-\" \"Go-http-client/1.1\"\u001b[0m\n",
      "\u001b[35m[2021-10-21:20:06:01:INFO] Determined delimiter of CSV input is ','\u001b[0m\n",
      "\u001b[35m169.254.255.130 - - [21/Oct/2021:20:06:01 +0000] \"POST /invocations HTTP/1.1\" 200 696 \"-\" \"Go-http-client/1.1\"\u001b[0m\n",
      "\u001b[35m[2021-10-21:20:06:01:INFO] Determined delimiter of CSV input is ','\u001b[0m\n",
      "\u001b[35m169.254.255.130 - - [21/Oct/2021:20:06:01 +0000] \"POST /invocations HTTP/1.1\" 200 696 \"-\" \"Go-http-client/1.1\"\u001b[0m\n",
      "\u001b[35m[2021-10-21:20:06:01:INFO] Determined delimiter of CSV input is ','\u001b[0m\n",
      "\u001b[35m169.254.255.130 - - [21/Oct/2021:20:06:01 +0000] \"POST /invocations HTTP/1.1\" 200 696 \"-\" \"Go-http-client/1.1\"\u001b[0m\n",
      "\u001b[35m[2021-10-21:20:06:01:INFO] Determined delimiter of CSV input is ','\u001b[0m\n",
      "\u001b[35m[2021-10-21:20:06:02:INFO] Determined delimiter of CSV input is ','\u001b[0m\n",
      "\u001b[35m169.254.255.130 - - [21/Oct/2021:20:06:02 +0000] \"POST /invocations HTTP/1.1\" 200 696 \"-\" \"Go-http-client/1.1\"\u001b[0m\n",
      "\u001b[35m[2021-10-21:20:06:02:INFO] Determined delimiter of CSV input is ','\u001b[0m\n",
      "\u001b[35m169.254.255.130 - - [21/Oct/2021:20:06:02 +0000] \"POST /invocations HTTP/1.1\" 200 696 \"-\" \"Go-http-client/1.1\"\u001b[0m\n",
      "\u001b[34m169.254.255.130 - - [21/Oct/2021:20:06:02 +0000] \"POST /invocations HTTP/1.1\" 200 696 \"-\" \"Go-http-client/1.1\"\u001b[0m\n",
      "\u001b[34m169.254.255.130 - - [21/Oct/2021:20:06:02 +0000] \"POST /invocations HTTP/1.1\" 200 696 \"-\" \"Go-http-client/1.1\"\u001b[0m\n",
      "\u001b[34m[2021-10-21:20:06:02:INFO] Determined delimiter of CSV input is ','\u001b[0m\n",
      "\u001b[34m[2021-10-21:20:06:02:INFO] Determined delimiter of CSV input is ','\u001b[0m\n",
      "\u001b[34m169.254.255.130 - - [21/Oct/2021:20:06:02 +0000] \"POST /invocations HTTP/1.1\" 200 696 \"-\" \"Go-http-client/1.1\"\u001b[0m\n",
      "\u001b[34m[2021-10-21:20:06:02:INFO] Determined delimiter of CSV input is ','\u001b[0m\n",
      "\u001b[34m169.254.255.130 - - [21/Oct/2021:20:06:02 +0000] \"POST /invocations HTTP/1.1\" 200 696 \"-\" \"Go-http-client/1.1\"\u001b[0m\n",
      "\u001b[34m169.254.255.130 - - [21/Oct/2021:20:06:02 +0000] \"POST /invocations HTTP/1.1\" 200 696 \"-\" \"Go-http-client/1.1\"\u001b[0m\n",
      "\u001b[34m[2021-10-21:20:06:02:INFO] Determined delimiter of CSV input is ','\u001b[0m\n",
      "\u001b[34m169.254.255.130 - - [21/Oct/2021:20:06:02 +0000] \"POST /invocations HTTP/1.1\" 200 696 \"-\" \"Go-http-client/1.1\"\u001b[0m\n",
      "\u001b[34m169.254.255.130 - - [21/Oct/2021:20:06:02 +0000] \"POST /invocations HTTP/1.1\" 200 696 \"-\" \"Go-http-client/1.1\"\u001b[0m\n",
      "\u001b[34m169.254.255.130 - - [21/Oct/2021:20:06:02 +0000] \"POST /invocations HTTP/1.1\" 200 696 \"-\" \"Go-http-client/1.1\"\u001b[0m\n",
      "\u001b[34m[2021-10-21:20:06:02:INFO] Determined delimiter of CSV input is ','\u001b[0m\n",
      "\u001b[34m[2021-10-21:20:06:02:INFO] Determined delimiter of CSV input is ','\u001b[0m\n",
      "\u001b[34m169.254.255.130 - - [21/Oct/2021:20:06:02 +0000] \"POST /invocations HTTP/1.1\" 200 696 \"-\" \"Go-http-client/1.1\"\u001b[0m\n",
      "\u001b[34m[2021-10-21:20:06:02:INFO] Determined delimiter of CSV input is ','\u001b[0m\n",
      "\u001b[34m[2021-10-21:20:06:02:INFO] Determined delimiter of CSV input is ','\u001b[0m\n",
      "\u001b[34m[2021-10-21:20:06:02:INFO] Determined delimiter of CSV input is ','\u001b[0m\n",
      "\u001b[34m[2021-10-21:20:06:02:INFO] Determined delimiter of CSV input is ','\u001b[0m\n",
      "\u001b[34m169.254.255.130 - - [21/Oct/2021:20:06:02 +0000] \"POST /invocations HTTP/1.1\" 200 696 \"-\" \"Go-http-client/1.1\"\u001b[0m\n",
      "\u001b[34m[2021-10-21:20:06:02:INFO] Determined delimiter of CSV input is ','\u001b[0m\n",
      "\u001b[34m169.254.255.130 - - [21/Oct/2021:20:06:02 +0000] \"POST /invocations HTTP/1.1\" 200 696 \"-\" \"Go-http-client/1.1\"\u001b[0m\n",
      "\u001b[34m169.254.255.130 - - [21/Oct/2021:20:06:03 +0000] \"POST /invocations HTTP/1.1\" 200 696 \"-\" \"Go-http-client/1.1\"\u001b[0m\n",
      "\u001b[34m[2021-10-21:20:06:03:INFO] Determined delimiter of CSV input is ','\u001b[0m\n",
      "\u001b[34m169.254.255.130 - - [21/Oct/2021:20:06:03 +0000] \"POST /invocations HTTP/1.1\" 200 696 \"-\" \"Go-http-client/1.1\"\u001b[0m\n",
      "\u001b[34m169.254.255.130 - - [21/Oct/2021:20:06:03 +0000] \"POST /invocations HTTP/1.1\" 200 696 \"-\" \"Go-http-client/1.1\"\u001b[0m\n",
      "\u001b[34m[2021-10-21:20:06:03:INFO] Determined delimiter of CSV input is ','\u001b[0m\n",
      "\u001b[34m169.254.255.130 - - [21/Oct/2021:20:06:03 +0000] \"POST /invocations HTTP/1.1\" 200 696 \"-\" \"Go-http-client/1.1\"\u001b[0m\n",
      "\u001b[34m169.254.255.130 - - [21/Oct/2021:20:06:03 +0000] \"POST /invocations HTTP/1.1\" 200 696 \"-\" \"Go-http-client/1.1\"\u001b[0m\n",
      "\u001b[35m169.254.255.130 - - [21/Oct/2021:20:06:02 +0000] \"POST /invocations HTTP/1.1\" 200 696 \"-\" \"Go-http-client/1.1\"\u001b[0m\n",
      "\u001b[35m169.254.255.130 - - [21/Oct/2021:20:06:02 +0000] \"POST /invocations HTTP/1.1\" 200 696 \"-\" \"Go-http-client/1.1\"\u001b[0m\n",
      "\u001b[35m[2021-10-21:20:06:02:INFO] Determined delimiter of CSV input is ','\u001b[0m\n",
      "\u001b[35m[2021-10-21:20:06:02:INFO] Determined delimiter of CSV input is ','\u001b[0m\n",
      "\u001b[35m169.254.255.130 - - [21/Oct/2021:20:06:02 +0000] \"POST /invocations HTTP/1.1\" 200 696 \"-\" \"Go-http-client/1.1\"\u001b[0m\n",
      "\u001b[35m[2021-10-21:20:06:02:INFO] Determined delimiter of CSV input is ','\u001b[0m\n",
      "\u001b[35m169.254.255.130 - - [21/Oct/2021:20:06:02 +0000] \"POST /invocations HTTP/1.1\" 200 696 \"-\" \"Go-http-client/1.1\"\u001b[0m\n",
      "\u001b[35m169.254.255.130 - - [21/Oct/2021:20:06:02 +0000] \"POST /invocations HTTP/1.1\" 200 696 \"-\" \"Go-http-client/1.1\"\u001b[0m\n",
      "\u001b[35m[2021-10-21:20:06:02:INFO] Determined delimiter of CSV input is ','\u001b[0m\n",
      "\u001b[35m169.254.255.130 - - [21/Oct/2021:20:06:02 +0000] \"POST /invocations HTTP/1.1\" 200 696 \"-\" \"Go-http-client/1.1\"\u001b[0m\n",
      "\u001b[35m169.254.255.130 - - [21/Oct/2021:20:06:02 +0000] \"POST /invocations HTTP/1.1\" 200 696 \"-\" \"Go-http-client/1.1\"\u001b[0m\n",
      "\u001b[35m169.254.255.130 - - [21/Oct/2021:20:06:02 +0000] \"POST /invocations HTTP/1.1\" 200 696 \"-\" \"Go-http-client/1.1\"\u001b[0m\n",
      "\u001b[35m[2021-10-21:20:06:02:INFO] Determined delimiter of CSV input is ','\u001b[0m\n",
      "\u001b[35m[2021-10-21:20:06:02:INFO] Determined delimiter of CSV input is ','\u001b[0m\n",
      "\u001b[35m169.254.255.130 - - [21/Oct/2021:20:06:02 +0000] \"POST /invocations HTTP/1.1\" 200 696 \"-\" \"Go-http-client/1.1\"\u001b[0m\n",
      "\u001b[35m[2021-10-21:20:06:02:INFO] Determined delimiter of CSV input is ','\u001b[0m\n",
      "\u001b[35m[2021-10-21:20:06:02:INFO] Determined delimiter of CSV input is ','\u001b[0m\n",
      "\u001b[35m[2021-10-21:20:06:02:INFO] Determined delimiter of CSV input is ','\u001b[0m\n",
      "\u001b[35m[2021-10-21:20:06:02:INFO] Determined delimiter of CSV input is ','\u001b[0m\n",
      "\u001b[35m169.254.255.130 - - [21/Oct/2021:20:06:02 +0000] \"POST /invocations HTTP/1.1\" 200 696 \"-\" \"Go-http-client/1.1\"\u001b[0m\n",
      "\u001b[35m[2021-10-21:20:06:02:INFO] Determined delimiter of CSV input is ','\u001b[0m\n",
      "\u001b[35m169.254.255.130 - - [21/Oct/2021:20:06:02 +0000] \"POST /invocations HTTP/1.1\" 200 696 \"-\" \"Go-http-client/1.1\"\u001b[0m\n",
      "\u001b[35m169.254.255.130 - - [21/Oct/2021:20:06:03 +0000] \"POST /invocations HTTP/1.1\" 200 696 \"-\" \"Go-http-client/1.1\"\u001b[0m\n",
      "\u001b[35m[2021-10-21:20:06:03:INFO] Determined delimiter of CSV input is ','\u001b[0m\n",
      "\u001b[35m169.254.255.130 - - [21/Oct/2021:20:06:03 +0000] \"POST /invocations HTTP/1.1\" 200 696 \"-\" \"Go-http-client/1.1\"\u001b[0m\n",
      "\u001b[35m169.254.255.130 - - [21/Oct/2021:20:06:03 +0000] \"POST /invocations HTTP/1.1\" 200 696 \"-\" \"Go-http-client/1.1\"\u001b[0m\n",
      "\u001b[35m[2021-10-21:20:06:03:INFO] Determined delimiter of CSV input is ','\u001b[0m\n",
      "\u001b[35m169.254.255.130 - - [21/Oct/2021:20:06:03 +0000] \"POST /invocations HTTP/1.1\" 200 696 \"-\" \"Go-http-client/1.1\"\u001b[0m\n",
      "\u001b[35m169.254.255.130 - - [21/Oct/2021:20:06:03 +0000] \"POST /invocations HTTP/1.1\" 200 696 \"-\" \"Go-http-client/1.1\"\u001b[0m\n",
      "\u001b[34m169.254.255.130 - - [21/Oct/2021:20:06:03 +0000] \"POST /invocations HTTP/1.1\" 200 696 \"-\" \"Go-http-client/1.1\"\u001b[0m\n",
      "\u001b[34m169.254.255.130 - - [21/Oct/2021:20:06:03 +0000] \"POST /invocations HTTP/1.1\" 200 696 \"-\" \"Go-http-client/1.1\"\u001b[0m\n",
      "\u001b[34m[2021-10-21:20:06:03:INFO] Determined delimiter of CSV input is ','\u001b[0m\n",
      "\u001b[34m[2021-10-21:20:06:03:INFO] Determined delimiter of CSV input is ','\u001b[0m\n",
      "\u001b[34m[2021-10-21:20:06:03:INFO] Determined delimiter of CSV input is ','\u001b[0m\n",
      "\u001b[34m[2021-10-21:20:06:03:INFO] Determined delimiter of CSV input is ','\u001b[0m\n",
      "\u001b[34m[2021-10-21:20:06:03:INFO] Determined delimiter of CSV input is ','\u001b[0m\n",
      "\u001b[34m169.254.255.130 - - [21/Oct/2021:20:06:03 +0000] \"POST /invocations HTTP/1.1\" 200 696 \"-\" \"Go-http-client/1.1\"\u001b[0m\n",
      "\u001b[34m169.254.255.130 - - [21/Oct/2021:20:06:03 +0000] \"POST /invocations HTTP/1.1\" 200 696 \"-\" \"Go-http-client/1.1\"\u001b[0m\n",
      "\u001b[34m[2021-10-21:20:06:03:INFO] Determined delimiter of CSV input is ','\u001b[0m\n",
      "\u001b[34m169.254.255.130 - - [21/Oct/2021:20:06:03 +0000] \"POST /invocations HTTP/1.1\" 200 696 \"-\" \"Go-http-client/1.1\"\u001b[0m\n",
      "\u001b[34m[2021-10-21:20:06:03:INFO] Determined delimiter of CSV input is ','\u001b[0m\n",
      "\u001b[34m169.254.255.130 - - [21/Oct/2021:20:06:03 +0000] \"POST /invocations HTTP/1.1\" 200 696 \"-\" \"Go-http-client/1.1\"\u001b[0m\n",
      "\u001b[34m[2021-10-21:20:06:03:INFO] Determined delimiter of CSV input is ','\u001b[0m\n",
      "\u001b[34m[2021-10-21:20:06:03:INFO] Determined delimiter of CSV input is ','\u001b[0m\n",
      "\u001b[35m169.254.255.130 - - [21/Oct/2021:20:06:03 +0000] \"POST /invocations HTTP/1.1\" 200 696 \"-\" \"Go-http-client/1.1\"\u001b[0m\n",
      "\u001b[35m169.254.255.130 - - [21/Oct/2021:20:06:03 +0000] \"POST /invocations HTTP/1.1\" 200 696 \"-\" \"Go-http-client/1.1\"\u001b[0m\n",
      "\u001b[35m[2021-10-21:20:06:03:INFO] Determined delimiter of CSV input is ','\u001b[0m\n",
      "\u001b[35m[2021-10-21:20:06:03:INFO] Determined delimiter of CSV input is ','\u001b[0m\n",
      "\u001b[35m[2021-10-21:20:06:03:INFO] Determined delimiter of CSV input is ','\u001b[0m\n",
      "\u001b[35m[2021-10-21:20:06:03:INFO] Determined delimiter of CSV input is ','\u001b[0m\n",
      "\u001b[35m[2021-10-21:20:06:03:INFO] Determined delimiter of CSV input is ','\u001b[0m\n",
      "\u001b[35m169.254.255.130 - - [21/Oct/2021:20:06:03 +0000] \"POST /invocations HTTP/1.1\" 200 696 \"-\" \"Go-http-client/1.1\"\u001b[0m\n",
      "\u001b[35m169.254.255.130 - - [21/Oct/2021:20:06:03 +0000] \"POST /invocations HTTP/1.1\" 200 696 \"-\" \"Go-http-client/1.1\"\u001b[0m\n",
      "\u001b[35m[2021-10-21:20:06:03:INFO] Determined delimiter of CSV input is ','\u001b[0m\n",
      "\u001b[35m169.254.255.130 - - [21/Oct/2021:20:06:03 +0000] \"POST /invocations HTTP/1.1\" 200 696 \"-\" \"Go-http-client/1.1\"\u001b[0m\n",
      "\u001b[35m[2021-10-21:20:06:03:INFO] Determined delimiter of CSV input is ','\u001b[0m\n",
      "\u001b[35m169.254.255.130 - - [21/Oct/2021:20:06:03 +0000] \"POST /invocations HTTP/1.1\" 200 696 \"-\" \"Go-http-client/1.1\"\u001b[0m\n",
      "\u001b[35m[2021-10-21:20:06:03:INFO] Determined delimiter of CSV input is ','\u001b[0m\n",
      "\u001b[35m[2021-10-21:20:06:03:INFO] Determined delimiter of CSV input is ','\u001b[0m\n",
      "\u001b[34m169.254.255.130 - - [21/Oct/2021:20:06:03 +0000] \"POST /invocations HTTP/1.1\" 200 696 \"-\" \"Go-http-client/1.1\"\u001b[0m\n",
      "\u001b[34m[2021-10-21:20:06:03:INFO] Determined delimiter of CSV input is ','\u001b[0m\n",
      "\u001b[34m169.254.255.130 - - [21/Oct/2021:20:06:03 +0000] \"POST /invocations HTTP/1.1\" 200 696 \"-\" \"Go-http-client/1.1\"\u001b[0m\n",
      "\u001b[34m169.254.255.130 - - [21/Oct/2021:20:06:03 +0000] \"POST /invocations HTTP/1.1\" 200 696 \"-\" \"Go-http-client/1.1\"\u001b[0m\n",
      "\u001b[34m169.254.255.130 - - [21/Oct/2021:20:06:03 +0000] \"POST /invocations HTTP/1.1\" 200 696 \"-\" \"Go-http-client/1.1\"\u001b[0m\n",
      "\u001b[34m[2021-10-21:20:06:04:INFO] Determined delimiter of CSV input is ','\u001b[0m\n",
      "\u001b[34m[2021-10-21:20:06:04:INFO] Determined delimiter of CSV input is ','\u001b[0m\n",
      "\u001b[34m[2021-10-21:20:06:04:INFO] Determined delimiter of CSV input is ','\u001b[0m\n",
      "\u001b[34m169.254.255.130 - - [21/Oct/2021:20:06:04 +0000] \"POST /invocations HTTP/1.1\" 200 696 \"-\" \"Go-http-client/1.1\"\u001b[0m\n",
      "\u001b[34m[2021-10-21:20:06:04:INFO] Determined delimiter of CSV input is ','\u001b[0m\n",
      "\u001b[34m[2021-10-21:20:06:04:INFO] Determined delimiter of CSV input is ','\u001b[0m\n",
      "\u001b[34m169.254.255.130 - - [21/Oct/2021:20:06:04 +0000] \"POST /invocations HTTP/1.1\" 200 696 \"-\" \"Go-http-client/1.1\"\u001b[0m\n",
      "\u001b[34m[2021-10-21:20:06:04:INFO] Determined delimiter of CSV input is ','\u001b[0m\n",
      "\u001b[34m[2021-10-21:20:06:04:INFO] Determined delimiter of CSV input is ','\u001b[0m\n",
      "\u001b[35m169.254.255.130 - - [21/Oct/2021:20:06:03 +0000] \"POST /invocations HTTP/1.1\" 200 696 \"-\" \"Go-http-client/1.1\"\u001b[0m\n",
      "\u001b[35m[2021-10-21:20:06:03:INFO] Determined delimiter of CSV input is ','\u001b[0m\n",
      "\u001b[35m169.254.255.130 - - [21/Oct/2021:20:06:03 +0000] \"POST /invocations HTTP/1.1\" 200 696 \"-\" \"Go-http-client/1.1\"\u001b[0m\n",
      "\u001b[35m169.254.255.130 - - [21/Oct/2021:20:06:03 +0000] \"POST /invocations HTTP/1.1\" 200 696 \"-\" \"Go-http-client/1.1\"\u001b[0m\n",
      "\u001b[35m169.254.255.130 - - [21/Oct/2021:20:06:03 +0000] \"POST /invocations HTTP/1.1\" 200 696 \"-\" \"Go-http-client/1.1\"\u001b[0m\n",
      "\u001b[35m[2021-10-21:20:06:04:INFO] Determined delimiter of CSV input is ','\u001b[0m\n",
      "\u001b[35m[2021-10-21:20:06:04:INFO] Determined delimiter of CSV input is ','\u001b[0m\n",
      "\u001b[35m[2021-10-21:20:06:04:INFO] Determined delimiter of CSV input is ','\u001b[0m\n",
      "\u001b[35m169.254.255.130 - - [21/Oct/2021:20:06:04 +0000] \"POST /invocations HTTP/1.1\" 200 696 \"-\" \"Go-http-client/1.1\"\u001b[0m\n",
      "\u001b[35m[2021-10-21:20:06:04:INFO] Determined delimiter of CSV input is ','\u001b[0m\n",
      "\u001b[35m[2021-10-21:20:06:04:INFO] Determined delimiter of CSV input is ','\u001b[0m\n",
      "\u001b[35m169.254.255.130 - - [21/Oct/2021:20:06:04 +0000] \"POST /invocations HTTP/1.1\" 200 696 \"-\" \"Go-http-client/1.1\"\u001b[0m\n",
      "\u001b[35m[2021-10-21:20:06:04:INFO] Determined delimiter of CSV input is ','\u001b[0m\n",
      "\u001b[35m[2021-10-21:20:06:04:INFO] Determined delimiter of CSV input is ','\u001b[0m\n",
      "\u001b[34m169.254.255.130 - - [21/Oct/2021:20:06:04 +0000] \"POST /invocations HTTP/1.1\" 200 696 \"-\" \"Go-http-client/1.1\"\u001b[0m\n",
      "\u001b[34m169.254.255.130 - - [21/Oct/2021:20:06:04 +0000] \"POST /invocations HTTP/1.1\" 200 696 \"-\" \"Go-http-client/1.1\"\u001b[0m\n",
      "\u001b[34m169.254.255.130 - - [21/Oct/2021:20:06:04 +0000] \"POST /invocations HTTP/1.1\" 200 696 \"-\" \"Go-http-client/1.1\"\u001b[0m\n",
      "\u001b[34m169.254.255.130 - - [21/Oct/2021:20:06:04 +0000] \"POST /invocations HTTP/1.1\" 200 696 \"-\" \"Go-http-client/1.1\"\u001b[0m\n",
      "\u001b[34m[2021-10-21:20:06:04:INFO] Determined delimiter of CSV input is ','\u001b[0m\n",
      "\u001b[34m[2021-10-21:20:06:04:INFO] Determined delimiter of CSV input is ','\u001b[0m\n",
      "\u001b[34m[2021-10-21:20:06:04:INFO] Determined delimiter of CSV input is ','\u001b[0m\n",
      "\u001b[34m169.254.255.130 - - [21/Oct/2021:20:06:04 +0000] \"POST /invocations HTTP/1.1\" 200 696 \"-\" \"Go-http-client/1.1\"\u001b[0m\n",
      "\u001b[34m169.254.255.130 - - [21/Oct/2021:20:06:04 +0000] \"POST /invocations HTTP/1.1\" 200 696 \"-\" \"Go-http-client/1.1\"\u001b[0m\n",
      "\u001b[34m169.254.255.130 - - [21/Oct/2021:20:06:04 +0000] \"POST /invocations HTTP/1.1\" 200 696 \"-\" \"Go-http-client/1.1\"\u001b[0m\n",
      "\u001b[34m169.254.255.130 - - [21/Oct/2021:20:06:04 +0000] \"POST /invocations HTTP/1.1\" 200 696 \"-\" \"Go-http-client/1.1\"\u001b[0m\n",
      "\u001b[34m169.254.255.130 - - [21/Oct/2021:20:06:04 +0000] \"POST /invocations HTTP/1.1\" 200 696 \"-\" \"Go-http-client/1.1\"\u001b[0m\n",
      "\u001b[34m169.254.255.130 - - [21/Oct/2021:20:06:04 +0000] \"POST /invocations HTTP/1.1\" 200 696 \"-\" \"Go-http-client/1.1\"\u001b[0m\n",
      "\u001b[35m169.254.255.130 - - [21/Oct/2021:20:06:04 +0000] \"POST /invocations HTTP/1.1\" 200 696 \"-\" \"Go-http-client/1.1\"\u001b[0m\n",
      "\u001b[35m169.254.255.130 - - [21/Oct/2021:20:06:04 +0000] \"POST /invocations HTTP/1.1\" 200 696 \"-\" \"Go-http-client/1.1\"\u001b[0m\n",
      "\u001b[35m169.254.255.130 - - [21/Oct/2021:20:06:04 +0000] \"POST /invocations HTTP/1.1\" 200 696 \"-\" \"Go-http-client/1.1\"\u001b[0m\n",
      "\u001b[35m169.254.255.130 - - [21/Oct/2021:20:06:04 +0000] \"POST /invocations HTTP/1.1\" 200 696 \"-\" \"Go-http-client/1.1\"\u001b[0m\n",
      "\u001b[35m[2021-10-21:20:06:04:INFO] Determined delimiter of CSV input is ','\u001b[0m\n",
      "\u001b[35m[2021-10-21:20:06:04:INFO] Determined delimiter of CSV input is ','\u001b[0m\n",
      "\u001b[35m[2021-10-21:20:06:04:INFO] Determined delimiter of CSV input is ','\u001b[0m\n",
      "\u001b[35m169.254.255.130 - - [21/Oct/2021:20:06:04 +0000] \"POST /invocations HTTP/1.1\" 200 696 \"-\" \"Go-http-client/1.1\"\u001b[0m\n",
      "\u001b[35m169.254.255.130 - - [21/Oct/2021:20:06:04 +0000] \"POST /invocations HTTP/1.1\" 200 696 \"-\" \"Go-http-client/1.1\"\u001b[0m\n",
      "\u001b[35m169.254.255.130 - - [21/Oct/2021:20:06:04 +0000] \"POST /invocations HTTP/1.1\" 200 696 \"-\" \"Go-http-client/1.1\"\u001b[0m\n",
      "\u001b[35m169.254.255.130 - - [21/Oct/2021:20:06:04 +0000] \"POST /invocations HTTP/1.1\" 200 696 \"-\" \"Go-http-client/1.1\"\u001b[0m\n",
      "\u001b[35m169.254.255.130 - - [21/Oct/2021:20:06:04 +0000] \"POST /invocations HTTP/1.1\" 200 696 \"-\" \"Go-http-client/1.1\"\u001b[0m\n",
      "\u001b[35m169.254.255.130 - - [21/Oct/2021:20:06:04 +0000] \"POST /invocations HTTP/1.1\" 200 696 \"-\" \"Go-http-client/1.1\"\u001b[0m\n",
      "\u001b[34m[2021-10-21:20:06:04:INFO] Determined delimiter of CSV input is ','\u001b[0m\n",
      "\u001b[34m[2021-10-21:20:06:04:INFO] Determined delimiter of CSV input is ','\u001b[0m\n",
      "\u001b[34m[2021-10-21:20:06:04:INFO] Determined delimiter of CSV input is ','\u001b[0m\n",
      "\u001b[34m[2021-10-21:20:06:04:INFO] Determined delimiter of CSV input is ','\u001b[0m\n",
      "\u001b[34m[2021-10-21:20:06:04:INFO] Determined delimiter of CSV input is ','\u001b[0m\n",
      "\u001b[34m[2021-10-21:20:06:04:INFO] Determined delimiter of CSV input is ','\u001b[0m\n",
      "\u001b[34m169.254.255.130 - - [21/Oct/2021:20:06:05 +0000] \"POST /invocations HTTP/1.1\" 200 696 \"-\" \"Go-http-client/1.1\"\u001b[0m\n",
      "\u001b[34m169.254.255.130 - - [21/Oct/2021:20:06:05 +0000] \"POST /invocations HTTP/1.1\" 200 696 \"-\" \"Go-http-client/1.1\"\u001b[0m\n",
      "\u001b[34m[2021-10-21:20:06:05:INFO] Determined delimiter of CSV input is ','\u001b[0m\n",
      "\u001b[34m[2021-10-21:20:06:05:INFO] Determined delimiter of CSV input is ','\u001b[0m\n",
      "\u001b[34m[2021-10-21:20:06:05:INFO] Determined delimiter of CSV input is ','\u001b[0m\n",
      "\u001b[35m[2021-10-21:20:06:04:INFO] Determined delimiter of CSV input is ','\u001b[0m\n",
      "\u001b[35m[2021-10-21:20:06:04:INFO] Determined delimiter of CSV input is ','\u001b[0m\n",
      "\u001b[35m[2021-10-21:20:06:04:INFO] Determined delimiter of CSV input is ','\u001b[0m\n",
      "\u001b[35m[2021-10-21:20:06:04:INFO] Determined delimiter of CSV input is ','\u001b[0m\n",
      "\u001b[35m[2021-10-21:20:06:04:INFO] Determined delimiter of CSV input is ','\u001b[0m\n",
      "\u001b[35m[2021-10-21:20:06:04:INFO] Determined delimiter of CSV input is ','\u001b[0m\n",
      "\u001b[35m169.254.255.130 - - [21/Oct/2021:20:06:05 +0000] \"POST /invocations HTTP/1.1\" 200 696 \"-\" \"Go-http-client/1.1\"\u001b[0m\n",
      "\u001b[35m169.254.255.130 - - [21/Oct/2021:20:06:05 +0000] \"POST /invocations HTTP/1.1\" 200 696 \"-\" \"Go-http-client/1.1\"\u001b[0m\n",
      "\u001b[35m[2021-10-21:20:06:05:INFO] Determined delimiter of CSV input is ','\u001b[0m\n",
      "\u001b[35m[2021-10-21:20:06:05:INFO] Determined delimiter of CSV input is ','\u001b[0m\n",
      "\u001b[35m[2021-10-21:20:06:05:INFO] Determined delimiter of CSV input is ','\u001b[0m\n",
      "\u001b[34m169.254.255.130 - - [21/Oct/2021:20:06:05 +0000] \"POST /invocations HTTP/1.1\" 200 696 \"-\" \"Go-http-client/1.1\"\u001b[0m\n",
      "\u001b[34m169.254.255.130 - - [21/Oct/2021:20:06:05 +0000] \"POST /invocations HTTP/1.1\" 200 696 \"-\" \"Go-http-client/1.1\"\u001b[0m\n",
      "\u001b[34m169.254.255.130 - - [21/Oct/2021:20:06:05 +0000] \"POST /invocations HTTP/1.1\" 200 696 \"-\" \"Go-http-client/1.1\"\u001b[0m\n",
      "\u001b[34m169.254.255.130 - - [21/Oct/2021:20:06:05 +0000] \"POST /invocations HTTP/1.1\" 200 696 \"-\" \"Go-http-client/1.1\"\u001b[0m\n",
      "\u001b[34m169.254.255.130 - - [21/Oct/2021:20:06:05 +0000] \"POST /invocations HTTP/1.1\" 200 696 \"-\" \"Go-http-client/1.1\"\u001b[0m\n",
      "\u001b[34m[2021-10-21:20:06:05:INFO] Determined delimiter of CSV input is ','\u001b[0m\n",
      "\u001b[34m169.254.255.130 - - [21/Oct/2021:20:06:05 +0000] \"POST /invocations HTTP/1.1\" 200 696 \"-\" \"Go-http-client/1.1\"\u001b[0m\n",
      "\u001b[34m[2021-10-21:20:06:05:INFO] Determined delimiter of CSV input is ','\u001b[0m\n",
      "\u001b[34m169.254.255.130 - - [21/Oct/2021:20:06:05 +0000] \"POST /invocations HTTP/1.1\" 200 696 \"-\" \"Go-http-client/1.1\"\u001b[0m\n",
      "\u001b[34m[2021-10-21:20:06:05:INFO] Determined delimiter of CSV input is ','\u001b[0m\n",
      "\u001b[34m169.254.255.130 - - [21/Oct/2021:20:06:05 +0000] \"POST /invocations HTTP/1.1\" 200 696 \"-\" \"Go-http-client/1.1\"\u001b[0m\n",
      "\u001b[34m[2021-10-21:20:06:05:INFO] Determined delimiter of CSV input is ','\u001b[0m\n",
      "\u001b[35m169.254.255.130 - - [21/Oct/2021:20:06:05 +0000] \"POST /invocations HTTP/1.1\" 200 696 \"-\" \"Go-http-client/1.1\"\u001b[0m\n",
      "\u001b[35m169.254.255.130 - - [21/Oct/2021:20:06:05 +0000] \"POST /invocations HTTP/1.1\" 200 696 \"-\" \"Go-http-client/1.1\"\u001b[0m\n",
      "\u001b[35m169.254.255.130 - - [21/Oct/2021:20:06:05 +0000] \"POST /invocations HTTP/1.1\" 200 696 \"-\" \"Go-http-client/1.1\"\u001b[0m\n",
      "\u001b[35m169.254.255.130 - - [21/Oct/2021:20:06:05 +0000] \"POST /invocations HTTP/1.1\" 200 696 \"-\" \"Go-http-client/1.1\"\u001b[0m\n",
      "\u001b[35m169.254.255.130 - - [21/Oct/2021:20:06:05 +0000] \"POST /invocations HTTP/1.1\" 200 696 \"-\" \"Go-http-client/1.1\"\u001b[0m\n",
      "\u001b[35m[2021-10-21:20:06:05:INFO] Determined delimiter of CSV input is ','\u001b[0m\n",
      "\u001b[35m169.254.255.130 - - [21/Oct/2021:20:06:05 +0000] \"POST /invocations HTTP/1.1\" 200 696 \"-\" \"Go-http-client/1.1\"\u001b[0m\n",
      "\u001b[35m[2021-10-21:20:06:05:INFO] Determined delimiter of CSV input is ','\u001b[0m\n",
      "\u001b[35m169.254.255.130 - - [21/Oct/2021:20:06:05 +0000] \"POST /invocations HTTP/1.1\" 200 696 \"-\" \"Go-http-client/1.1\"\u001b[0m\n",
      "\u001b[35m[2021-10-21:20:06:05:INFO] Determined delimiter of CSV input is ','\u001b[0m\n",
      "\u001b[35m169.254.255.130 - - [21/Oct/2021:20:06:05 +0000] \"POST /invocations HTTP/1.1\" 200 696 \"-\" \"Go-http-client/1.1\"\u001b[0m\n",
      "\u001b[35m[2021-10-21:20:06:05:INFO] Determined delimiter of CSV input is ','\u001b[0m\n",
      "\u001b[34m[2021-10-21:20:06:05:INFO] Determined delimiter of CSV input is ','\u001b[0m\n",
      "\u001b[34m[2021-10-21:20:06:05:INFO] Determined delimiter of CSV input is ','\u001b[0m\n",
      "\u001b[34m[2021-10-21:20:06:05:INFO] Determined delimiter of CSV input is ','\u001b[0m\n",
      "\u001b[34m169.254.255.130 - - [21/Oct/2021:20:06:05 +0000] \"POST /invocations HTTP/1.1\" 200 696 \"-\" \"Go-http-client/1.1\"\u001b[0m\n",
      "\u001b[34m[2021-10-21:20:06:05:INFO] Determined delimiter of CSV input is ','\u001b[0m\n",
      "\u001b[34m169.254.255.130 - - [21/Oct/2021:20:06:05 +0000] \"POST /invocations HTTP/1.1\" 200 696 \"-\" \"Go-http-client/1.1\"\u001b[0m\n",
      "\u001b[34m169.254.255.130 - - [21/Oct/2021:20:06:05 +0000] \"POST /invocations HTTP/1.1\" 200 696 \"-\" \"Go-http-client/1.1\"\u001b[0m\n",
      "\u001b[34m[2021-10-21:20:06:05:INFO] Determined delimiter of CSV input is ','\u001b[0m\n",
      "\u001b[34m169.254.255.130 - - [21/Oct/2021:20:06:05 +0000] \"POST /invocations HTTP/1.1\" 200 696 \"-\" \"Go-http-client/1.1\"\u001b[0m\n",
      "\u001b[34m[2021-10-21:20:06:05:INFO] Determined delimiter of CSV input is ','\u001b[0m\n",
      "\u001b[34m169.254.255.130 - - [21/Oct/2021:20:06:06 +0000] \"POST /invocations HTTP/1.1\" 200 696 \"-\" \"Go-http-client/1.1\"\u001b[0m\n",
      "\u001b[34m169.254.255.130 - - [21/Oct/2021:20:06:06 +0000] \"POST /invocations HTTP/1.1\" 200 696 \"-\" \"Go-http-client/1.1\"\u001b[0m\n",
      "\u001b[34m169.254.255.130 - - [21/Oct/2021:20:06:06 +0000] \"POST /invocations HTTP/1.1\" 200 696 \"-\" \"Go-http-client/1.1\"\u001b[0m\n",
      "\u001b[34m169.254.255.130 - - [21/Oct/2021:20:06:06 +0000] \"POST /invocations HTTP/1.1\" 200 696 \"-\" \"Go-http-client/1.1\"\u001b[0m\n",
      "\u001b[34m[2021-10-21:20:06:06:INFO] Determined delimiter of CSV input is ','\u001b[0m\n",
      "\u001b[34m[2021-10-21:20:06:06:INFO] Determined delimiter of CSV input is ','\u001b[0m\n",
      "\u001b[34m169.254.255.130 - - [21/Oct/2021:20:06:06 +0000] \"POST /invocations HTTP/1.1\" 200 696 \"-\" \"Go-http-client/1.1\"\u001b[0m\n",
      "\u001b[34m[2021-10-21:20:06:06:INFO] Determined delimiter of CSV input is ','\u001b[0m\n",
      "\u001b[34m[2021-10-21:20:06:06:INFO] Determined delimiter of CSV input is ','\u001b[0m\n",
      "\u001b[34m[2021-10-21:20:06:06:INFO] Determined delimiter of CSV input is ','\u001b[0m\n",
      "\u001b[34m[2021-10-21:20:06:06:INFO] Determined delimiter of CSV input is ','\u001b[0m\n",
      "\u001b[34m[2021-10-21:20:06:06:INFO] Determined delimiter of CSV input is ','\u001b[0m\n",
      "\u001b[35m[2021-10-21:20:06:05:INFO] Determined delimiter of CSV input is ','\u001b[0m\n",
      "\u001b[35m[2021-10-21:20:06:05:INFO] Determined delimiter of CSV input is ','\u001b[0m\n",
      "\u001b[35m[2021-10-21:20:06:05:INFO] Determined delimiter of CSV input is ','\u001b[0m\n",
      "\u001b[35m169.254.255.130 - - [21/Oct/2021:20:06:05 +0000] \"POST /invocations HTTP/1.1\" 200 696 \"-\" \"Go-http-client/1.1\"\u001b[0m\n",
      "\u001b[35m[2021-10-21:20:06:05:INFO] Determined delimiter of CSV input is ','\u001b[0m\n",
      "\u001b[35m169.254.255.130 - - [21/Oct/2021:20:06:05 +0000] \"POST /invocations HTTP/1.1\" 200 696 \"-\" \"Go-http-client/1.1\"\u001b[0m\n",
      "\u001b[35m169.254.255.130 - - [21/Oct/2021:20:06:05 +0000] \"POST /invocations HTTP/1.1\" 200 696 \"-\" \"Go-http-client/1.1\"\u001b[0m\n",
      "\u001b[35m[2021-10-21:20:06:05:INFO] Determined delimiter of CSV input is ','\u001b[0m\n",
      "\u001b[35m169.254.255.130 - - [21/Oct/2021:20:06:05 +0000] \"POST /invocations HTTP/1.1\" 200 696 \"-\" \"Go-http-client/1.1\"\u001b[0m\n",
      "\u001b[35m[2021-10-21:20:06:05:INFO] Determined delimiter of CSV input is ','\u001b[0m\n",
      "\u001b[35m169.254.255.130 - - [21/Oct/2021:20:06:06 +0000] \"POST /invocations HTTP/1.1\" 200 696 \"-\" \"Go-http-client/1.1\"\u001b[0m\n",
      "\u001b[35m169.254.255.130 - - [21/Oct/2021:20:06:06 +0000] \"POST /invocations HTTP/1.1\" 200 696 \"-\" \"Go-http-client/1.1\"\u001b[0m\n",
      "\u001b[35m169.254.255.130 - - [21/Oct/2021:20:06:06 +0000] \"POST /invocations HTTP/1.1\" 200 696 \"-\" \"Go-http-client/1.1\"\u001b[0m\n",
      "\u001b[35m169.254.255.130 - - [21/Oct/2021:20:06:06 +0000] \"POST /invocations HTTP/1.1\" 200 696 \"-\" \"Go-http-client/1.1\"\u001b[0m\n",
      "\u001b[35m[2021-10-21:20:06:06:INFO] Determined delimiter of CSV input is ','\u001b[0m\n",
      "\u001b[35m[2021-10-21:20:06:06:INFO] Determined delimiter of CSV input is ','\u001b[0m\n",
      "\u001b[35m169.254.255.130 - - [21/Oct/2021:20:06:06 +0000] \"POST /invocations HTTP/1.1\" 200 696 \"-\" \"Go-http-client/1.1\"\u001b[0m\n",
      "\u001b[35m[2021-10-21:20:06:06:INFO] Determined delimiter of CSV input is ','\u001b[0m\n",
      "\u001b[35m[2021-10-21:20:06:06:INFO] Determined delimiter of CSV input is ','\u001b[0m\n",
      "\u001b[35m[2021-10-21:20:06:06:INFO] Determined delimiter of CSV input is ','\u001b[0m\n",
      "\u001b[35m[2021-10-21:20:06:06:INFO] Determined delimiter of CSV input is ','\u001b[0m\n",
      "\u001b[35m[2021-10-21:20:06:06:INFO] Determined delimiter of CSV input is ','\u001b[0m\n",
      "\u001b[34m169.254.255.130 - - [21/Oct/2021:20:06:06 +0000] \"POST /invocations HTTP/1.1\" 200 696 \"-\" \"Go-http-client/1.1\"\u001b[0m\n",
      "\u001b[34m169.254.255.130 - - [21/Oct/2021:20:06:06 +0000] \"POST /invocations HTTP/1.1\" 200 696 \"-\" \"Go-http-client/1.1\"\u001b[0m\n",
      "\u001b[34m[2021-10-21:20:06:06:INFO] Determined delimiter of CSV input is ','\u001b[0m\n",
      "\u001b[34m169.254.255.130 - - [21/Oct/2021:20:06:06 +0000] \"POST /invocations HTTP/1.1\" 200 696 \"-\" \"Go-http-client/1.1\"\u001b[0m\n",
      "\u001b[34m169.254.255.130 - - [21/Oct/2021:20:06:06 +0000] \"POST /invocations HTTP/1.1\" 200 696 \"-\" \"Go-http-client/1.1\"\u001b[0m\n",
      "\u001b[34m169.254.255.130 - - [21/Oct/2021:20:06:06 +0000] \"POST /invocations HTTP/1.1\" 200 696 \"-\" \"Go-http-client/1.1\"\u001b[0m\n",
      "\u001b[34m169.254.255.130 - - [21/Oct/2021:20:06:06 +0000] \"POST /invocations HTTP/1.1\" 200 696 \"-\" \"Go-http-client/1.1\"\u001b[0m\n",
      "\u001b[34m[2021-10-21:20:06:06:INFO] Determined delimiter of CSV input is ','\u001b[0m\n",
      "\u001b[34m169.254.255.130 - - [21/Oct/2021:20:06:06 +0000] \"POST /invocations HTTP/1.1\" 200 696 \"-\" \"Go-http-client/1.1\"\u001b[0m\n",
      "\u001b[34m[2021-10-21:20:06:06:INFO] Determined delimiter of CSV input is ','\u001b[0m\n",
      "\u001b[34m169.254.255.130 - - [21/Oct/2021:20:06:06 +0000] \"POST /invocations HTTP/1.1\" 200 696 \"-\" \"Go-http-client/1.1\"\u001b[0m\n",
      "\u001b[34m[2021-10-21:20:06:06:INFO] Determined delimiter of CSV input is ','\u001b[0m\n",
      "\u001b[34m169.254.255.130 - - [21/Oct/2021:20:06:06 +0000] \"POST /invocations HTTP/1.1\" 200 696 \"-\" \"Go-http-client/1.1\"\u001b[0m\n",
      "\u001b[34m[2021-10-21:20:06:06:INFO] Determined delimiter of CSV input is ','\u001b[0m\n",
      "\u001b[34m169.254.255.130 - - [21/Oct/2021:20:06:06 +0000] \"POST /invocations HTTP/1.1\" 200 696 \"-\" \"Go-http-client/1.1\"\u001b[0m\n",
      "\u001b[34m[2021-10-21:20:06:06:INFO] Determined delimiter of CSV input is ','\u001b[0m\n",
      "\u001b[34m[2021-10-21:20:06:06:INFO] Determined delimiter of CSV input is ','\u001b[0m\n",
      "\u001b[34m[2021-10-21:20:06:06:INFO] Determined delimiter of CSV input is ','\u001b[0m\n",
      "\u001b[34m[2021-10-21:20:06:06:INFO] Determined delimiter of CSV input is ','\u001b[0m\n",
      "\u001b[34m169.254.255.130 - - [21/Oct/2021:20:06:07 +0000] \"POST /invocations HTTP/1.1\" 200 696 \"-\" \"Go-http-client/1.1\"\u001b[0m\n",
      "\u001b[34m[2021-10-21:20:06:07:INFO] Determined delimiter of CSV input is ','\u001b[0m\n",
      "\u001b[34m[2021-10-21:20:06:07:INFO] Determined delimiter of CSV input is ','\u001b[0m\n",
      "\u001b[34m[2021-10-21:20:06:07:INFO] Determined delimiter of CSV input is ','\u001b[0m\n",
      "\u001b[35m169.254.255.130 - - [21/Oct/2021:20:06:06 +0000] \"POST /invocations HTTP/1.1\" 200 696 \"-\" \"Go-http-client/1.1\"\u001b[0m\n",
      "\u001b[35m169.254.255.130 - - [21/Oct/2021:20:06:06 +0000] \"POST /invocations HTTP/1.1\" 200 696 \"-\" \"Go-http-client/1.1\"\u001b[0m\n",
      "\u001b[35m[2021-10-21:20:06:06:INFO] Determined delimiter of CSV input is ','\u001b[0m\n",
      "\u001b[35m169.254.255.130 - - [21/Oct/2021:20:06:06 +0000] \"POST /invocations HTTP/1.1\" 200 696 \"-\" \"Go-http-client/1.1\"\u001b[0m\n",
      "\u001b[35m169.254.255.130 - - [21/Oct/2021:20:06:06 +0000] \"POST /invocations HTTP/1.1\" 200 696 \"-\" \"Go-http-client/1.1\"\u001b[0m\n",
      "\u001b[35m169.254.255.130 - - [21/Oct/2021:20:06:06 +0000] \"POST /invocations HTTP/1.1\" 200 696 \"-\" \"Go-http-client/1.1\"\u001b[0m\n",
      "\u001b[35m169.254.255.130 - - [21/Oct/2021:20:06:06 +0000] \"POST /invocations HTTP/1.1\" 200 696 \"-\" \"Go-http-client/1.1\"\u001b[0m\n",
      "\u001b[35m[2021-10-21:20:06:06:INFO] Determined delimiter of CSV input is ','\u001b[0m\n",
      "\u001b[35m169.254.255.130 - - [21/Oct/2021:20:06:06 +0000] \"POST /invocations HTTP/1.1\" 200 696 \"-\" \"Go-http-client/1.1\"\u001b[0m\n",
      "\u001b[35m[2021-10-21:20:06:06:INFO] Determined delimiter of CSV input is ','\u001b[0m\n",
      "\u001b[35m169.254.255.130 - - [21/Oct/2021:20:06:06 +0000] \"POST /invocations HTTP/1.1\" 200 696 \"-\" \"Go-http-client/1.1\"\u001b[0m\n",
      "\u001b[35m[2021-10-21:20:06:06:INFO] Determined delimiter of CSV input is ','\u001b[0m\n",
      "\u001b[35m169.254.255.130 - - [21/Oct/2021:20:06:06 +0000] \"POST /invocations HTTP/1.1\" 200 696 \"-\" \"Go-http-client/1.1\"\u001b[0m\n",
      "\u001b[35m[2021-10-21:20:06:06:INFO] Determined delimiter of CSV input is ','\u001b[0m\n",
      "\u001b[35m169.254.255.130 - - [21/Oct/2021:20:06:06 +0000] \"POST /invocations HTTP/1.1\" 200 696 \"-\" \"Go-http-client/1.1\"\u001b[0m\n",
      "\u001b[35m[2021-10-21:20:06:06:INFO] Determined delimiter of CSV input is ','\u001b[0m\n",
      "\u001b[35m[2021-10-21:20:06:06:INFO] Determined delimiter of CSV input is ','\u001b[0m\n",
      "\u001b[35m[2021-10-21:20:06:06:INFO] Determined delimiter of CSV input is ','\u001b[0m\n",
      "\u001b[35m[2021-10-21:20:06:06:INFO] Determined delimiter of CSV input is ','\u001b[0m\n",
      "\u001b[35m169.254.255.130 - - [21/Oct/2021:20:06:07 +0000] \"POST /invocations HTTP/1.1\" 200 696 \"-\" \"Go-http-client/1.1\"\u001b[0m\n",
      "\u001b[35m[2021-10-21:20:06:07:INFO] Determined delimiter of CSV input is ','\u001b[0m\n",
      "\u001b[35m[2021-10-21:20:06:07:INFO] Determined delimiter of CSV input is ','\u001b[0m\n",
      "\u001b[35m[2021-10-21:20:06:07:INFO] Determined delimiter of CSV input is ','\u001b[0m\n",
      "\u001b[34m169.254.255.130 - - [21/Oct/2021:20:06:07 +0000] \"POST /invocations HTTP/1.1\" 200 696 \"-\" \"Go-http-client/1.1\"\u001b[0m\n",
      "\u001b[34m169.254.255.130 - - [21/Oct/2021:20:06:07 +0000] \"POST /invocations HTTP/1.1\" 200 696 \"-\" \"Go-http-client/1.1\"\u001b[0m\n",
      "\u001b[34m169.254.255.130 - - [21/Oct/2021:20:06:07 +0000] \"POST /invocations HTTP/1.1\" 200 696 \"-\" \"Go-http-client/1.1\"\u001b[0m\n",
      "\u001b[34m169.254.255.130 - - [21/Oct/2021:20:06:07 +0000] \"POST /invocations HTTP/1.1\" 200 696 \"-\" \"Go-http-client/1.1\"\u001b[0m\n",
      "\u001b[34m169.254.255.130 - - [21/Oct/2021:20:06:07 +0000] \"POST /invocations HTTP/1.1\" 200 696 \"-\" \"Go-http-client/1.1\"\u001b[0m\n",
      "\u001b[34m[2021-10-21:20:06:07:INFO] Determined delimiter of CSV input is ','\u001b[0m\n",
      "\u001b[34m[2021-10-21:20:06:07:INFO] Determined delimiter of CSV input is ','\u001b[0m\n",
      "\u001b[34m[2021-10-21:20:06:07:INFO] Determined delimiter of CSV input is ','\u001b[0m\n",
      "\u001b[34m[2021-10-21:20:06:07:INFO] Determined delimiter of CSV input is ','\u001b[0m\n",
      "\u001b[34m[2021-10-21:20:06:07:INFO] Determined delimiter of CSV input is ','\u001b[0m\n",
      "\u001b[34m169.254.255.130 - - [21/Oct/2021:20:06:07 +0000] \"POST /invocations HTTP/1.1\" 200 696 \"-\" \"Go-http-client/1.1\"\u001b[0m\n",
      "\u001b[34m169.254.255.130 - - [21/Oct/2021:20:06:07 +0000] \"POST /invocations HTTP/1.1\" 200 696 \"-\" \"Go-http-client/1.1\"\u001b[0m\n",
      "\u001b[34m[2021-10-21:20:06:07:INFO] Determined delimiter of CSV input is ','\u001b[0m\n",
      "\u001b[34m[2021-10-21:20:06:07:INFO] Determined delimiter of CSV input is ','\u001b[0m\n",
      "\u001b[34m169.254.255.130 - - [21/Oct/2021:20:06:07 +0000] \"POST /invocations HTTP/1.1\" 200 696 \"-\" \"Go-http-client/1.1\"\u001b[0m\n",
      "\u001b[34m[2021-10-21:20:06:07:INFO] Determined delimiter of CSV input is ','\u001b[0m\n",
      "\u001b[34m169.254.255.130 - - [21/Oct/2021:20:06:07 +0000] \"POST /invocations HTTP/1.1\" 200 696 \"-\" \"Go-http-client/1.1\"\u001b[0m\n",
      "\u001b[34m169.254.255.130 - - [21/Oct/2021:20:06:07 +0000] \"POST /invocations HTTP/1.1\" 200 696 \"-\" \"Go-http-client/1.1\"\u001b[0m\n",
      "\u001b[34m169.254.255.130 - - [21/Oct/2021:20:06:07 +0000] \"POST /invocations HTTP/1.1\" 200 696 \"-\" \"Go-http-client/1.1\"\u001b[0m\n",
      "\u001b[34m169.254.255.130 - - [21/Oct/2021:20:06:07 +0000] \"POST /invocations HTTP/1.1\" 200 696 \"-\" \"Go-http-client/1.1\"\u001b[0m\n",
      "\u001b[34m169.254.255.130 - - [21/Oct/2021:20:06:07 +0000] \"POST /invocations HTTP/1.1\" 200 696 \"-\" \"Go-http-client/1.1\"\u001b[0m\n",
      "\u001b[34m[2021-10-21:20:06:07:INFO] Determined delimiter of CSV input is ','\u001b[0m\n",
      "\u001b[34m[2021-10-21:20:06:07:INFO] Determined delimiter of CSV input is ','\u001b[0m\n",
      "\u001b[34m[2021-10-21:20:06:07:INFO] Determined delimiter of CSV input is ','\u001b[0m\n",
      "\u001b[34m[2021-10-21:20:06:07:INFO] Determined delimiter of CSV input is ','\u001b[0m\n",
      "\u001b[34m[2021-10-21:20:06:07:INFO] Determined delimiter of CSV input is ','\u001b[0m\n",
      "\u001b[34m169.254.255.130 - - [21/Oct/2021:20:06:07 +0000] \"POST /invocations HTTP/1.1\" 200 696 \"-\" \"Go-http-client/1.1\"\u001b[0m\n",
      "\u001b[35m169.254.255.130 - - [21/Oct/2021:20:06:07 +0000] \"POST /invocations HTTP/1.1\" 200 696 \"-\" \"Go-http-client/1.1\"\u001b[0m\n",
      "\u001b[35m169.254.255.130 - - [21/Oct/2021:20:06:07 +0000] \"POST /invocations HTTP/1.1\" 200 696 \"-\" \"Go-http-client/1.1\"\u001b[0m\n",
      "\u001b[35m169.254.255.130 - - [21/Oct/2021:20:06:07 +0000] \"POST /invocations HTTP/1.1\" 200 696 \"-\" \"Go-http-client/1.1\"\u001b[0m\n",
      "\u001b[35m169.254.255.130 - - [21/Oct/2021:20:06:07 +0000] \"POST /invocations HTTP/1.1\" 200 696 \"-\" \"Go-http-client/1.1\"\u001b[0m\n",
      "\u001b[35m169.254.255.130 - - [21/Oct/2021:20:06:07 +0000] \"POST /invocations HTTP/1.1\" 200 696 \"-\" \"Go-http-client/1.1\"\u001b[0m\n",
      "\u001b[35m[2021-10-21:20:06:07:INFO] Determined delimiter of CSV input is ','\u001b[0m\n",
      "\u001b[35m[2021-10-21:20:06:07:INFO] Determined delimiter of CSV input is ','\u001b[0m\n",
      "\u001b[35m[2021-10-21:20:06:07:INFO] Determined delimiter of CSV input is ','\u001b[0m\n",
      "\u001b[35m[2021-10-21:20:06:07:INFO] Determined delimiter of CSV input is ','\u001b[0m\n",
      "\u001b[35m[2021-10-21:20:06:07:INFO] Determined delimiter of CSV input is ','\u001b[0m\n",
      "\u001b[35m169.254.255.130 - - [21/Oct/2021:20:06:07 +0000] \"POST /invocations HTTP/1.1\" 200 696 \"-\" \"Go-http-client/1.1\"\u001b[0m\n",
      "\u001b[35m169.254.255.130 - - [21/Oct/2021:20:06:07 +0000] \"POST /invocations HTTP/1.1\" 200 696 \"-\" \"Go-http-client/1.1\"\u001b[0m\n",
      "\u001b[35m[2021-10-21:20:06:07:INFO] Determined delimiter of CSV input is ','\u001b[0m\n",
      "\u001b[35m[2021-10-21:20:06:07:INFO] Determined delimiter of CSV input is ','\u001b[0m\n",
      "\u001b[35m169.254.255.130 - - [21/Oct/2021:20:06:07 +0000] \"POST /invocations HTTP/1.1\" 200 696 \"-\" \"Go-http-client/1.1\"\u001b[0m\n",
      "\u001b[35m[2021-10-21:20:06:07:INFO] Determined delimiter of CSV input is ','\u001b[0m\n",
      "\u001b[35m169.254.255.130 - - [21/Oct/2021:20:06:07 +0000] \"POST /invocations HTTP/1.1\" 200 696 \"-\" \"Go-http-client/1.1\"\u001b[0m\n",
      "\u001b[35m169.254.255.130 - - [21/Oct/2021:20:06:07 +0000] \"POST /invocations HTTP/1.1\" 200 696 \"-\" \"Go-http-client/1.1\"\u001b[0m\n",
      "\u001b[35m169.254.255.130 - - [21/Oct/2021:20:06:07 +0000] \"POST /invocations HTTP/1.1\" 200 696 \"-\" \"Go-http-client/1.1\"\u001b[0m\n",
      "\u001b[35m169.254.255.130 - - [21/Oct/2021:20:06:07 +0000] \"POST /invocations HTTP/1.1\" 200 696 \"-\" \"Go-http-client/1.1\"\u001b[0m\n",
      "\u001b[35m169.254.255.130 - - [21/Oct/2021:20:06:07 +0000] \"POST /invocations HTTP/1.1\" 200 696 \"-\" \"Go-http-client/1.1\"\u001b[0m\n",
      "\u001b[35m[2021-10-21:20:06:07:INFO] Determined delimiter of CSV input is ','\u001b[0m\n",
      "\u001b[35m[2021-10-21:20:06:07:INFO] Determined delimiter of CSV input is ','\u001b[0m\n",
      "\u001b[35m[2021-10-21:20:06:07:INFO] Determined delimiter of CSV input is ','\u001b[0m\n",
      "\u001b[35m[2021-10-21:20:06:07:INFO] Determined delimiter of CSV input is ','\u001b[0m\n",
      "\u001b[35m[2021-10-21:20:06:07:INFO] Determined delimiter of CSV input is ','\u001b[0m\n",
      "\u001b[35m169.254.255.130 - - [21/Oct/2021:20:06:07 +0000] \"POST /invocations HTTP/1.1\" 200 696 \"-\" \"Go-http-client/1.1\"\u001b[0m\n",
      "\u001b[34m169.254.255.130 - - [21/Oct/2021:20:06:08 +0000] \"POST /invocations HTTP/1.1\" 200 696 \"-\" \"Go-http-client/1.1\"\u001b[0m\n",
      "\u001b[34m169.254.255.130 - - [21/Oct/2021:20:06:08 +0000] \"POST /invocations HTTP/1.1\" 200 696 \"-\" \"Go-http-client/1.1\"\u001b[0m\n",
      "\u001b[34m[2021-10-21:20:06:08:INFO] Determined delimiter of CSV input is ','\u001b[0m\n",
      "\u001b[34m[2021-10-21:20:06:08:INFO] Determined delimiter of CSV input is ','\u001b[0m\n",
      "\u001b[34m[2021-10-21:20:06:08:INFO] Determined delimiter of CSV input is ','\u001b[0m\n",
      "\u001b[34m169.254.255.130 - - [21/Oct/2021:20:06:08 +0000] \"POST /invocations HTTP/1.1\" 200 696 \"-\" \"Go-http-client/1.1\"\u001b[0m\n",
      "\u001b[35m169.254.255.130 - - [21/Oct/2021:20:06:08 +0000] \"POST /invocations HTTP/1.1\" 200 696 \"-\" \"Go-http-client/1.1\"\u001b[0m\n",
      "\u001b[35m169.254.255.130 - - [21/Oct/2021:20:06:08 +0000] \"POST /invocations HTTP/1.1\" 200 696 \"-\" \"Go-http-client/1.1\"\u001b[0m\n",
      "\u001b[35m[2021-10-21:20:06:08:INFO] Determined delimiter of CSV input is ','\u001b[0m\n",
      "\u001b[35m[2021-10-21:20:06:08:INFO] Determined delimiter of CSV input is ','\u001b[0m\n",
      "\u001b[35m[2021-10-21:20:06:08:INFO] Determined delimiter of CSV input is ','\u001b[0m\n",
      "\u001b[35m169.254.255.130 - - [21/Oct/2021:20:06:08 +0000] \"POST /invocations HTTP/1.1\" 200 696 \"-\" \"Go-http-client/1.1\"\u001b[0m\n",
      "\u001b[34m169.254.255.130 - - [21/Oct/2021:20:06:08 +0000] \"POST /invocations HTTP/1.1\" 200 696 \"-\" \"Go-http-client/1.1\"\u001b[0m\n",
      "\u001b[34m169.254.255.130 - - [21/Oct/2021:20:06:08 +0000] \"POST /invocations HTTP/1.1\" 200 696 \"-\" \"Go-http-client/1.1\"\u001b[0m\n",
      "\u001b[34m169.254.255.130 - - [21/Oct/2021:20:06:08 +0000] \"POST /invocations HTTP/1.1\" 200 696 \"-\" \"Go-http-client/1.1\"\u001b[0m\n",
      "\u001b[34m[2021-10-21:20:06:08:INFO] Determined delimiter of CSV input is ','\u001b[0m\n",
      "\u001b[34m169.254.255.130 - - [21/Oct/2021:20:06:08 +0000] \"POST /invocations HTTP/1.1\" 200 696 \"-\" \"Go-http-client/1.1\"\u001b[0m\n",
      "\u001b[34m[2021-10-21:20:06:08:INFO] Determined delimiter of CSV input is ','\u001b[0m\n",
      "\u001b[34m169.254.255.130 - - [21/Oct/2021:20:06:08 +0000] \"POST /invocations HTTP/1.1\" 200 696 \"-\" \"Go-http-client/1.1\"\u001b[0m\n",
      "\u001b[34m[2021-10-21:20:06:08:INFO] Determined delimiter of CSV input is ','\u001b[0m\n",
      "\u001b[34m[2021-10-21:20:06:08:INFO] Determined delimiter of CSV input is ','\u001b[0m\n",
      "\u001b[34m[2021-10-21:20:06:08:INFO] Determined delimiter of CSV input is ','\u001b[0m\n",
      "\u001b[34m169.254.255.130 - - [21/Oct/2021:20:06:08 +0000] \"POST /invocations HTTP/1.1\" 200 696 \"-\" \"Go-http-client/1.1\"\u001b[0m\n",
      "\u001b[34m[2021-10-21:20:06:08:INFO] Determined delimiter of CSV input is ','\u001b[0m\n",
      "\u001b[34m[2021-10-21:20:06:08:INFO] Determined delimiter of CSV input is ','\u001b[0m\n",
      "\u001b[34m169.254.255.130 - - [21/Oct/2021:20:06:08 +0000] \"POST /invocations HTTP/1.1\" 200 696 \"-\" \"Go-http-client/1.1\"\u001b[0m\n",
      "\u001b[34m[2021-10-21:20:06:08:INFO] Determined delimiter of CSV input is ','\u001b[0m\n",
      "\u001b[34m169.254.255.130 - - [21/Oct/2021:20:06:08 +0000] \"POST /invocations HTTP/1.1\" 200 696 \"-\" \"Go-http-client/1.1\"\u001b[0m\n",
      "\u001b[35m169.254.255.130 - - [21/Oct/2021:20:06:08 +0000] \"POST /invocations HTTP/1.1\" 200 696 \"-\" \"Go-http-client/1.1\"\u001b[0m\n",
      "\u001b[35m169.254.255.130 - - [21/Oct/2021:20:06:08 +0000] \"POST /invocations HTTP/1.1\" 200 696 \"-\" \"Go-http-client/1.1\"\u001b[0m\n",
      "\u001b[35m169.254.255.130 - - [21/Oct/2021:20:06:08 +0000] \"POST /invocations HTTP/1.1\" 200 696 \"-\" \"Go-http-client/1.1\"\u001b[0m\n",
      "\u001b[35m[2021-10-21:20:06:08:INFO] Determined delimiter of CSV input is ','\u001b[0m\n",
      "\u001b[35m169.254.255.130 - - [21/Oct/2021:20:06:08 +0000] \"POST /invocations HTTP/1.1\" 200 696 \"-\" \"Go-http-client/1.1\"\u001b[0m\n",
      "\u001b[35m[2021-10-21:20:06:08:INFO] Determined delimiter of CSV input is ','\u001b[0m\n",
      "\u001b[35m169.254.255.130 - - [21/Oct/2021:20:06:08 +0000] \"POST /invocations HTTP/1.1\" 200 696 \"-\" \"Go-http-client/1.1\"\u001b[0m\n",
      "\u001b[35m[2021-10-21:20:06:08:INFO] Determined delimiter of CSV input is ','\u001b[0m\n",
      "\u001b[35m[2021-10-21:20:06:08:INFO] Determined delimiter of CSV input is ','\u001b[0m\n",
      "\u001b[35m[2021-10-21:20:06:08:INFO] Determined delimiter of CSV input is ','\u001b[0m\n",
      "\u001b[35m169.254.255.130 - - [21/Oct/2021:20:06:08 +0000] \"POST /invocations HTTP/1.1\" 200 696 \"-\" \"Go-http-client/1.1\"\u001b[0m\n",
      "\u001b[35m[2021-10-21:20:06:08:INFO] Determined delimiter of CSV input is ','\u001b[0m\n",
      "\u001b[35m[2021-10-21:20:06:08:INFO] Determined delimiter of CSV input is ','\u001b[0m\n",
      "\u001b[35m169.254.255.130 - - [21/Oct/2021:20:06:08 +0000] \"POST /invocations HTTP/1.1\" 200 696 \"-\" \"Go-http-client/1.1\"\u001b[0m\n",
      "\u001b[35m[2021-10-21:20:06:08:INFO] Determined delimiter of CSV input is ','\u001b[0m\n",
      "\u001b[35m169.254.255.130 - - [21/Oct/2021:20:06:08 +0000] \"POST /invocations HTTP/1.1\" 200 696 \"-\" \"Go-http-client/1.1\"\u001b[0m\n",
      "\u001b[34m[2021-10-21:20:06:08:INFO] Determined delimiter of CSV input is ','\u001b[0m\n",
      "\u001b[34m169.254.255.130 - - [21/Oct/2021:20:06:08 +0000] \"POST /invocations HTTP/1.1\" 200 696 \"-\" \"Go-http-client/1.1\"\u001b[0m\n",
      "\u001b[34m169.254.255.130 - - [21/Oct/2021:20:06:08 +0000] \"POST /invocations HTTP/1.1\" 200 696 \"-\" \"Go-http-client/1.1\"\u001b[0m\n",
      "\u001b[34m169.254.255.130 - - [21/Oct/2021:20:06:08 +0000] \"POST /invocations HTTP/1.1\" 200 696 \"-\" \"Go-http-client/1.1\"\u001b[0m\n",
      "\u001b[34m169.254.255.130 - - [21/Oct/2021:20:06:08 +0000] \"POST /invocations HTTP/1.1\" 200 696 \"-\" \"Go-http-client/1.1\"\u001b[0m\n",
      "\u001b[34m[2021-10-21:20:06:08:INFO] Determined delimiter of CSV input is ','\u001b[0m\n",
      "\u001b[34m[2021-10-21:20:06:08:INFO] Determined delimiter of CSV input is ','\u001b[0m\n",
      "\u001b[34m[2021-10-21:20:06:08:INFO] Determined delimiter of CSV input is ','\u001b[0m\n",
      "\u001b[34m[2021-10-21:20:06:08:INFO] Determined delimiter of CSV input is ','\u001b[0m\n",
      "\u001b[34m169.254.255.130 - - [21/Oct/2021:20:06:09 +0000] \"POST /invocations HTTP/1.1\" 200 696 \"-\" \"Go-http-client/1.1\"\u001b[0m\n",
      "\u001b[34m169.254.255.130 - - [21/Oct/2021:20:06:09 +0000] \"POST /invocations HTTP/1.1\" 200 696 \"-\" \"Go-http-client/1.1\"\u001b[0m\n",
      "\u001b[34m[2021-10-21:20:06:09:INFO] Determined delimiter of CSV input is ','\u001b[0m\n",
      "\u001b[34m[2021-10-21:20:06:09:INFO] Determined delimiter of CSV input is ','\u001b[0m\n",
      "\u001b[34m169.254.255.130 - - [21/Oct/2021:20:06:09 +0000] \"POST /invocations HTTP/1.1\" 200 696 \"-\" \"Go-http-client/1.1\"\u001b[0m\n",
      "\u001b[34m[2021-10-21:20:06:09:INFO] Determined delimiter of CSV input is ','\u001b[0m\n",
      "\u001b[34m169.254.255.130 - - [21/Oct/2021:20:06:09 +0000] \"POST /invocations HTTP/1.1\" 200 696 \"-\" \"Go-http-client/1.1\"\u001b[0m\n",
      "\u001b[34m[2021-10-21:20:06:09:INFO] Determined delimiter of CSV input is ','\u001b[0m\n",
      "\u001b[35m[2021-10-21:20:06:08:INFO] Determined delimiter of CSV input is ','\u001b[0m\n",
      "\u001b[35m169.254.255.130 - - [21/Oct/2021:20:06:08 +0000] \"POST /invocations HTTP/1.1\" 200 696 \"-\" \"Go-http-client/1.1\"\u001b[0m\n",
      "\u001b[35m169.254.255.130 - - [21/Oct/2021:20:06:08 +0000] \"POST /invocations HTTP/1.1\" 200 696 \"-\" \"Go-http-client/1.1\"\u001b[0m\n",
      "\u001b[35m169.254.255.130 - - [21/Oct/2021:20:06:08 +0000] \"POST /invocations HTTP/1.1\" 200 696 \"-\" \"Go-http-client/1.1\"\u001b[0m\n",
      "\u001b[35m169.254.255.130 - - [21/Oct/2021:20:06:08 +0000] \"POST /invocations HTTP/1.1\" 200 696 \"-\" \"Go-http-client/1.1\"\u001b[0m\n",
      "\u001b[35m[2021-10-21:20:06:08:INFO] Determined delimiter of CSV input is ','\u001b[0m\n",
      "\u001b[35m[2021-10-21:20:06:08:INFO] Determined delimiter of CSV input is ','\u001b[0m\n",
      "\u001b[35m[2021-10-21:20:06:08:INFO] Determined delimiter of CSV input is ','\u001b[0m\n",
      "\u001b[35m[2021-10-21:20:06:08:INFO] Determined delimiter of CSV input is ','\u001b[0m\n",
      "\u001b[35m169.254.255.130 - - [21/Oct/2021:20:06:09 +0000] \"POST /invocations HTTP/1.1\" 200 696 \"-\" \"Go-http-client/1.1\"\u001b[0m\n",
      "\u001b[35m169.254.255.130 - - [21/Oct/2021:20:06:09 +0000] \"POST /invocations HTTP/1.1\" 200 696 \"-\" \"Go-http-client/1.1\"\u001b[0m\n",
      "\u001b[35m[2021-10-21:20:06:09:INFO] Determined delimiter of CSV input is ','\u001b[0m\n",
      "\u001b[35m[2021-10-21:20:06:09:INFO] Determined delimiter of CSV input is ','\u001b[0m\n",
      "\u001b[35m169.254.255.130 - - [21/Oct/2021:20:06:09 +0000] \"POST /invocations HTTP/1.1\" 200 696 \"-\" \"Go-http-client/1.1\"\u001b[0m\n",
      "\u001b[35m[2021-10-21:20:06:09:INFO] Determined delimiter of CSV input is ','\u001b[0m\n",
      "\u001b[35m169.254.255.130 - - [21/Oct/2021:20:06:09 +0000] \"POST /invocations HTTP/1.1\" 200 696 \"-\" \"Go-http-client/1.1\"\u001b[0m\n",
      "\u001b[35m[2021-10-21:20:06:09:INFO] Determined delimiter of CSV input is ','\u001b[0m\n",
      "\u001b[34m169.254.255.130 - - [21/Oct/2021:20:06:09 +0000] \"POST /invocations HTTP/1.1\" 200 696 \"-\" \"Go-http-client/1.1\"\u001b[0m\n",
      "\u001b[34m169.254.255.130 - - [21/Oct/2021:20:06:09 +0000] \"POST /invocations HTTP/1.1\" 200 696 \"-\" \"Go-http-client/1.1\"\u001b[0m\n",
      "\u001b[34m169.254.255.130 - - [21/Oct/2021:20:06:09 +0000] \"POST /invocations HTTP/1.1\" 200 696 \"-\" \"Go-http-client/1.1\"\u001b[0m\n",
      "\u001b[34m[2021-10-21:20:06:09:INFO] Determined delimiter of CSV input is ','\u001b[0m\n",
      "\u001b[34m169.254.255.130 - - [21/Oct/2021:20:06:09 +0000] \"POST /invocations HTTP/1.1\" 200 696 \"-\" \"Go-http-client/1.1\"\u001b[0m\n",
      "\u001b[35m169.254.255.130 - - [21/Oct/2021:20:06:09 +0000] \"POST /invocations HTTP/1.1\" 200 696 \"-\" \"Go-http-client/1.1\"\u001b[0m\n",
      "\u001b[35m169.254.255.130 - - [21/Oct/2021:20:06:09 +0000] \"POST /invocations HTTP/1.1\" 200 696 \"-\" \"Go-http-client/1.1\"\u001b[0m\n",
      "\u001b[35m169.254.255.130 - - [21/Oct/2021:20:06:09 +0000] \"POST /invocations HTTP/1.1\" 200 696 \"-\" \"Go-http-client/1.1\"\u001b[0m\n",
      "\u001b[35m[2021-10-21:20:06:09:INFO] Determined delimiter of CSV input is ','\u001b[0m\n",
      "\u001b[35m169.254.255.130 - - [21/Oct/2021:20:06:09 +0000] \"POST /invocations HTTP/1.1\" 200 696 \"-\" \"Go-http-client/1.1\"\u001b[0m\n",
      "\u001b[34m[2021-10-21:20:06:09:INFO] Determined delimiter of CSV input is ','\u001b[0m\n",
      "\u001b[34m[2021-10-21:20:06:09:INFO] Determined delimiter of CSV input is ','\u001b[0m\n",
      "\u001b[34m[2021-10-21:20:06:09:INFO] Determined delimiter of CSV input is ','\u001b[0m\n",
      "\u001b[34m169.254.255.130 - - [21/Oct/2021:20:06:09 +0000] \"POST /invocations HTTP/1.1\" 200 696 \"-\" \"Go-http-client/1.1\"\u001b[0m\n",
      "\u001b[34m169.254.255.130 - - [21/Oct/2021:20:06:09 +0000] \"POST /invocations HTTP/1.1\" 200 696 \"-\" \"Go-http-client/1.1\"\u001b[0m\n",
      "\u001b[34m169.254.255.130 - - [21/Oct/2021:20:06:09 +0000] \"POST /invocations HTTP/1.1\" 200 696 \"-\" \"Go-http-client/1.1\"\u001b[0m\n",
      "\u001b[34m[2021-10-21:20:06:09:INFO] Determined delimiter of CSV input is ','\u001b[0m\n",
      "\u001b[34m[2021-10-21:20:06:09:INFO] Determined delimiter of CSV input is ','\u001b[0m\n",
      "\u001b[34m[2021-10-21:20:06:09:INFO] Determined delimiter of CSV input is ','\u001b[0m\n",
      "\u001b[34m169.254.255.130 - - [21/Oct/2021:20:06:09 +0000] \"POST /invocations HTTP/1.1\" 200 696 \"-\" \"Go-http-client/1.1\"\u001b[0m\n",
      "\u001b[34m[2021-10-21:20:06:09:INFO] Determined delimiter of CSV input is ','\u001b[0m\n",
      "\u001b[34m169.254.255.130 - - [21/Oct/2021:20:06:09 +0000] \"POST /invocations HTTP/1.1\" 200 696 \"-\" \"Go-http-client/1.1\"\u001b[0m\n",
      "\u001b[34m169.254.255.130 - - [21/Oct/2021:20:06:09 +0000] \"POST /invocations HTTP/1.1\" 200 696 \"-\" \"Go-http-client/1.1\"\u001b[0m\n",
      "\u001b[34m[2021-10-21:20:06:09:INFO] Determined delimiter of CSV input is ','\u001b[0m\n",
      "\u001b[34m169.254.255.130 - - [21/Oct/2021:20:06:09 +0000] \"POST /invocations HTTP/1.1\" 200 696 \"-\" \"Go-http-client/1.1\"\u001b[0m\n",
      "\u001b[34m[2021-10-21:20:06:09:INFO] Determined delimiter of CSV input is ','\u001b[0m\n",
      "\u001b[34m169.254.255.130 - - [21/Oct/2021:20:06:09 +0000] \"POST /invocations HTTP/1.1\" 200 696 \"-\" \"Go-http-client/1.1\"\u001b[0m\n",
      "\u001b[34m[2021-10-21:20:06:09:INFO] Determined delimiter of CSV input is ','\u001b[0m\n",
      "\u001b[34m[2021-10-21:20:06:10:INFO] Determined delimiter of CSV input is ','\u001b[0m\n",
      "\u001b[34m169.254.255.130 - - [21/Oct/2021:20:06:10 +0000] \"POST /invocations HTTP/1.1\" 200 696 \"-\" \"Go-http-client/1.1\"\u001b[0m\n",
      "\u001b[34m169.254.255.130 - - [21/Oct/2021:20:06:10 +0000] \"POST /invocations HTTP/1.1\" 200 696 \"-\" \"Go-http-client/1.1\"\u001b[0m\n",
      "\u001b[34m169.254.255.130 - - [21/Oct/2021:20:06:10 +0000] \"POST /invocations HTTP/1.1\" 200 696 \"-\" \"Go-http-client/1.1\"\u001b[0m\n",
      "\u001b[34m[2021-10-21:20:06:10:INFO] Determined delimiter of CSV input is ','\u001b[0m\n",
      "\u001b[34m[2021-10-21:20:06:10:INFO] Determined delimiter of CSV input is ','\u001b[0m\n",
      "\u001b[34m[2021-10-21:20:06:10:INFO] Determined delimiter of CSV input is ','\u001b[0m\n",
      "\u001b[34m169.254.255.130 - - [21/Oct/2021:20:06:10 +0000] \"POST /invocations HTTP/1.1\" 200 696 \"-\" \"Go-http-client/1.1\"\u001b[0m\n",
      "\u001b[34m[2021-10-21:20:06:10:INFO] Determined delimiter of CSV input is ','\u001b[0m\n",
      "\u001b[35m[2021-10-21:20:06:09:INFO] Determined delimiter of CSV input is ','\u001b[0m\n",
      "\u001b[35m[2021-10-21:20:06:09:INFO] Determined delimiter of CSV input is ','\u001b[0m\n",
      "\u001b[35m[2021-10-21:20:06:09:INFO] Determined delimiter of CSV input is ','\u001b[0m\n",
      "\u001b[35m169.254.255.130 - - [21/Oct/2021:20:06:09 +0000] \"POST /invocations HTTP/1.1\" 200 696 \"-\" \"Go-http-client/1.1\"\u001b[0m\n",
      "\u001b[35m169.254.255.130 - - [21/Oct/2021:20:06:09 +0000] \"POST /invocations HTTP/1.1\" 200 696 \"-\" \"Go-http-client/1.1\"\u001b[0m\n",
      "\u001b[35m169.254.255.130 - - [21/Oct/2021:20:06:09 +0000] \"POST /invocations HTTP/1.1\" 200 696 \"-\" \"Go-http-client/1.1\"\u001b[0m\n",
      "\u001b[35m[2021-10-21:20:06:09:INFO] Determined delimiter of CSV input is ','\u001b[0m\n",
      "\u001b[35m[2021-10-21:20:06:09:INFO] Determined delimiter of CSV input is ','\u001b[0m\n",
      "\u001b[35m[2021-10-21:20:06:09:INFO] Determined delimiter of CSV input is ','\u001b[0m\n",
      "\u001b[35m169.254.255.130 - - [21/Oct/2021:20:06:09 +0000] \"POST /invocations HTTP/1.1\" 200 696 \"-\" \"Go-http-client/1.1\"\u001b[0m\n",
      "\u001b[35m[2021-10-21:20:06:09:INFO] Determined delimiter of CSV input is ','\u001b[0m\n",
      "\u001b[35m169.254.255.130 - - [21/Oct/2021:20:06:09 +0000] \"POST /invocations HTTP/1.1\" 200 696 \"-\" \"Go-http-client/1.1\"\u001b[0m\n",
      "\u001b[35m169.254.255.130 - - [21/Oct/2021:20:06:09 +0000] \"POST /invocations HTTP/1.1\" 200 696 \"-\" \"Go-http-client/1.1\"\u001b[0m\n",
      "\u001b[35m[2021-10-21:20:06:09:INFO] Determined delimiter of CSV input is ','\u001b[0m\n",
      "\u001b[35m169.254.255.130 - - [21/Oct/2021:20:06:09 +0000] \"POST /invocations HTTP/1.1\" 200 696 \"-\" \"Go-http-client/1.1\"\u001b[0m\n",
      "\u001b[35m[2021-10-21:20:06:09:INFO] Determined delimiter of CSV input is ','\u001b[0m\n",
      "\u001b[35m169.254.255.130 - - [21/Oct/2021:20:06:09 +0000] \"POST /invocations HTTP/1.1\" 200 696 \"-\" \"Go-http-client/1.1\"\u001b[0m\n",
      "\u001b[35m[2021-10-21:20:06:09:INFO] Determined delimiter of CSV input is ','\u001b[0m\n",
      "\u001b[35m[2021-10-21:20:06:10:INFO] Determined delimiter of CSV input is ','\u001b[0m\n",
      "\u001b[35m169.254.255.130 - - [21/Oct/2021:20:06:10 +0000] \"POST /invocations HTTP/1.1\" 200 696 \"-\" \"Go-http-client/1.1\"\u001b[0m\n",
      "\u001b[35m169.254.255.130 - - [21/Oct/2021:20:06:10 +0000] \"POST /invocations HTTP/1.1\" 200 696 \"-\" \"Go-http-client/1.1\"\u001b[0m\n",
      "\u001b[35m169.254.255.130 - - [21/Oct/2021:20:06:10 +0000] \"POST /invocations HTTP/1.1\" 200 696 \"-\" \"Go-http-client/1.1\"\u001b[0m\n",
      "\u001b[35m[2021-10-21:20:06:10:INFO] Determined delimiter of CSV input is ','\u001b[0m\n",
      "\u001b[35m[2021-10-21:20:06:10:INFO] Determined delimiter of CSV input is ','\u001b[0m\n",
      "\u001b[35m[2021-10-21:20:06:10:INFO] Determined delimiter of CSV input is ','\u001b[0m\n",
      "\u001b[35m169.254.255.130 - - [21/Oct/2021:20:06:10 +0000] \"POST /invocations HTTP/1.1\" 200 696 \"-\" \"Go-http-client/1.1\"\u001b[0m\n",
      "\u001b[35m[2021-10-21:20:06:10:INFO] Determined delimiter of CSV input is ','\u001b[0m\n",
      "\u001b[34m169.254.255.130 - - [21/Oct/2021:20:06:10 +0000] \"POST /invocations HTTP/1.1\" 200 696 \"-\" \"Go-http-client/1.1\"\u001b[0m\n",
      "\u001b[34m[2021-10-21:20:06:10:INFO] Determined delimiter of CSV input is ','\u001b[0m\n",
      "\u001b[34m169.254.255.130 - - [21/Oct/2021:20:06:10 +0000] \"POST /invocations HTTP/1.1\" 200 696 \"-\" \"Go-http-client/1.1\"\u001b[0m\n",
      "\u001b[34m[2021-10-21:20:06:10:INFO] Determined delimiter of CSV input is ','\u001b[0m\n",
      "\u001b[34m169.254.255.130 - - [21/Oct/2021:20:06:10 +0000] \"POST /invocations HTTP/1.1\" 200 696 \"-\" \"Go-http-client/1.1\"\u001b[0m\n",
      "\u001b[34m169.254.255.130 - - [21/Oct/2021:20:06:10 +0000] \"POST /invocations HTTP/1.1\" 200 696 \"-\" \"Go-http-client/1.1\"\u001b[0m\n",
      "\u001b[34m[2021-10-21:20:06:10:INFO] Determined delimiter of CSV input is ','\u001b[0m\n",
      "\u001b[34m[2021-10-21:20:06:10:INFO] Determined delimiter of CSV input is ','\u001b[0m\n",
      "\u001b[34m169.254.255.130 - - [21/Oct/2021:20:06:10 +0000] \"POST /invocations HTTP/1.1\" 200 696 \"-\" \"Go-http-client/1.1\"\u001b[0m\n",
      "\u001b[34m169.254.255.130 - - [21/Oct/2021:20:06:10 +0000] \"POST /invocations HTTP/1.1\" 200 696 \"-\" \"Go-http-client/1.1\"\u001b[0m\n",
      "\u001b[34m[2021-10-21:20:06:10:INFO] Determined delimiter of CSV input is ','\u001b[0m\n",
      "\u001b[34m169.254.255.130 - - [21/Oct/2021:20:06:10 +0000] \"POST /invocations HTTP/1.1\" 200 696 \"-\" \"Go-http-client/1.1\"\u001b[0m\n",
      "\u001b[34m[2021-10-21:20:06:10:INFO] Determined delimiter of CSV input is ','\u001b[0m\n",
      "\u001b[34m[2021-10-21:20:06:10:INFO] Determined delimiter of CSV input is ','\u001b[0m\n",
      "\u001b[34m169.254.255.130 - - [21/Oct/2021:20:06:10 +0000] \"POST /invocations HTTP/1.1\" 200 696 \"-\" \"Go-http-client/1.1\"\u001b[0m\n",
      "\u001b[34m[2021-10-21:20:06:10:INFO] Determined delimiter of CSV input is ','\u001b[0m\n",
      "\u001b[34m169.254.255.130 - - [21/Oct/2021:20:06:10 +0000] \"POST /invocations HTTP/1.1\" 200 696 \"-\" \"Go-http-client/1.1\"\u001b[0m\n",
      "\u001b[34m169.254.255.130 - - [21/Oct/2021:20:06:10 +0000] \"POST /invocations HTTP/1.1\" 200 696 \"-\" \"Go-http-client/1.1\"\u001b[0m\n",
      "\u001b[34m[2021-10-21:20:06:10:INFO] Determined delimiter of CSV input is ','\u001b[0m\n",
      "\u001b[34m[2021-10-21:20:06:10:INFO] Determined delimiter of CSV input is ','\u001b[0m\n",
      "\u001b[34m169.254.255.130 - - [21/Oct/2021:20:06:10 +0000] \"POST /invocations HTTP/1.1\" 200 696 \"-\" \"Go-http-client/1.1\"\u001b[0m\n",
      "\u001b[34m169.254.255.130 - - [21/Oct/2021:20:06:10 +0000] \"POST /invocations HTTP/1.1\" 200 696 \"-\" \"Go-http-client/1.1\"\u001b[0m\n",
      "\u001b[34m[2021-10-21:20:06:11:INFO] Determined delimiter of CSV input is ','\u001b[0m\n",
      "\u001b[34m[2021-10-21:20:06:11:INFO] Determined delimiter of CSV input is ','\u001b[0m\n",
      "\u001b[34m169.254.255.130 - - [21/Oct/2021:20:06:11 +0000] \"POST /invocations HTTP/1.1\" 200 696 \"-\" \"Go-http-client/1.1\"\u001b[0m\n",
      "\u001b[34m169.254.255.130 - - [21/Oct/2021:20:06:11 +0000] \"POST /invocations HTTP/1.1\" 200 696 \"-\" \"Go-http-client/1.1\"\u001b[0m\n",
      "\u001b[34m[2021-10-21:20:06:11:INFO] Determined delimiter of CSV input is ','\u001b[0m\n",
      "\u001b[35m169.254.255.130 - - [21/Oct/2021:20:06:10 +0000] \"POST /invocations HTTP/1.1\" 200 696 \"-\" \"Go-http-client/1.1\"\u001b[0m\n",
      "\u001b[35m[2021-10-21:20:06:10:INFO] Determined delimiter of CSV input is ','\u001b[0m\n",
      "\u001b[35m169.254.255.130 - - [21/Oct/2021:20:06:10 +0000] \"POST /invocations HTTP/1.1\" 200 696 \"-\" \"Go-http-client/1.1\"\u001b[0m\n",
      "\u001b[35m[2021-10-21:20:06:10:INFO] Determined delimiter of CSV input is ','\u001b[0m\n",
      "\u001b[35m169.254.255.130 - - [21/Oct/2021:20:06:10 +0000] \"POST /invocations HTTP/1.1\" 200 696 \"-\" \"Go-http-client/1.1\"\u001b[0m\n",
      "\u001b[35m169.254.255.130 - - [21/Oct/2021:20:06:10 +0000] \"POST /invocations HTTP/1.1\" 200 696 \"-\" \"Go-http-client/1.1\"\u001b[0m\n",
      "\u001b[35m[2021-10-21:20:06:10:INFO] Determined delimiter of CSV input is ','\u001b[0m\n",
      "\u001b[35m[2021-10-21:20:06:10:INFO] Determined delimiter of CSV input is ','\u001b[0m\n",
      "\u001b[35m169.254.255.130 - - [21/Oct/2021:20:06:10 +0000] \"POST /invocations HTTP/1.1\" 200 696 \"-\" \"Go-http-client/1.1\"\u001b[0m\n",
      "\u001b[35m169.254.255.130 - - [21/Oct/2021:20:06:10 +0000] \"POST /invocations HTTP/1.1\" 200 696 \"-\" \"Go-http-client/1.1\"\u001b[0m\n",
      "\u001b[35m[2021-10-21:20:06:10:INFO] Determined delimiter of CSV input is ','\u001b[0m\n",
      "\u001b[35m169.254.255.130 - - [21/Oct/2021:20:06:10 +0000] \"POST /invocations HTTP/1.1\" 200 696 \"-\" \"Go-http-client/1.1\"\u001b[0m\n",
      "\u001b[35m[2021-10-21:20:06:10:INFO] Determined delimiter of CSV input is ','\u001b[0m\n",
      "\u001b[35m[2021-10-21:20:06:10:INFO] Determined delimiter of CSV input is ','\u001b[0m\n",
      "\u001b[35m169.254.255.130 - - [21/Oct/2021:20:06:10 +0000] \"POST /invocations HTTP/1.1\" 200 696 \"-\" \"Go-http-client/1.1\"\u001b[0m\n",
      "\u001b[35m[2021-10-21:20:06:10:INFO] Determined delimiter of CSV input is ','\u001b[0m\n",
      "\u001b[35m169.254.255.130 - - [21/Oct/2021:20:06:10 +0000] \"POST /invocations HTTP/1.1\" 200 696 \"-\" \"Go-http-client/1.1\"\u001b[0m\n",
      "\u001b[35m169.254.255.130 - - [21/Oct/2021:20:06:10 +0000] \"POST /invocations HTTP/1.1\" 200 696 \"-\" \"Go-http-client/1.1\"\u001b[0m\n",
      "\u001b[35m[2021-10-21:20:06:10:INFO] Determined delimiter of CSV input is ','\u001b[0m\n",
      "\u001b[35m[2021-10-21:20:06:10:INFO] Determined delimiter of CSV input is ','\u001b[0m\n",
      "\u001b[35m169.254.255.130 - - [21/Oct/2021:20:06:10 +0000] \"POST /invocations HTTP/1.1\" 200 696 \"-\" \"Go-http-client/1.1\"\u001b[0m\n",
      "\u001b[35m169.254.255.130 - - [21/Oct/2021:20:06:10 +0000] \"POST /invocations HTTP/1.1\" 200 696 \"-\" \"Go-http-client/1.1\"\u001b[0m\n",
      "\u001b[35m[2021-10-21:20:06:11:INFO] Determined delimiter of CSV input is ','\u001b[0m\n",
      "\u001b[35m[2021-10-21:20:06:11:INFO] Determined delimiter of CSV input is ','\u001b[0m\n",
      "\u001b[35m169.254.255.130 - - [21/Oct/2021:20:06:11 +0000] \"POST /invocations HTTP/1.1\" 200 696 \"-\" \"Go-http-client/1.1\"\u001b[0m\n",
      "\u001b[35m169.254.255.130 - - [21/Oct/2021:20:06:11 +0000] \"POST /invocations HTTP/1.1\" 200 696 \"-\" \"Go-http-client/1.1\"\u001b[0m\n",
      "\u001b[35m[2021-10-21:20:06:11:INFO] Determined delimiter of CSV input is ','\u001b[0m\n",
      "\u001b[34m169.254.255.130 - - [21/Oct/2021:20:06:11 +0000] \"POST /invocations HTTP/1.1\" 200 696 \"-\" \"Go-http-client/1.1\"\u001b[0m\n",
      "\u001b[34m[2021-10-21:20:06:11:INFO] Determined delimiter of CSV input is ','\u001b[0m\n",
      "\u001b[34m[2021-10-21:20:06:11:INFO] Determined delimiter of CSV input is ','\u001b[0m\n",
      "\u001b[34m169.254.255.130 - - [21/Oct/2021:20:06:11 +0000] \"POST /invocations HTTP/1.1\" 200 696 \"-\" \"Go-http-client/1.1\"\u001b[0m\n",
      "\u001b[34m[2021-10-21:20:06:11:INFO] Determined delimiter of CSV input is ','\u001b[0m\n",
      "\u001b[35m169.254.255.130 - - [21/Oct/2021:20:06:11 +0000] \"POST /invocations HTTP/1.1\" 200 696 \"-\" \"Go-http-client/1.1\"\u001b[0m\n",
      "\u001b[35m[2021-10-21:20:06:11:INFO] Determined delimiter of CSV input is ','\u001b[0m\n",
      "\u001b[35m[2021-10-21:20:06:11:INFO] Determined delimiter of CSV input is ','\u001b[0m\n",
      "\u001b[35m169.254.255.130 - - [21/Oct/2021:20:06:11 +0000] \"POST /invocations HTTP/1.1\" 200 696 \"-\" \"Go-http-client/1.1\"\u001b[0m\n",
      "\u001b[35m[2021-10-21:20:06:11:INFO] Determined delimiter of CSV input is ','\u001b[0m\n",
      "\u001b[34m169.254.255.130 - - [21/Oct/2021:20:06:11 +0000] \"POST /invocations HTTP/1.1\" 200 696 \"-\" \"Go-http-client/1.1\"\u001b[0m\n",
      "\u001b[34m169.254.255.130 - - [21/Oct/2021:20:06:11 +0000] \"POST /invocations HTTP/1.1\" 200 696 \"-\" \"Go-http-client/1.1\"\u001b[0m\n",
      "\u001b[34m[2021-10-21:20:06:11:INFO] Determined delimiter of CSV input is ','\u001b[0m\n",
      "\u001b[34m169.254.255.130 - - [21/Oct/2021:20:06:11 +0000] \"POST /invocations HTTP/1.1\" 200 696 \"-\" \"Go-http-client/1.1\"\u001b[0m\n",
      "\u001b[34m169.254.255.130 - - [21/Oct/2021:20:06:11 +0000] \"POST /invocations HTTP/1.1\" 200 696 \"-\" \"Go-http-client/1.1\"\u001b[0m\n",
      "\u001b[34m[2021-10-21:20:06:11:INFO] Determined delimiter of CSV input is ','\u001b[0m\n",
      "\u001b[34m[2021-10-21:20:06:11:INFO] Determined delimiter of CSV input is ','\u001b[0m\n",
      "\u001b[34m[2021-10-21:20:06:11:INFO] Determined delimiter of CSV input is ','\u001b[0m\n",
      "\u001b[34m169.254.255.130 - - [21/Oct/2021:20:06:11 +0000] \"POST /invocations HTTP/1.1\" 200 696 \"-\" \"Go-http-client/1.1\"\u001b[0m\n",
      "\u001b[34m[2021-10-21:20:06:11:INFO] Determined delimiter of CSV input is ','\u001b[0m\n",
      "\u001b[34m169.254.255.130 - - [21/Oct/2021:20:06:11 +0000] \"POST /invocations HTTP/1.1\" 200 696 \"-\" \"Go-http-client/1.1\"\u001b[0m\n",
      "\u001b[34m169.254.255.130 - - [21/Oct/2021:20:06:11 +0000] \"POST /invocations HTTP/1.1\" 200 696 \"-\" \"Go-http-client/1.1\"\u001b[0m\n",
      "\u001b[34m[2021-10-21:20:06:11:INFO] Determined delimiter of CSV input is ','\u001b[0m\n",
      "\u001b[34m[2021-10-21:20:06:11:INFO] Determined delimiter of CSV input is ','\u001b[0m\n",
      "\u001b[34m169.254.255.130 - - [21/Oct/2021:20:06:11 +0000] \"POST /invocations HTTP/1.1\" 200 696 \"-\" \"Go-http-client/1.1\"\u001b[0m\n",
      "\u001b[34m[2021-10-21:20:06:11:INFO] Determined delimiter of CSV input is ','\u001b[0m\n",
      "\u001b[34m169.254.255.130 - - [21/Oct/2021:20:06:11 +0000] \"POST /invocations HTTP/1.1\" 200 696 \"-\" \"Go-http-client/1.1\"\u001b[0m\n",
      "\u001b[34m169.254.255.130 - - [21/Oct/2021:20:06:11 +0000] \"POST /invocations HTTP/1.1\" 200 696 \"-\" \"Go-http-client/1.1\"\u001b[0m\n",
      "\u001b[35m169.254.255.130 - - [21/Oct/2021:20:06:11 +0000] \"POST /invocations HTTP/1.1\" 200 696 \"-\" \"Go-http-client/1.1\"\u001b[0m\n",
      "\u001b[35m169.254.255.130 - - [21/Oct/2021:20:06:11 +0000] \"POST /invocations HTTP/1.1\" 200 696 \"-\" \"Go-http-client/1.1\"\u001b[0m\n",
      "\u001b[35m[2021-10-21:20:06:11:INFO] Determined delimiter of CSV input is ','\u001b[0m\n",
      "\u001b[35m169.254.255.130 - - [21/Oct/2021:20:06:11 +0000] \"POST /invocations HTTP/1.1\" 200 696 \"-\" \"Go-http-client/1.1\"\u001b[0m\n",
      "\u001b[35m169.254.255.130 - - [21/Oct/2021:20:06:11 +0000] \"POST /invocations HTTP/1.1\" 200 696 \"-\" \"Go-http-client/1.1\"\u001b[0m\n",
      "\u001b[35m[2021-10-21:20:06:11:INFO] Determined delimiter of CSV input is ','\u001b[0m\n",
      "\u001b[35m[2021-10-21:20:06:11:INFO] Determined delimiter of CSV input is ','\u001b[0m\n",
      "\u001b[35m[2021-10-21:20:06:11:INFO] Determined delimiter of CSV input is ','\u001b[0m\n",
      "\u001b[35m169.254.255.130 - - [21/Oct/2021:20:06:11 +0000] \"POST /invocations HTTP/1.1\" 200 696 \"-\" \"Go-http-client/1.1\"\u001b[0m\n",
      "\u001b[35m[2021-10-21:20:06:11:INFO] Determined delimiter of CSV input is ','\u001b[0m\n",
      "\u001b[35m169.254.255.130 - - [21/Oct/2021:20:06:11 +0000] \"POST /invocations HTTP/1.1\" 200 696 \"-\" \"Go-http-client/1.1\"\u001b[0m\n",
      "\u001b[35m169.254.255.130 - - [21/Oct/2021:20:06:11 +0000] \"POST /invocations HTTP/1.1\" 200 696 \"-\" \"Go-http-client/1.1\"\u001b[0m\n",
      "\u001b[35m[2021-10-21:20:06:11:INFO] Determined delimiter of CSV input is ','\u001b[0m\n",
      "\u001b[35m[2021-10-21:20:06:11:INFO] Determined delimiter of CSV input is ','\u001b[0m\n",
      "\u001b[35m169.254.255.130 - - [21/Oct/2021:20:06:11 +0000] \"POST /invocations HTTP/1.1\" 200 696 \"-\" \"Go-http-client/1.1\"\u001b[0m\n",
      "\u001b[35m[2021-10-21:20:06:11:INFO] Determined delimiter of CSV input is ','\u001b[0m\n",
      "\u001b[35m169.254.255.130 - - [21/Oct/2021:20:06:11 +0000] \"POST /invocations HTTP/1.1\" 200 696 \"-\" \"Go-http-client/1.1\"\u001b[0m\n",
      "\u001b[35m169.254.255.130 - - [21/Oct/2021:20:06:11 +0000] \"POST /invocations HTTP/1.1\" 200 696 \"-\" \"Go-http-client/1.1\"\u001b[0m\n",
      "\u001b[34m[2021-10-21:20:06:11:INFO] Determined delimiter of CSV input is ','\u001b[0m\n",
      "\u001b[34m[2021-10-21:20:06:11:INFO] Determined delimiter of CSV input is ','\u001b[0m\n",
      "\u001b[34m169.254.255.130 - - [21/Oct/2021:20:06:11 +0000] \"POST /invocations HTTP/1.1\" 200 696 \"-\" \"Go-http-client/1.1\"\u001b[0m\n",
      "\u001b[34m169.254.255.130 - - [21/Oct/2021:20:06:11 +0000] \"POST /invocations HTTP/1.1\" 200 696 \"-\" \"Go-http-client/1.1\"\u001b[0m\n",
      "\u001b[34m[2021-10-21:20:06:12:INFO] Determined delimiter of CSV input is ','\u001b[0m\n",
      "\u001b[34m[2021-10-21:20:06:12:INFO] Determined delimiter of CSV input is ','\u001b[0m\n",
      "\u001b[34m169.254.255.130 - - [21/Oct/2021:20:06:12 +0000] \"POST /invocations HTTP/1.1\" 200 696 \"-\" \"Go-http-client/1.1\"\u001b[0m\n",
      "\u001b[34m169.254.255.130 - - [21/Oct/2021:20:06:12 +0000] \"POST /invocations HTTP/1.1\" 200 696 \"-\" \"Go-http-client/1.1\"\u001b[0m\n",
      "\u001b[34m[2021-10-21:20:06:12:INFO] Determined delimiter of CSV input is ','\u001b[0m\n",
      "\u001b[34m169.254.255.130 - - [21/Oct/2021:20:06:12 +0000] \"POST /invocations HTTP/1.1\" 200 696 \"-\" \"Go-http-client/1.1\"\u001b[0m\n",
      "\u001b[34m[2021-10-21:20:06:12:INFO] Determined delimiter of CSV input is ','\u001b[0m\n",
      "\u001b[34m169.254.255.130 - - [21/Oct/2021:20:06:12 +0000] \"POST /invocations HTTP/1.1\" 200 696 \"-\" \"Go-http-client/1.1\"\u001b[0m\n",
      "\u001b[34m[2021-10-21:20:06:12:INFO] Determined delimiter of CSV input is ','\u001b[0m\n",
      "\u001b[34m[2021-10-21:20:06:12:INFO] Determined delimiter of CSV input is ','\u001b[0m\n",
      "\u001b[35m[2021-10-21:20:06:11:INFO] Determined delimiter of CSV input is ','\u001b[0m\n",
      "\u001b[35m[2021-10-21:20:06:11:INFO] Determined delimiter of CSV input is ','\u001b[0m\n",
      "\u001b[35m169.254.255.130 - - [21/Oct/2021:20:06:11 +0000] \"POST /invocations HTTP/1.1\" 200 696 \"-\" \"Go-http-client/1.1\"\u001b[0m\n",
      "\u001b[35m169.254.255.130 - - [21/Oct/2021:20:06:11 +0000] \"POST /invocations HTTP/1.1\" 200 696 \"-\" \"Go-http-client/1.1\"\u001b[0m\n",
      "\u001b[35m[2021-10-21:20:06:12:INFO] Determined delimiter of CSV input is ','\u001b[0m\n",
      "\u001b[35m[2021-10-21:20:06:12:INFO] Determined delimiter of CSV input is ','\u001b[0m\n",
      "\u001b[35m169.254.255.130 - - [21/Oct/2021:20:06:12 +0000] \"POST /invocations HTTP/1.1\" 200 696 \"-\" \"Go-http-client/1.1\"\u001b[0m\n",
      "\u001b[35m169.254.255.130 - - [21/Oct/2021:20:06:12 +0000] \"POST /invocations HTTP/1.1\" 200 696 \"-\" \"Go-http-client/1.1\"\u001b[0m\n",
      "\u001b[35m[2021-10-21:20:06:12:INFO] Determined delimiter of CSV input is ','\u001b[0m\n",
      "\u001b[35m169.254.255.130 - - [21/Oct/2021:20:06:12 +0000] \"POST /invocations HTTP/1.1\" 200 696 \"-\" \"Go-http-client/1.1\"\u001b[0m\n",
      "\u001b[35m[2021-10-21:20:06:12:INFO] Determined delimiter of CSV input is ','\u001b[0m\n",
      "\u001b[35m169.254.255.130 - - [21/Oct/2021:20:06:12 +0000] \"POST /invocations HTTP/1.1\" 200 696 \"-\" \"Go-http-client/1.1\"\u001b[0m\n",
      "\u001b[35m[2021-10-21:20:06:12:INFO] Determined delimiter of CSV input is ','\u001b[0m\n",
      "\u001b[35m[2021-10-21:20:06:12:INFO] Determined delimiter of CSV input is ','\u001b[0m\n",
      "\u001b[34m169.254.255.130 - - [21/Oct/2021:20:06:12 +0000] \"POST /invocations HTTP/1.1\" 200 696 \"-\" \"Go-http-client/1.1\"\u001b[0m\n",
      "\u001b[34m169.254.255.130 - - [21/Oct/2021:20:06:12 +0000] \"POST /invocations HTTP/1.1\" 200 696 \"-\" \"Go-http-client/1.1\"\u001b[0m\n",
      "\u001b[34m[2021-10-21:20:06:12:INFO] Determined delimiter of CSV input is ','\u001b[0m\n",
      "\u001b[34m169.254.255.130 - - [21/Oct/2021:20:06:12 +0000] \"POST /invocations HTTP/1.1\" 200 696 \"-\" \"Go-http-client/1.1\"\u001b[0m\n",
      "\u001b[34m[2021-10-21:20:06:12:INFO] Determined delimiter of CSV input is ','\u001b[0m\n",
      "\u001b[34m169.254.255.130 - - [21/Oct/2021:20:06:12 +0000] \"POST /invocations HTTP/1.1\" 200 696 \"-\" \"Go-http-client/1.1\"\u001b[0m\n",
      "\u001b[34m[2021-10-21:20:06:12:INFO] Determined delimiter of CSV input is ','\u001b[0m\n",
      "\u001b[34m[2021-10-21:20:06:12:INFO] Determined delimiter of CSV input is ','\u001b[0m\n",
      "\u001b[35m169.254.255.130 - - [21/Oct/2021:20:06:12 +0000] \"POST /invocations HTTP/1.1\" 200 696 \"-\" \"Go-http-client/1.1\"\u001b[0m\n",
      "\u001b[35m169.254.255.130 - - [21/Oct/2021:20:06:12 +0000] \"POST /invocations HTTP/1.1\" 200 696 \"-\" \"Go-http-client/1.1\"\u001b[0m\n",
      "\u001b[35m[2021-10-21:20:06:12:INFO] Determined delimiter of CSV input is ','\u001b[0m\n",
      "\u001b[35m169.254.255.130 - - [21/Oct/2021:20:06:12 +0000] \"POST /invocations HTTP/1.1\" 200 696 \"-\" \"Go-http-client/1.1\"\u001b[0m\n",
      "\u001b[35m[2021-10-21:20:06:12:INFO] Determined delimiter of CSV input is ','\u001b[0m\n",
      "\u001b[35m169.254.255.130 - - [21/Oct/2021:20:06:12 +0000] \"POST /invocations HTTP/1.1\" 200 696 \"-\" \"Go-http-client/1.1\"\u001b[0m\n",
      "\u001b[35m[2021-10-21:20:06:12:INFO] Determined delimiter of CSV input is ','\u001b[0m\n",
      "\u001b[35m[2021-10-21:20:06:12:INFO] Determined delimiter of CSV input is ','\u001b[0m\n",
      "\u001b[34m169.254.255.130 - - [21/Oct/2021:20:06:12 +0000] \"POST /invocations HTTP/1.1\" 200 696 \"-\" \"Go-http-client/1.1\"\u001b[0m\n",
      "\u001b[34m169.254.255.130 - - [21/Oct/2021:20:06:12 +0000] \"POST /invocations HTTP/1.1\" 200 696 \"-\" \"Go-http-client/1.1\"\u001b[0m\n",
      "\u001b[34m[2021-10-21:20:06:12:INFO] Determined delimiter of CSV input is ','\u001b[0m\n",
      "\u001b[34m[2021-10-21:20:06:12:INFO] Determined delimiter of CSV input is ','\u001b[0m\n",
      "\u001b[34m169.254.255.130 - - [21/Oct/2021:20:06:12 +0000] \"POST /invocations HTTP/1.1\" 200 696 \"-\" \"Go-http-client/1.1\"\u001b[0m\n",
      "\u001b[34m169.254.255.130 - - [21/Oct/2021:20:06:12 +0000] \"POST /invocations HTTP/1.1\" 200 696 \"-\" \"Go-http-client/1.1\"\u001b[0m\n",
      "\u001b[34m[2021-10-21:20:06:12:INFO] Determined delimiter of CSV input is ','\u001b[0m\n",
      "\u001b[34m[2021-10-21:20:06:12:INFO] Determined delimiter of CSV input is ','\u001b[0m\n",
      "\u001b[34m169.254.255.130 - - [21/Oct/2021:20:06:12 +0000] \"POST /invocations HTTP/1.1\" 200 696 \"-\" \"Go-http-client/1.1\"\u001b[0m\n",
      "\u001b[34m[2021-10-21:20:06:12:INFO] Determined delimiter of CSV input is ','\u001b[0m\n",
      "\u001b[34m169.254.255.130 - - [21/Oct/2021:20:06:12 +0000] \"POST /invocations HTTP/1.1\" 200 696 \"-\" \"Go-http-client/1.1\"\u001b[0m\n",
      "\u001b[34m169.254.255.130 - - [21/Oct/2021:20:06:12 +0000] \"POST /invocations HTTP/1.1\" 200 696 \"-\" \"Go-http-client/1.1\"\u001b[0m\n",
      "\u001b[34m169.254.255.130 - - [21/Oct/2021:20:06:13 +0000] \"POST /invocations HTTP/1.1\" 200 696 \"-\" \"Go-http-client/1.1\"\u001b[0m\n",
      "\u001b[34m[2021-10-21:20:06:13:INFO] Determined delimiter of CSV input is ','\u001b[0m\n",
      "\u001b[34m[2021-10-21:20:06:13:INFO] Determined delimiter of CSV input is ','\u001b[0m\n",
      "\u001b[34m[2021-10-21:20:06:13:INFO] Determined delimiter of CSV input is ','\u001b[0m\n",
      "\u001b[34m169.254.255.130 - - [21/Oct/2021:20:06:13 +0000] \"POST /invocations HTTP/1.1\" 200 696 \"-\" \"Go-http-client/1.1\"\u001b[0m\n",
      "\u001b[34m169.254.255.130 - - [21/Oct/2021:20:06:13 +0000] \"POST /invocations HTTP/1.1\" 200 696 \"-\" \"Go-http-client/1.1\"\u001b[0m\n",
      "\u001b[34m169.254.255.130 - - [21/Oct/2021:20:06:13 +0000] \"POST /invocations HTTP/1.1\" 200 696 \"-\" \"Go-http-client/1.1\"\u001b[0m\n",
      "\u001b[34m[2021-10-21:20:06:13:INFO] Determined delimiter of CSV input is ','\u001b[0m\n",
      "\u001b[34m[2021-10-21:20:06:13:INFO] Determined delimiter of CSV input is ','\u001b[0m\n",
      "\u001b[34m169.254.255.130 - - [21/Oct/2021:20:06:13 +0000] \"POST /invocations HTTP/1.1\" 200 696 \"-\" \"Go-http-client/1.1\"\u001b[0m\n",
      "\u001b[34m[2021-10-21:20:06:13:INFO] Determined delimiter of CSV input is ','\u001b[0m\n",
      "\u001b[34m[2021-10-21:20:06:13:INFO] Determined delimiter of CSV input is ','\u001b[0m\n",
      "\u001b[35m169.254.255.130 - - [21/Oct/2021:20:06:12 +0000] \"POST /invocations HTTP/1.1\" 200 696 \"-\" \"Go-http-client/1.1\"\u001b[0m\n",
      "\u001b[35m169.254.255.130 - - [21/Oct/2021:20:06:12 +0000] \"POST /invocations HTTP/1.1\" 200 696 \"-\" \"Go-http-client/1.1\"\u001b[0m\n",
      "\u001b[35m[2021-10-21:20:06:12:INFO] Determined delimiter of CSV input is ','\u001b[0m\n",
      "\u001b[35m[2021-10-21:20:06:12:INFO] Determined delimiter of CSV input is ','\u001b[0m\n",
      "\u001b[35m169.254.255.130 - - [21/Oct/2021:20:06:12 +0000] \"POST /invocations HTTP/1.1\" 200 696 \"-\" \"Go-http-client/1.1\"\u001b[0m\n",
      "\u001b[35m169.254.255.130 - - [21/Oct/2021:20:06:12 +0000] \"POST /invocations HTTP/1.1\" 200 696 \"-\" \"Go-http-client/1.1\"\u001b[0m\n",
      "\u001b[35m[2021-10-21:20:06:12:INFO] Determined delimiter of CSV input is ','\u001b[0m\n",
      "\u001b[35m[2021-10-21:20:06:12:INFO] Determined delimiter of CSV input is ','\u001b[0m\n",
      "\u001b[35m169.254.255.130 - - [21/Oct/2021:20:06:12 +0000] \"POST /invocations HTTP/1.1\" 200 696 \"-\" \"Go-http-client/1.1\"\u001b[0m\n",
      "\u001b[35m[2021-10-21:20:06:12:INFO] Determined delimiter of CSV input is ','\u001b[0m\n",
      "\u001b[35m169.254.255.130 - - [21/Oct/2021:20:06:12 +0000] \"POST /invocations HTTP/1.1\" 200 696 \"-\" \"Go-http-client/1.1\"\u001b[0m\n",
      "\u001b[35m169.254.255.130 - - [21/Oct/2021:20:06:12 +0000] \"POST /invocations HTTP/1.1\" 200 696 \"-\" \"Go-http-client/1.1\"\u001b[0m\n",
      "\u001b[35m169.254.255.130 - - [21/Oct/2021:20:06:13 +0000] \"POST /invocations HTTP/1.1\" 200 696 \"-\" \"Go-http-client/1.1\"\u001b[0m\n",
      "\u001b[35m[2021-10-21:20:06:13:INFO] Determined delimiter of CSV input is ','\u001b[0m\n",
      "\u001b[35m[2021-10-21:20:06:13:INFO] Determined delimiter of CSV input is ','\u001b[0m\n",
      "\u001b[35m[2021-10-21:20:06:13:INFO] Determined delimiter of CSV input is ','\u001b[0m\n",
      "\u001b[35m169.254.255.130 - - [21/Oct/2021:20:06:13 +0000] \"POST /invocations HTTP/1.1\" 200 696 \"-\" \"Go-http-client/1.1\"\u001b[0m\n",
      "\u001b[35m169.254.255.130 - - [21/Oct/2021:20:06:13 +0000] \"POST /invocations HTTP/1.1\" 200 696 \"-\" \"Go-http-client/1.1\"\u001b[0m\n",
      "\u001b[35m169.254.255.130 - - [21/Oct/2021:20:06:13 +0000] \"POST /invocations HTTP/1.1\" 200 696 \"-\" \"Go-http-client/1.1\"\u001b[0m\n",
      "\u001b[35m[2021-10-21:20:06:13:INFO] Determined delimiter of CSV input is ','\u001b[0m\n",
      "\u001b[35m[2021-10-21:20:06:13:INFO] Determined delimiter of CSV input is ','\u001b[0m\n",
      "\u001b[35m169.254.255.130 - - [21/Oct/2021:20:06:13 +0000] \"POST /invocations HTTP/1.1\" 200 696 \"-\" \"Go-http-client/1.1\"\u001b[0m\n",
      "\u001b[35m[2021-10-21:20:06:13:INFO] Determined delimiter of CSV input is ','\u001b[0m\n",
      "\u001b[35m[2021-10-21:20:06:13:INFO] Determined delimiter of CSV input is ','\u001b[0m\n"
     ]
    },
    {
     "name": "stdout",
     "output_type": "stream",
     "text": [
      "\u001b[34m169.254.255.130 - - [21/Oct/2021:20:06:14 +0000] \"POST /invocations HTTP/1.1\" 200 696 \"-\" \"Go-http-client/1.1\"\u001b[0m\n",
      "\u001b[34m169.254.255.130 - - [21/Oct/2021:20:06:14 +0000] \"POST /invocations HTTP/1.1\" 200 696 \"-\" \"Go-http-client/1.1\"\u001b[0m\n",
      "\u001b[34m[2021-10-21:20:06:14:INFO] Determined delimiter of CSV input is ','\u001b[0m\n",
      "\u001b[34m169.254.255.130 - - [21/Oct/2021:20:06:14 +0000] \"POST /invocations HTTP/1.1\" 200 696 \"-\" \"Go-http-client/1.1\"\u001b[0m\n",
      "\u001b[34m169.254.255.130 - - [21/Oct/2021:20:06:14 +0000] \"POST /invocations HTTP/1.1\" 200 696 \"-\" \"Go-http-client/1.1\"\u001b[0m\n",
      "\u001b[34m169.254.255.130 - - [21/Oct/2021:20:06:14 +0000] \"POST /invocations HTTP/1.1\" 200 180 \"-\" \"Go-http-client/1.1\"\u001b[0m\n",
      "\u001b[35m169.254.255.130 - - [21/Oct/2021:20:06:14 +0000] \"POST /invocations HTTP/1.1\" 200 696 \"-\" \"Go-http-client/1.1\"\u001b[0m\n",
      "\u001b[35m169.254.255.130 - - [21/Oct/2021:20:06:14 +0000] \"POST /invocations HTTP/1.1\" 200 696 \"-\" \"Go-http-client/1.1\"\u001b[0m\n",
      "\u001b[35m[2021-10-21:20:06:14:INFO] Determined delimiter of CSV input is ','\u001b[0m\n",
      "\u001b[35m169.254.255.130 - - [21/Oct/2021:20:06:14 +0000] \"POST /invocations HTTP/1.1\" 200 696 \"-\" \"Go-http-client/1.1\"\u001b[0m\n",
      "\u001b[35m169.254.255.130 - - [21/Oct/2021:20:06:14 +0000] \"POST /invocations HTTP/1.1\" 200 696 \"-\" \"Go-http-client/1.1\"\u001b[0m\n",
      "\u001b[35m169.254.255.130 - - [21/Oct/2021:20:06:14 +0000] \"POST /invocations HTTP/1.1\" 200 180 \"-\" \"Go-http-client/1.1\"\u001b[0m\n",
      "\u001b[34m169.254.255.130 - - [21/Oct/2021:20:06:14 +0000] \"POST /invocations HTTP/1.1\" 200 696 \"-\" \"Go-http-client/1.1\"\u001b[0m\n",
      "\u001b[34m169.254.255.130 - - [21/Oct/2021:20:06:14 +0000] \"POST /invocations HTTP/1.1\" 200 696 \"-\" \"Go-http-client/1.1\"\u001b[0m\n",
      "\u001b[35m169.254.255.130 - - [21/Oct/2021:20:06:14 +0000] \"POST /invocations HTTP/1.1\" 200 696 \"-\" \"Go-http-client/1.1\"\u001b[0m\n",
      "\u001b[35m169.254.255.130 - - [21/Oct/2021:20:06:14 +0000] \"POST /invocations HTTP/1.1\" 200 696 \"-\" \"Go-http-client/1.1\"\u001b[0m\n",
      "\u001b[34m169.254.255.130 - - [21/Oct/2021:20:06:14 +0000] \"POST /invocations HTTP/1.1\" 200 696 \"-\" \"Go-http-client/1.1\"\u001b[0m\n",
      "\u001b[34m169.254.255.130 - - [21/Oct/2021:20:06:14 +0000] \"POST /invocations HTTP/1.1\" 200 696 \"-\" \"Go-http-client/1.1\"\u001b[0m\n",
      "\u001b[35m169.254.255.130 - - [21/Oct/2021:20:06:14 +0000] \"POST /invocations HTTP/1.1\" 200 696 \"-\" \"Go-http-client/1.1\"\u001b[0m\n",
      "\u001b[35m169.254.255.130 - - [21/Oct/2021:20:06:14 +0000] \"POST /invocations HTTP/1.1\" 200 696 \"-\" \"Go-http-client/1.1\"\u001b[0m\n",
      "\n"
     ]
    }
   ],
   "source": [
    "xgb_transformer.transform(test_data_loc_s3, content_type='text/csv', split_type='Line')"
   ]
  },
  {
   "cell_type": "code",
   "execution_count": 127,
   "id": "fdd236e0",
   "metadata": {},
   "outputs": [
    {
     "name": "stdout",
     "output_type": "stream",
     "text": [
      "Completed 143.6 KiB/143.6 KiB (937.6 KiB/s) with 1 file(s) remaining\r",
      "download: s3://sagemaker-eu-west-2-146083442879/sagemaker-xgboost-2021-10-21-20-01-22-421/test.csv.out to data/xgboost_output/test.csv.out\r\n"
     ]
    }
   ],
   "source": [
    "!aws s3 cp --recursive $xgb_transformer.output_path $data_dir/xgboost_output"
   ]
  },
  {
   "cell_type": "code",
   "execution_count": 128,
   "id": "263d7abe",
   "metadata": {},
   "outputs": [],
   "source": [
    "xgb_y_pred = pd.read_csv(os.path.join(data_dir, 'xgboost_output', 'test.csv.out'), header=None)"
   ]
  },
  {
   "cell_type": "code",
   "execution_count": 129,
   "id": "05cbcc09",
   "metadata": {},
   "outputs": [
    {
     "data": {
      "text/plain": [
       "array([[4.],\n",
       "       [2.],\n",
       "       [4.],\n",
       "       ...,\n",
       "       [1.],\n",
       "       [3.],\n",
       "       [3.]])"
      ]
     },
     "execution_count": 129,
     "metadata": {},
     "output_type": "execute_result"
    }
   ],
   "source": [
    "xgb_y_pred.values"
   ]
  },
  {
   "cell_type": "code",
   "execution_count": 130,
   "id": "ee855586",
   "metadata": {},
   "outputs": [
    {
     "name": "stdout",
     "output_type": "stream",
     "text": [
      "              precision    recall  f1-score   support\n",
      "\n",
      "           0       0.71      0.71      0.71      3377\n",
      "           1       0.79      0.78      0.78      7802\n",
      "           2       0.75      0.78      0.76      5927\n",
      "           3       0.79      0.81      0.80      9967\n",
      "           4       0.70      0.70      0.70      3653\n",
      "           5       0.70      0.55      0.62      1533\n",
      "           6       0.88      0.86      0.87      4500\n",
      "\n",
      "    accuracy                           0.77     36759\n",
      "   macro avg       0.76      0.74      0.75     36759\n",
      "weighted avg       0.77      0.77      0.77     36759\n",
      "\n",
      "0.7492027174197295\n"
     ]
    }
   ],
   "source": [
    "from sklearn import metrics\n",
    "\n",
    "print(metrics.classification_report(y_test, xgb_y_pred.values))\n",
    "print(metrics.f1_score(y_test, xgb_y_pred.values, average='macro'))"
   ]
  },
  {
   "cell_type": "code",
   "execution_count": 137,
   "id": "467e798c",
   "metadata": {},
   "outputs": [
    {
     "data": {
      "image/png": "[encoded data removed]",
      "text/plain": [
       "<Figure size 720x576 with 2 Axes>"
      ]
     },
     "metadata": {},
     "output_type": "display_data"
    }
   ],
   "source": [
    "conf_matrix_xgb_df = pd.DataFrame(data=confusion_matrix(y_test, xgb_y_pred),index=key_to_product_names, columns=key_to_product_names)\n",
    "\n",
    "plotConfusionMatrixHeatmap(conf_matrix_xgb_df, model_name='XGBoost', figsize=(10, 8))"
   ]
  }
 ],
 "metadata": {
  "kernelspec": {
   "display_name": "conda_pytorch_p36",
   "language": "python",
   "name": "conda_pytorch_p36"
  },
  "language_info": {
   "codemirror_mode": {
    "name": "ipython",
    "version": 3
   },
   "file_extension": ".py",
   "mimetype": "text/x-python",
   "name": "python",
   "nbconvert_exporter": "python",
   "pygments_lexer": "ipython3",
   "version": "3.6.13"
  }
 },
 "nbformat": 4,
 "nbformat_minor": 5
}
